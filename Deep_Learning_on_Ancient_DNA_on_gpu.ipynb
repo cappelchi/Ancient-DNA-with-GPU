{
  "nbformat": 4,
  "nbformat_minor": 0,
  "metadata": {
    "colab": {
      "name": "Deep Learning on Ancient DNA_on_gpu.ipynb",
      "provenance": [],
      "collapsed_sections": [],
      "include_colab_link": true
    },
    "kernelspec": {
      "name": "python3",
      "display_name": "Python 3"
    },
    "accelerator": "GPU"
  },
  "cells": [
    {
      "cell_type": "markdown",
      "metadata": {
        "id": "view-in-github",
        "colab_type": "text"
      },
      "source": [
        "<a href=\"https://colab.research.google.com/github/cappelchi/Ancient-DNA-with-TPU/blob/master/Deep_Learning_on_Ancient_DNA_on_gpu.ipynb\" target=\"_parent\"><img src=\"https://colab.research.google.com/assets/colab-badge.svg\" alt=\"Open In Colab\"/></a>"
      ]
    },
    {
      "cell_type": "markdown",
      "metadata": {
        "id": "BFXn7cMP1sUp",
        "colab_type": "text"
      },
      "source": [
        "#Глубокое обучение и ископаемый ДНК"
      ]
    },
    {
      "cell_type": "markdown",
      "metadata": {
        "id": "5GdkrIcD1xez",
        "colab_type": "text"
      },
      "source": [
        "По мотивам работы Николая Осколкова"
      ]
    },
    {
      "cell_type": "markdown",
      "metadata": {
        "id": "YJFF1h3D2u8b",
        "colab_type": "text"
      },
      "source": [
        "![alt text](https://www.thoughtco.com/thmb/9wjhjLVIZgTV6gNVFwX3BEN99T4=/2000x1503/filters:no_upscale():max_bytes(150000):strip_icc()/gobero_12-56a020515f9b58eba4af151a.jpg)"
      ]
    },
    {
      "cell_type": "code",
      "metadata": {
        "id": "Q2ayA2h8vFoZ",
        "colab_type": "code",
        "colab": {}
      },
      "source": [
        "need_to_load = True"
      ],
      "execution_count": 0,
      "outputs": []
    },
    {
      "cell_type": "code",
      "metadata": {
        "id": "ktZVhIPJNdTv",
        "colab_type": "code",
        "colab": {}
      },
      "source": [
        "if need_to_load:\n",
        "    !pip install pysam"
      ],
      "execution_count": 0,
      "outputs": []
    },
    {
      "cell_type": "code",
      "metadata": {
        "id": "5PBUgXRADjwf",
        "colab_type": "code",
        "colab": {}
      },
      "source": [
        "!pip install tensorflow==2.1"
      ],
      "execution_count": 0,
      "outputs": []
    },
    {
      "cell_type": "code",
      "metadata": {
        "id": "xsM5uh1ONH8l",
        "colab_type": "code",
        "colab": {}
      },
      "source": [
        "import os\n",
        "import numpy as np\n",
        "import pysam\n",
        "from google.colab import files\n",
        "from tqdm import tqdm\n",
        "import seaborn as sns\n",
        "import matplotlib.pyplot as plt\n",
        "from sklearn.preprocessing import LabelEncoder, OneHotEncoder\n",
        "import time\n",
        "from sklearn.model_selection import train_test_split\n",
        "import datetime"
      ],
      "execution_count": 0,
      "outputs": []
    },
    {
      "cell_type": "code",
      "metadata": {
        "id": "wohktEUL8Cop",
        "colab_type": "code",
        "outputId": "abe00841-b4e7-493c-9bcf-da78f01a2e11",
        "colab": {
          "base_uri": "https://localhost:8080/",
          "height": 1000
        }
      },
      "source": [
        "if need_to_load:\n",
        "    !wget 'ftp://ftp.ebi.ac.uk/pub/databases/ensembl/neandertal/BAM_files/Neandertal.bam'\n",
        "    !wget 'ftp://ftp.ebi.ac.uk/pub/databases/ensembl/neandertal/BAM_files/Neandertal.bam.bai'\n",
        "    !wget 'ftp://ftp.ebi.ac.uk/pub/databases/ensembl/neandertal/BAM_files/French.bam'\n",
        "    !wget 'ftp://ftp.ebi.ac.uk/pub/databases/ensembl/neandertal/BAM_files/French.bam.bai'"
      ],
      "execution_count": 4,
      "outputs": [
        {
          "output_type": "stream",
          "text": [
            "--2020-01-16 09:00:37--  ftp://ftp.ebi.ac.uk/pub/databases/ensembl/neandertal/BAM_files/Neandertal.bam\n",
            "           => ‘Neandertal.bam’\n",
            "Resolving ftp.ebi.ac.uk (ftp.ebi.ac.uk)... 193.62.193.138\n",
            "Connecting to ftp.ebi.ac.uk (ftp.ebi.ac.uk)|193.62.193.138|:21... connected.\n",
            "Logging in as anonymous ... Logged in!\n",
            "==> SYST ... done.    ==> PWD ... done.\n",
            "==> TYPE I ... done.  ==> CWD (1) /pub/databases/ensembl/neandertal/BAM_files ... done.\n",
            "==> SIZE Neandertal.bam ... 4145696756\n",
            "==> PASV ... done.    ==> RETR Neandertal.bam ... done.\n",
            "Length: 4145696756 (3.9G) (unauthoritative)\n",
            "\n",
            "Neandertal.bam      100%[===================>]   3.86G  17.1MB/s    in 4m 16s  \n",
            "\n",
            "2020-01-16 09:04:55 (15.4 MB/s) - ‘Neandertal.bam’ saved [4145696756]\n",
            "\n",
            "--2020-01-16 09:04:56--  ftp://ftp.ebi.ac.uk/pub/databases/ensembl/neandertal/BAM_files/Neandertal.bam.bai\n",
            "           => ‘Neandertal.bam.bai’\n",
            "Resolving ftp.ebi.ac.uk (ftp.ebi.ac.uk)... 193.62.197.74\n",
            "Connecting to ftp.ebi.ac.uk (ftp.ebi.ac.uk)|193.62.197.74|:21... connected.\n",
            "Logging in as anonymous ... Logged in!\n",
            "==> SYST ... done.    ==> PWD ... done.\n",
            "==> TYPE I ... done.  ==> CWD (1) /pub/databases/ensembl/neandertal/BAM_files ... done.\n",
            "==> SIZE Neandertal.bam.bai ... 7705264\n",
            "==> PASV ... done.    ==> RETR Neandertal.bam.bai ... done.\n",
            "Length: 7705264 (7.3M) (unauthoritative)\n",
            "\n",
            "Neandertal.bam.bai  100%[===================>]   7.35M  7.98MB/s    in 0.9s    \n",
            "\n",
            "2020-01-16 09:04:58 (7.98 MB/s) - ‘Neandertal.bam.bai’ saved [7705264]\n",
            "\n",
            "--2020-01-16 09:04:59--  ftp://ftp.ebi.ac.uk/pub/databases/ensembl/neandertal/BAM_files/French.bam\n",
            "           => ‘French.bam’\n",
            "Resolving ftp.ebi.ac.uk (ftp.ebi.ac.uk)... 193.62.197.74\n",
            "Connecting to ftp.ebi.ac.uk (ftp.ebi.ac.uk)|193.62.197.74|:21... connected.\n",
            "Logging in as anonymous ... Logged in!\n",
            "==> SYST ... done.    ==> PWD ... done.\n",
            "==> TYPE I ... done.  ==> CWD (1) /pub/databases/ensembl/neandertal/BAM_files ... done.\n",
            "==> SIZE French.bam ... 15697578826\n",
            "==> PASV ... done.    ==> RETR French.bam ... done.\n",
            "Length: 15697578826 (15G) (unauthoritative)\n",
            "\n",
            "French.bam          100%[===================>]  14.62G  28.7MB/s    in 8m 41s  \n",
            "\n",
            "2020-01-16 09:13:41 (28.7 MB/s) - ‘French.bam’ saved [15697578826]\n",
            "\n",
            "--2020-01-16 09:13:42--  ftp://ftp.ebi.ac.uk/pub/databases/ensembl/neandertal/BAM_files/French.bam.bai\n",
            "           => ‘French.bam.bai’\n",
            "Resolving ftp.ebi.ac.uk (ftp.ebi.ac.uk)... 193.62.197.74\n",
            "Connecting to ftp.ebi.ac.uk (ftp.ebi.ac.uk)|193.62.197.74|:21... connected.\n",
            "Logging in as anonymous ... Logged in!\n",
            "==> SYST ... done.    ==> PWD ... done.\n",
            "==> TYPE I ... done.  ==> CWD (1) /pub/databases/ensembl/neandertal/BAM_files ... done.\n",
            "==> SIZE French.bam.bai ... 8281336\n",
            "==> PASV ... done.    ==> RETR French.bam.bai ... done.\n",
            "Length: 8281336 (7.9M) (unauthoritative)\n",
            "\n",
            "French.bam.bai      100%[===================>]   7.90M  8.97MB/s    in 0.9s    \n",
            "\n",
            "2020-01-16 09:13:45 (8.97 MB/s) - ‘French.bam.bai’ saved [8281336]\n",
            "\n"
          ],
          "name": "stdout"
        }
      ]
    },
    {
      "cell_type": "code",
      "metadata": {
        "id": "Y64EX_zBNmQP",
        "colab_type": "code",
        "colab": {}
      },
      "source": [
        "neand = pysam.AlignmentFile('Neandertal.bam', 'rb')"
      ],
      "execution_count": 0,
      "outputs": []
    },
    {
      "cell_type": "code",
      "metadata": {
        "id": "5nQaPpZjD4wz",
        "colab_type": "code",
        "colab": {}
      },
      "source": [
        "iter = neand.fetch('chr1', 0, 249000000)"
      ],
      "execution_count": 0,
      "outputs": []
    },
    {
      "cell_type": "code",
      "metadata": {
        "id": "AHvIExyrXM8r",
        "colab_type": "code",
        "colab": {}
      },
      "source": [
        "neand_lengths =[]"
      ],
      "execution_count": 0,
      "outputs": []
    },
    {
      "cell_type": "code",
      "metadata": {
        "id": "trJbEenWXSwk",
        "colab_type": "code",
        "colab": {}
      },
      "source": [
        "for i in iter:\n",
        "    neand_lengths.append(i.infer_query_length())"
      ],
      "execution_count": 0,
      "outputs": []
    },
    {
      "cell_type": "code",
      "metadata": {
        "id": "JPc4zqtbXzqE",
        "colab_type": "code",
        "outputId": "8d77773d-08ad-4d43-bd5f-611b713db087",
        "colab": {
          "base_uri": "https://localhost:8080/",
          "height": 900
        }
      },
      "source": [
        "plt.figure(figsize=(20,15))\n",
        "sns.distplot(neand_lengths)\n",
        "plt.show"
      ],
      "execution_count": 6,
      "outputs": [
        {
          "output_type": "execute_result",
          "data": {
            "text/plain": [
              "<function matplotlib.pyplot.show>"
            ]
          },
          "metadata": {
            "tags": []
          },
          "execution_count": 6
        },
        {
          "output_type": "display_data",
          "data": {
            "image/png": "[encoded data removed]",
            "text/plain": [
              "<Figure size 1440x1080 with 1 Axes>"
            ]
          },
          "metadata": {
            "tags": []
          }
        }
      ]
    },
    {
      "cell_type": "code",
      "metadata": {
        "id": "YeJfZPA1aIN1",
        "colab_type": "code",
        "outputId": "df1122fb-9589-4195-aea7-d2d0035047d7",
        "colab": {
          "base_uri": "https://localhost:8080/",
          "height": 53
        }
      },
      "source": [
        "# Отбираем сиквенсы по 76 нуклеотидов\n",
        "neand_seqs = []\n",
        "for j in tqdm(range(1, 11)):\n",
        "    iter = neand.fetch('chr' + str(j))\n",
        "    for i in iter:\n",
        "        if i.infer_query_length() == 76:\n",
        "            s = str(i.get_forward_sequence())\n",
        "            if s.count('A') > 0 and s.count('C') > 0 and s.count('G') > 0 and s.count('T') > 0 and 'N' not in s:\n",
        "                neand_seqs.append(i.get_forward_sequence())\n",
        "\n",
        "# Read modern DNA sample\n",
        "modern = pysam.AlignmentFile('French.bam', 'rb')\n",
        "modern_seqs = []\n",
        "for j in tqdm(range (1, 11)):\n",
        "    iter = modern.fetch('chr' + str(j))\n",
        "    for i in iter:\n",
        "        if len(modern_seqs) == len(neand_seqs):\n",
        "            break\n",
        "        else:\n",
        "            s = str(i.get_forward_sequence())\n",
        "            if s.count('A') > 0 and s.count('C') > 0 and s.count('G') > 0 and s.count('T') > 0 and 'N' not in s:\n",
        "                modern_seqs.append(i.get_forward_sequence())\n",
        "sequences = neand_seqs + modern_seqs\n",
        "labels = list(np.ones(len(neand_seqs))) + list(np.zeros(len(modern_seqs)))"
      ],
      "execution_count": 7,
      "outputs": [
        {
          "output_type": "stream",
          "text": [
            "100%|██████████| 10/10 [01:08<00:00,  5.82s/it]\n",
            "100%|██████████| 10/10 [00:01<00:00,  6.38it/s]\n"
          ],
          "name": "stderr"
        }
      ]
    },
    {
      "cell_type": "code",
      "metadata": {
        "id": "3ocBLss_HaFB",
        "colab_type": "code",
        "colab": {}
      },
      "source": [
        "# Кодируем каждую букву ACGT (0001, 0010, 0100, 1000)\n",
        "integer_encoder = LabelEncoder()\n",
        "one_hot_encoder = OneHotEncoder(categories= 'auto')\n",
        "input_features = []"
      ],
      "execution_count": 0,
      "outputs": []
    },
    {
      "cell_type": "code",
      "metadata": {
        "id": "6f8hvLB9XlU3",
        "colab_type": "code",
        "outputId": "3f293736-720a-4808-f3e5-de80d1f09427",
        "colab": {
          "base_uri": "https://localhost:8080/",
          "height": 35
        }
      },
      "source": [
        "for sequence in tqdm(sequences):\n",
        "  integer_encoded = integer_encoder.fit_transform(list(sequence))\n",
        "  integer_encoded = np.array(integer_encoded).reshape(-1, 1)\n",
        "  one_hot_encoded = one_hot_encoder.fit_transform(integer_encoded)\n",
        "  input_features.append(one_hot_encoded.toarray())"
      ],
      "execution_count": 9,
      "outputs": [
        {
          "output_type": "stream",
          "text": [
            "100%|██████████| 530480/530480 [03:50<00:00, 2297.64it/s]\n"
          ],
          "name": "stderr"
        }
      ]
    },
    {
      "cell_type": "code",
      "metadata": {
        "id": "fdMAy2EyzTwe",
        "colab_type": "code",
        "outputId": "524b6f82-dfc3-42d9-f22c-04cdc02ac39c",
        "colab": {
          "base_uri": "https://localhost:8080/",
          "height": 35
        }
      },
      "source": [
        "np.shape(input_features)"
      ],
      "execution_count": 10,
      "outputs": [
        {
          "output_type": "execute_result",
          "data": {
            "text/plain": [
              "(530480, 76, 4)"
            ]
          },
          "metadata": {
            "tags": []
          },
          "execution_count": 10
        }
      ]
    },
    {
      "cell_type": "code",
      "metadata": {
        "id": "HNnW2g8pfJpk",
        "colab_type": "code",
        "outputId": "ee7ebd70-15b7-4be3-ffc7-02795fcd1e0b",
        "colab": {
          "base_uri": "https://localhost:8080/",
          "height": 177
        }
      },
      "source": [
        "np.set_printoptions(threshold = 40)\n",
        "input_features = np.stack(input_features)\n",
        "print('Образец сиквенса \\n-----------------------')\n",
        "print('ДНК сиквенс #1:\\n',sequences[0][:10],'...',sequences[0][-10:])\n",
        "print('Кодирование сиквенса one-hot #1:\\n',input_features[0].T)"
      ],
      "execution_count": 11,
      "outputs": [
        {
          "output_type": "stream",
          "text": [
            "Образец сиквенса \n",
            "-----------------------\n",
            "ДНК сиквенс #1:\n",
            " AAATCATCAG ... CTCCAAAACT\n",
            "Кодирование сиквенса one-hot #1:\n",
            " [[1. 1. 1. ... 1. 0. 0.]\n",
            " [0. 0. 0. ... 0. 1. 0.]\n",
            " [0. 0. 0. ... 0. 0. 0.]\n",
            " [0. 0. 0. ... 0. 0. 1.]]\n"
          ],
          "name": "stdout"
        }
      ]
    },
    {
      "cell_type": "code",
      "metadata": {
        "id": "zsX8zGvp2Yz7",
        "colab_type": "code",
        "outputId": "65ac6d94-ec55-43ac-90b1-8bdfa49b8773",
        "colab": {
          "base_uri": "https://localhost:8080/",
          "height": 106
        }
      },
      "source": [
        "# Разметка\n",
        "one_hot_encoder = OneHotEncoder(categories='auto')\n",
        "labels = np.array(labels).reshape(-1, 1)\n",
        "input_labels = one_hot_encoder.fit_transform(labels).toarray()\n",
        "print('Категории:\\n',labels.T)\n",
        "print('One-hot кодировка:\\n',input_labels.T)"
      ],
      "execution_count": 12,
      "outputs": [
        {
          "output_type": "stream",
          "text": [
            "Категории:\n",
            " [[1. 1. 1. ... 0. 0. 0.]]\n",
            "One-hot кодировка:\n",
            " [[0. 0. 0. ... 1. 1. 1.]\n",
            " [1. 1. 1. ... 0. 0. 0.]]\n"
          ],
          "name": "stdout"
        }
      ]
    },
    {
      "cell_type": "code",
      "metadata": {
        "id": "tSnwscuN1Mn4",
        "colab_type": "code",
        "colab": {}
      },
      "source": [
        "#input_labels = np.expand_dims(input_labels, axis = 1) # run if ses2sec Wavenet"
      ],
      "execution_count": 0,
      "outputs": []
    },
    {
      "cell_type": "code",
      "metadata": {
        "id": "amkSZlAjeSoN",
        "colab_type": "code",
        "colab": {}
      },
      "source": [
        "#input_features = np.expand_dims(input_features, axis = -1) # run if 2DConv"
      ],
      "execution_count": 0,
      "outputs": []
    },
    {
      "cell_type": "code",
      "metadata": {
        "id": "Ry8s4j9G94Y0",
        "colab_type": "code",
        "colab": {}
      },
      "source": [
        "input_features = input_features.astype(np.float32)\n",
        "input_labels = input_labels.astype(np.float32)"
      ],
      "execution_count": 0,
      "outputs": []
    },
    {
      "cell_type": "code",
      "metadata": {
        "id": "SedbHU18Bkz6",
        "colab_type": "code",
        "colab": {
          "base_uri": "https://localhost:8080/",
          "height": 55
        },
        "outputId": "77271120-56d7-4045-cfa4-7abdb4e74eec"
      },
      "source": [
        "'''\n",
        "arr_label_name = 'dna_input_labels.npy'\n",
        "arr_features_name = 'dna_input_features.npy'\n",
        "path_l = F'/content/drive/My Drive/Colab Notebooks/Ancient DNA/{arr_label_name}'\n",
        "path_f = F'/content/drive/My Drive/Colab Notebooks/Ancient DNA/{arr_features_name}'\n",
        "np.save(path_l, input_labels)\n",
        "np.save(path_f, input_features)\n",
        "#np.save('dna_input_features', input_features)\n",
        "'''"
      ],
      "execution_count": 19,
      "outputs": [
        {
          "output_type": "execute_result",
          "data": {
            "text/plain": [
              "\"\\narr_label_name = 'dna_input_labels.npy'\\narr_features_name = 'dna_input_features.npy'\\npath_l = F'/content/drive/My Drive/Colab Notebooks/Ancient DNA/{arr_label_name}'\\npath_f = F'/content/drive/My Drive/Colab Notebooks/Ancient DNA/{arr_features_name}'\\nnp.save(path_l, input_labels)\\nnp.save(path_f, input_features)\\n#np.save('dna_input_features', input_features)\\n\""
            ]
          },
          "metadata": {
            "tags": []
          },
          "execution_count": 19
        }
      ]
    },
    {
      "cell_type": "code",
      "metadata": {
        "id": "exeZQnwTA2x5",
        "colab_type": "code",
        "colab": {}
      },
      "source": [
        "#from google.colab import drive\n",
        "#drive.mount('/content/drive')"
      ],
      "execution_count": 0,
      "outputs": []
    },
    {
      "cell_type": "code",
      "metadata": {
        "id": "kV6bI9d0juPx",
        "colab_type": "code",
        "colab": {}
      },
      "source": [
        "train_features, test_features, train_labels, test_labels = train_test_split(\n",
        "    input_features, input_labels,\n",
        "    test_size = 0.25, random_state = 42\n",
        "    )"
      ],
      "execution_count": 0,
      "outputs": []
    },
    {
      "cell_type": "code",
      "metadata": {
        "id": "X2UN6MyAfm8w",
        "colab_type": "code",
        "outputId": "e5db7d03-666e-465f-bdaa-b3211a4f3d6d",
        "colab": {
          "base_uri": "https://localhost:8080/",
          "height": 53
        }
      },
      "source": [
        "import os\n",
        "import tensorflow as tf\n",
        "import tensorflow.keras\n",
        "from tensorflow.keras.optimizers import SGD, Adam, Adadelta\n",
        "from tensorflow.keras.layers import Conv1D, Dense, MaxPooling1D, Flatten\n",
        "from tensorflow.keras.layers import BatchNormalization, Dropout, Lambda, Conv2D, MaxPooling2D, concatenate\n",
        "from tensorflow.keras.models import Sequential\n",
        "from tensorflow.keras.regularizers import l2, l1\n",
        "from tensorflow.keras.callbacks import TensorBoard,ModelCheckpoint\n",
        "import tensorflow.keras.backend as K\n",
        "#from keras.applications import DenseNet121 as DenseNet\n",
        "\n",
        "print (tf.__version__)\n",
        "print(tf.keras.__version__)"
      ],
      "execution_count": 15,
      "outputs": [
        {
          "output_type": "stream",
          "text": [
            "2.1.0\n",
            "2.2.4-tf\n"
          ],
          "name": "stdout"
        }
      ]
    },
    {
      "cell_type": "code",
      "metadata": {
        "id": "dURi9Dn1zGJ6",
        "colab_type": "code",
        "outputId": "6f8526b4-4a3b-4dc1-f3d1-fb23530ad2a5",
        "colab": {
          "base_uri": "https://localhost:8080/",
          "height": 53
        }
      },
      "source": [
        "#Проверяем наличие GPU\n",
        "gpus = tf.config.experimental.list_logical_devices(\"GPU\")\n",
        "if len(gpus) > 1:\n",
        "  strategy = tf.distribute.MirroredStrategy([gpu.name for gpu in gpus])\n",
        "  print('Running on multiple GPUs ', [gpu.name for gpu in gpus])\n",
        "elif len(gpus) == 1:\n",
        "  strategy = tf.distribute.get_strategy() # default strategy that works on CPU and single GPU\n",
        "  print('Running on single GPU ', gpus[0].name)\n",
        "else:\n",
        "  strategy = tf.distribute.get_strategy() # default strategy that works on CPU and single GPU\n",
        "  print('Running on CPU')\n",
        "print(\"Number of accelerators: \", strategy.num_replicas_in_sync)"
      ],
      "execution_count": 16,
      "outputs": [
        {
          "output_type": "stream",
          "text": [
            "Running on single GPU  /device:GPU:0\n",
            "Number of accelerators:  1\n"
          ],
          "name": "stdout"
        }
      ]
    },
    {
      "cell_type": "code",
      "metadata": {
        "id": "zqIil5hSIT6h",
        "colab_type": "code",
        "colab": {}
      },
      "source": [
        "batch_size = 1024\n",
        "steps_per_epoch = 388\n",
        "validation_steps = 129"
      ],
      "execution_count": 0,
      "outputs": []
    },
    {
      "cell_type": "code",
      "metadata": {
        "id": "sRk4PG9Yhv6u",
        "colab_type": "code",
        "outputId": "a3779295-2c4b-447c-fc1e-8ae0e7fd05bb",
        "colab": {
          "base_uri": "https://localhost:8080/",
          "height": 35
        }
      },
      "source": [
        "def train_input_fn(train_features, train_labels, batch_size=batch_size, steps_per_epoch = steps_per_epoch):\n",
        "                           \n",
        "    dataset = tf.data.Dataset.from_tensor_slices((train_features, train_labels)) \n",
        "    dataset = dataset.cache()    \n",
        "    dataset = dataset.shuffle(steps_per_epoch, reshuffle_each_iteration = False)\n",
        "    dataset = dataset.repeat() \n",
        "    dataset = dataset.batch(batch_size, drop_remainder=True)\n",
        "\n",
        "    return dataset\n",
        "train_input_fn(train_features, train_labels)"
      ],
      "execution_count": 18,
      "outputs": [
        {
          "output_type": "execute_result",
          "data": {
            "text/plain": [
              "<BatchDataset shapes: ((1024, 76, 4), (1024, 2)), types: (tf.float32, tf.float32)>"
            ]
          },
          "metadata": {
            "tags": []
          },
          "execution_count": 18
        }
      ]
    },
    {
      "cell_type": "code",
      "metadata": {
        "id": "Fw7Q-u2vih2n",
        "colab_type": "code",
        "outputId": "e6cfc55e-7894-4944-8fb3-f832910424dd",
        "colab": {
          "base_uri": "https://localhost:8080/",
          "height": 35
        }
      },
      "source": [
        "def test_input_fn(test_features, test_labels, batch_size=batch_size, validation_steps = validation_steps):\n",
        "    \n",
        "    dataset = tf.data.Dataset.from_tensor_slices((test_features, test_labels))\n",
        "    dataset = dataset.cache()\n",
        "    dataset = dataset.shuffle(validation_steps, reshuffle_each_iteration = False)\n",
        "    dataset = dataset.repeat()\n",
        "    dataset = dataset.batch(batch_size, drop_remainder=True)\n",
        "\n",
        "    return dataset\n",
        "test_input_fn(test_features, test_labels)"
      ],
      "execution_count": 19,
      "outputs": [
        {
          "output_type": "execute_result",
          "data": {
            "text/plain": [
              "<BatchDataset shapes: ((1024, 76, 4), (1024, 2)), types: (tf.float32, tf.float32)>"
            ]
          },
          "metadata": {
            "tags": []
          },
          "execution_count": 19
        }
      ]
    },
    {
      "cell_type": "code",
      "metadata": {
        "id": "Yt9Q8Qeaxc1L",
        "colab_type": "code",
        "colab": {}
      },
      "source": [
        "training_dataset = train_input_fn(train_features, train_labels)\n",
        "test_dataset = test_input_fn(test_features, test_labels)"
      ],
      "execution_count": 0,
      "outputs": []
    },
    {
      "cell_type": "code",
      "metadata": {
        "id": "DUeQ6hIsJH-e",
        "colab_type": "code",
        "colab": {}
      },
      "source": [
        "def make_model(\n",
        "    nt_length = 76,\n",
        "    n_filters = 32,\n",
        "    batch_size = batch_size,\n",
        "    learning_rate = 0.000025\n",
        "    ):\n",
        "\n",
        "    input_shape = (nt_length, 4)\n",
        "    \n",
        "    input_window = tf.keras.Input(\n",
        "          name='input', \n",
        "          shape=input_shape, \n",
        "          batch_size = batch_size, \n",
        "          dtype=tf.float32\n",
        "          )\n",
        "    \n",
        "    input = input_window\n",
        "    x = Conv1D(filters = n_filters, kernel_size = 15, padding = 'same', \n",
        "                    kernel_initializer = 'he_uniform', \n",
        "                    #input_shape = input_shape, \n",
        "                    activation = 'selu',\n",
        "                    kernel_regularizer=l2(0.001))(input)\n",
        "\n",
        "    #merge = concatenate([x, input])\n",
        "    x = Conv1D(filters = n_filters, kernel_size = 9, padding = 'same', \n",
        "                    kernel_initializer = 'he_uniform', \n",
        "                    activation = 'selu',\n",
        "                    kernel_regularizer=l2(0.001))(x)\n",
        "\n",
        "\n",
        "    #merge = concatenate([x, input])\n",
        "    x = MaxPooling1D(pool_size = 9)(x)\n",
        "\n",
        "    x = Flatten()(x)\n",
        "    x = BatchNormalization()(x)\n",
        "    x = Dense(16, kernel_initializer = 'he_uniform', activation = 'sigmoid',\n",
        "            kernel_regularizer = l2(0.001))(x)\n",
        "    x = Dense(8, kernel_initializer = 'he_uniform', activation = 'sigmoid',\n",
        "            kernel_regularizer = l2(0.001))(x)\n",
        "    x = Dropout(.2)(x)\n",
        "    output = Dense(2, activation = 'softmax')(x)\n",
        "    model = tf.keras.Model(inputs = [input_window], outputs = [output])\n",
        "    learning_rate = learning_rate\n",
        "    opt = tf.compat.v1.train.AdamOptimizer(learning_rate)\n",
        "    #model.summary()\n",
        "    model.compile(\n",
        "                   optimizer = opt,\n",
        "                   loss = 'binary_crossentropy',\n",
        "                   metrics = [f1_metrics, 'accuracy'],\n",
        "                   #metrics = [precision]\n",
        "             )\n",
        "    return model"
      ],
      "execution_count": 0,
      "outputs": []
    },
    {
      "cell_type": "code",
      "metadata": {
        "id": "bvyi4xw6nFEw",
        "colab_type": "code",
        "colab": {}
      },
      "source": [
        "#model = tf.keras.Model(inputs = [input_window], outputs = [output])"
      ],
      "execution_count": 0,
      "outputs": []
    },
    {
      "cell_type": "code",
      "metadata": {
        "id": "Oide1rB_LOcO",
        "colab_type": "code",
        "colab": {}
      },
      "source": [
        "def f1_metrics(y_true, y_pred):\n",
        "    # кастомная метрика F1    \n",
        "    bs = K.cast(K.shape(y_pred)[1], 'float')\n",
        "    \n",
        "    tp = K.sum(K.cast(y_true*y_pred, 'float'), axis=0) \n",
        "    tn = K.sum(K.cast((1-y_true)*(1-y_pred), 'float'), axis=0) \n",
        "    fp = K.sum(K.cast((1-y_true)*y_pred, 'float'), axis=0) \n",
        "    fn = K.sum(K.cast(y_true*(1-y_pred), 'float'), axis=0) \n",
        "\n",
        "    p = tp / (bs * (tp + fp))\n",
        "    r = tp / (bs * (tp + fn))    \n",
        "    \n",
        "    f1 = 2 * p * r / (p + r)\n",
        "    f1 = tf.where(tf.math.is_nan(f1), tf.zeros_like(f1), f1)\n",
        "    return K.mean(f1)"
      ],
      "execution_count": 0,
      "outputs": []
    },
    {
      "cell_type": "code",
      "metadata": {
        "id": "gAlZS3VfLV3P",
        "colab_type": "code",
        "colab": {}
      },
      "source": [
        "class MyCustomCallback(tf.keras.callbacks.Callback):\n",
        "    # Кастомные колбэки\n",
        "    def on_train_begin(self, logs={}):\n",
        "        #self.f1_metrics = []\n",
        "        self.f1 = 0.0 # здесь будем хранить макс f1\n",
        "        \n",
        "    def on_epoch_end(self, epoch, logs = {}):\n",
        "        #print ('logs:', logs)\n",
        "        pred_f1 = logs.get('val_f1_metrics')\n",
        "      \n",
        "        if pred_f1 > self.f1:\n",
        "            self.f1 = pred_f1\n",
        "            print(f'\\n Best F1 {self.f1} on epoch: {epoch}')\n",
        "            model.save_weights(f'Weights_{time.strftime(\"%H.%M\", time.localtime())}_ep{epoch}_f1_{str(self.f1)[0:4]}.h5', overwrite = True)"
      ],
      "execution_count": 0,
      "outputs": []
    },
    {
      "cell_type": "code",
      "metadata": {
        "id": "MeY9Moq8NSJN",
        "colab_type": "code",
        "colab": {}
      },
      "source": [
        "with strategy.scope():\n",
        "    # Компилируем модель\n",
        "    model = make_model()\n",
        "epochs = 200"
      ],
      "execution_count": 0,
      "outputs": []
    },
    {
      "cell_type": "code",
      "metadata": {
        "id": "b48dQTqlouXl",
        "colab_type": "code",
        "outputId": "0f6b0dcd-41c3-442f-fee8-af196b05e180",
        "colab": {
          "base_uri": "https://localhost:8080/",
          "height": 248
        }
      },
      "source": [
        "if need_to_load:\n",
        "    !wget https://bin.equinox.io/c/4VmDzA7iaHb/ngrok-stable-linux-amd64.zip\n",
        "    !unzip ngrok-stable-linux-amd64.zip"
      ],
      "execution_count": 27,
      "outputs": [
        {
          "output_type": "stream",
          "text": [
            "--2020-01-16 09:49:04--  https://bin.equinox.io/c/4VmDzA7iaHb/ngrok-stable-linux-amd64.zip\n",
            "Resolving bin.equinox.io (bin.equinox.io)... 52.73.84.118, 34.230.145.192, 52.204.140.35, ...\n",
            "Connecting to bin.equinox.io (bin.equinox.io)|52.73.84.118|:443... connected.\n",
            "HTTP request sent, awaiting response... 200 OK\n",
            "Length: 13773305 (13M) [application/octet-stream]\n",
            "Saving to: ‘ngrok-stable-linux-amd64.zip.1’\n",
            "\n",
            "\r          ngrok-sta   0%[                    ]       0  --.-KB/s               \r         ngrok-stab  12%[=>                  ]   1.70M  8.50MB/s               \rngrok-stable-linux- 100%[===================>]  13.13M  38.3MB/s    in 0.3s    \n",
            "\n",
            "2020-01-16 09:49:04 (38.3 MB/s) - ‘ngrok-stable-linux-amd64.zip.1’ saved [13773305/13773305]\n",
            "\n",
            "Archive:  ngrok-stable-linux-amd64.zip\n",
            "replace ngrok? [y]es, [n]o, [A]ll, [N]one, [r]ename: n\n"
          ],
          "name": "stdout"
        }
      ]
    },
    {
      "cell_type": "code",
      "metadata": {
        "id": "neB85oo_BF48",
        "colab_type": "code",
        "outputId": "b5b970e9-1a42-49f5-982d-9d62cac95707",
        "colab": {
          "base_uri": "https://localhost:8080/",
          "height": 35
        }
      },
      "source": [
        "LOG_DIR = './log'  \n",
        "get_ipython().system_raw(\n",
        "    'tensorboard --logdir {} --host 0.0.0.0 --port 6006 &'\n",
        "    .format(LOG_DIR)\n",
        ")\n",
        "get_ipython().system_raw('./ngrok http 6006 &')\n",
        "\n",
        "! curl -s http://localhost:4040/api/tunnels | python3 -c \\\n",
        "    \"import sys, json; print(json.load(sys.stdin)['tunnels'][0]['public_url'])\"\n"
      ],
      "execution_count": 28,
      "outputs": [
        {
          "output_type": "stream",
          "text": [
            "https://1a0ced28.ngrok.io\n"
          ],
          "name": "stdout"
        }
      ]
    },
    {
      "cell_type": "code",
      "metadata": {
        "id": "mSL_c8TXo373",
        "colab_type": "code",
        "outputId": "8c4cb383-0f4d-4b7d-a4b0-90dfda9a1068",
        "colab": {
          "base_uri": "https://localhost:8080/",
          "height": 1000
        }
      },
      "source": [
        "NAME = f'Ancient_DNA {time.strftime(\"%Y-%m-%d-%H.%M.%S\", time.localtime())}'\n",
        "log_dir = f'./log/{NAME}'\n",
        "tensorboard = TensorBoard(log_dir = log_dir)\n",
        "checkpointer = ModelCheckpoint(filepath='./Ancient_DNA_1.h5',monitor='val_acc', verbose=0, \n",
        "                               save_best_only=True, save_weights_only = True) # save best model\n",
        "\n",
        "start_training = datetime.datetime.now()\n",
        "#Тренируем сетку\n",
        "history = model.fit(training_dataset,                                                 \n",
        "                         steps_per_epoch = steps_per_epoch,\n",
        "                         epochs = 200,\n",
        "                         validation_data = test_dataset,                        \n",
        "                         validation_steps = validation_steps,\n",
        "                         callbacks = [\n",
        "                                      tensorboard,                                      \n",
        "                                      MyCustomCallback()\n",
        "                                     ]\n",
        "                                   )\n",
        "print('Training time = ', datetime.datetime.now() - start_training)"
      ],
      "execution_count": 29,
      "outputs": [
        {
          "output_type": "stream",
          "text": [
            "Train for 388 steps, validate for 129 steps\n",
            "Epoch 1/200\n",
            "382/388 [============================>.] - ETA: 0s - loss: 0.8461 - f1_metrics: 0.2633 - accuracy: 0.5813\n",
            " Best F1 0.2808821499347687 on epoch: 0\n",
            "388/388 [==============================] - 12s 32ms/step - loss: 0.8453 - f1_metrics: 0.2636 - accuracy: 0.5825 - val_loss: 0.7642 - val_f1_metrics: 0.2809 - val_accuracy: 0.7447\n",
            "Epoch 2/200\n",
            "386/388 [============================>.] - ETA: 0s - loss: 0.7501 - f1_metrics: 0.2905 - accuracy: 0.7113\n",
            " Best F1 0.3009220361709595 on epoch: 1\n",
            "388/388 [==============================] - 4s 10ms/step - loss: 0.7500 - f1_metrics: 0.2906 - accuracy: 0.7113 - val_loss: 0.7024 - val_f1_metrics: 0.3009 - val_accuracy: 0.7868\n",
            "Epoch 3/200\n",
            "385/388 [============================>.] - ETA: 0s - loss: 0.7093 - f1_metrics: 0.3035 - accuracy: 0.7490\n",
            " Best F1 0.30973026156425476 on epoch: 2\n",
            "388/388 [==============================] - 4s 10ms/step - loss: 0.7092 - f1_metrics: 0.3035 - accuracy: 0.7491 - val_loss: 0.6746 - val_f1_metrics: 0.3097 - val_accuracy: 0.7929\n",
            "Epoch 4/200\n",
            "387/388 [============================>.] - ETA: 0s - loss: 0.6861 - f1_metrics: 0.3104 - accuracy: 0.7627\n",
            " Best F1 0.3156876266002655 on epoch: 3\n",
            "388/388 [==============================] - 4s 10ms/step - loss: 0.6860 - f1_metrics: 0.3104 - accuracy: 0.7628 - val_loss: 0.6537 - val_f1_metrics: 0.3157 - val_accuracy: 0.7969\n",
            "Epoch 5/200\n",
            "382/388 [============================>.] - ETA: 0s - loss: 0.6665 - f1_metrics: 0.3156 - accuracy: 0.7710\n",
            " Best F1 0.3205413520336151 on epoch: 4\n",
            "388/388 [==============================] - 4s 10ms/step - loss: 0.6663 - f1_metrics: 0.3157 - accuracy: 0.7710 - val_loss: 0.6349 - val_f1_metrics: 0.3205 - val_accuracy: 0.8008\n",
            "Epoch 6/200\n",
            "384/388 [============================>.] - ETA: 0s - loss: 0.6484 - f1_metrics: 0.3200 - accuracy: 0.7782\n",
            " Best F1 0.3247923254966736 on epoch: 5\n",
            "388/388 [==============================] - 4s 10ms/step - loss: 0.6484 - f1_metrics: 0.3200 - accuracy: 0.7782 - val_loss: 0.6170 - val_f1_metrics: 0.3248 - val_accuracy: 0.8048\n",
            "Epoch 7/200\n",
            "381/388 [============================>.] - ETA: 0s - loss: 0.6314 - f1_metrics: 0.3240 - accuracy: 0.7835\n",
            " Best F1 0.3287992775440216 on epoch: 6\n",
            "388/388 [==============================] - 4s 10ms/step - loss: 0.6312 - f1_metrics: 0.3240 - accuracy: 0.7836 - val_loss: 0.5998 - val_f1_metrics: 0.3288 - val_accuracy: 0.8093\n",
            "Epoch 8/200\n",
            "384/388 [============================>.] - ETA: 0s - loss: 0.6150 - f1_metrics: 0.3277 - accuracy: 0.7898\n",
            " Best F1 0.33277398347854614 on epoch: 7\n",
            "388/388 [==============================] - 4s 10ms/step - loss: 0.6149 - f1_metrics: 0.3278 - accuracy: 0.7898 - val_loss: 0.5837 - val_f1_metrics: 0.3328 - val_accuracy: 0.8126\n",
            "Epoch 9/200\n",
            "381/388 [============================>.] - ETA: 0s - loss: 0.6003 - f1_metrics: 0.3314 - accuracy: 0.7941\n",
            " Best F1 0.33654943108558655 on epoch: 8\n",
            "388/388 [==============================] - 4s 10ms/step - loss: 0.6000 - f1_metrics: 0.3314 - accuracy: 0.7943 - val_loss: 0.5690 - val_f1_metrics: 0.3365 - val_accuracy: 0.8155\n",
            "Epoch 10/200\n",
            "385/388 [============================>.] - ETA: 0s - loss: 0.5866 - f1_metrics: 0.3349 - accuracy: 0.7992\n",
            " Best F1 0.3402324318885803 on epoch: 9\n",
            "388/388 [==============================] - 4s 10ms/step - loss: 0.5865 - f1_metrics: 0.3350 - accuracy: 0.7993 - val_loss: 0.5558 - val_f1_metrics: 0.3402 - val_accuracy: 0.8183\n",
            "Epoch 11/200\n",
            "387/388 [============================>.] - ETA: 0s - loss: 0.5745 - f1_metrics: 0.3383 - accuracy: 0.8038\n",
            " Best F1 0.34372633695602417 on epoch: 10\n",
            "388/388 [==============================] - 4s 10ms/step - loss: 0.5745 - f1_metrics: 0.3383 - accuracy: 0.8038 - val_loss: 0.5441 - val_f1_metrics: 0.3437 - val_accuracy: 0.8206\n",
            "Epoch 12/200\n",
            "384/388 [============================>.] - ETA: 0s - loss: 0.5635 - f1_metrics: 0.3414 - accuracy: 0.8071\n",
            " Best F1 0.34693577885627747 on epoch: 11\n",
            "388/388 [==============================] - 4s 10ms/step - loss: 0.5634 - f1_metrics: 0.3415 - accuracy: 0.8071 - val_loss: 0.5338 - val_f1_metrics: 0.3469 - val_accuracy: 0.8227\n",
            "Epoch 13/200\n",
            "383/388 [============================>.] - ETA: 0s - loss: 0.5543 - f1_metrics: 0.3442 - accuracy: 0.8095\n",
            " Best F1 0.34973061084747314 on epoch: 12\n",
            "388/388 [==============================] - 4s 10ms/step - loss: 0.5542 - f1_metrics: 0.3442 - accuracy: 0.8096 - val_loss: 0.5248 - val_f1_metrics: 0.3497 - val_accuracy: 0.8238\n",
            "Epoch 14/200\n",
            "386/388 [============================>.] - ETA: 0s - loss: 0.5458 - f1_metrics: 0.3468 - accuracy: 0.8122\n",
            " Best F1 0.352327436208725 on epoch: 13\n",
            "388/388 [==============================] - 4s 10ms/step - loss: 0.5457 - f1_metrics: 0.3469 - accuracy: 0.8123 - val_loss: 0.5170 - val_f1_metrics: 0.3523 - val_accuracy: 0.8250\n",
            "Epoch 15/200\n",
            "382/388 [============================>.] - ETA: 0s - loss: 0.5386 - f1_metrics: 0.3492 - accuracy: 0.8134\n",
            " Best F1 0.35471734404563904 on epoch: 14\n",
            "388/388 [==============================] - 4s 10ms/step - loss: 0.5383 - f1_metrics: 0.3492 - accuracy: 0.8135 - val_loss: 0.5101 - val_f1_metrics: 0.3547 - val_accuracy: 0.8255\n",
            "Epoch 16/200\n",
            "383/388 [============================>.] - ETA: 0s - loss: 0.5319 - f1_metrics: 0.3512 - accuracy: 0.8152\n",
            " Best F1 0.3566329777240753 on epoch: 15\n",
            "388/388 [==============================] - 4s 10ms/step - loss: 0.5317 - f1_metrics: 0.3513 - accuracy: 0.8153 - val_loss: 0.5041 - val_f1_metrics: 0.3566 - val_accuracy: 0.8261\n",
            "Epoch 17/200\n",
            "381/388 [============================>.] - ETA: 0s - loss: 0.5259 - f1_metrics: 0.3532 - accuracy: 0.8160\n",
            " Best F1 0.35843923687934875 on epoch: 16\n",
            "388/388 [==============================] - 4s 10ms/step - loss: 0.5257 - f1_metrics: 0.3532 - accuracy: 0.8162 - val_loss: 0.4988 - val_f1_metrics: 0.3584 - val_accuracy: 0.8268\n",
            "Epoch 18/200\n",
            "385/388 [============================>.] - ETA: 0s - loss: 0.5208 - f1_metrics: 0.3547 - accuracy: 0.8171\n",
            " Best F1 0.3602435886859894 on epoch: 17\n",
            "388/388 [==============================] - 4s 10ms/step - loss: 0.5207 - f1_metrics: 0.3548 - accuracy: 0.8172 - val_loss: 0.4939 - val_f1_metrics: 0.3602 - val_accuracy: 0.8274\n",
            "Epoch 19/200\n",
            "382/388 [============================>.] - ETA: 0s - loss: 0.5157 - f1_metrics: 0.3564 - accuracy: 0.8189\n",
            " Best F1 0.3614569306373596 on epoch: 18\n",
            "388/388 [==============================] - 4s 10ms/step - loss: 0.5156 - f1_metrics: 0.3564 - accuracy: 0.8189 - val_loss: 0.4897 - val_f1_metrics: 0.3615 - val_accuracy: 0.8282\n",
            "Epoch 20/200\n",
            "381/388 [============================>.] - ETA: 0s - loss: 0.5120 - f1_metrics: 0.3575 - accuracy: 0.8189\n",
            " Best F1 0.362765371799469 on epoch: 19\n",
            "388/388 [==============================] - 4s 10ms/step - loss: 0.5118 - f1_metrics: 0.3576 - accuracy: 0.8190 - val_loss: 0.4858 - val_f1_metrics: 0.3628 - val_accuracy: 0.8285\n",
            "Epoch 21/200\n",
            "385/388 [============================>.] - ETA: 0s - loss: 0.5077 - f1_metrics: 0.3588 - accuracy: 0.8202\n",
            " Best F1 0.36402666568756104 on epoch: 20\n",
            "388/388 [==============================] - 4s 10ms/step - loss: 0.5077 - f1_metrics: 0.3588 - accuracy: 0.8202 - val_loss: 0.4823 - val_f1_metrics: 0.3640 - val_accuracy: 0.8289\n",
            "Epoch 22/200\n",
            "383/388 [============================>.] - ETA: 0s - loss: 0.5041 - f1_metrics: 0.3599 - accuracy: 0.8210\n",
            " Best F1 0.3649135231971741 on epoch: 21\n",
            "388/388 [==============================] - 4s 10ms/step - loss: 0.5040 - f1_metrics: 0.3599 - accuracy: 0.8210 - val_loss: 0.4791 - val_f1_metrics: 0.3649 - val_accuracy: 0.8294\n",
            "Epoch 23/200\n",
            "381/388 [============================>.] - ETA: 0s - loss: 0.5004 - f1_metrics: 0.3609 - accuracy: 0.8216\n",
            " Best F1 0.3658810257911682 on epoch: 22\n",
            "388/388 [==============================] - 4s 10ms/step - loss: 0.5005 - f1_metrics: 0.3609 - accuracy: 0.8216 - val_loss: 0.4762 - val_f1_metrics: 0.3659 - val_accuracy: 0.8295\n",
            "Epoch 24/200\n",
            "383/388 [============================>.] - ETA: 0s - loss: 0.4969 - f1_metrics: 0.3618 - accuracy: 0.8227\n",
            " Best F1 0.3666386306285858 on epoch: 23\n",
            "388/388 [==============================] - 4s 10ms/step - loss: 0.4970 - f1_metrics: 0.3618 - accuracy: 0.8226 - val_loss: 0.4734 - val_f1_metrics: 0.3666 - val_accuracy: 0.8300\n",
            "Epoch 25/200\n",
            "383/388 [============================>.] - ETA: 0s - loss: 0.4944 - f1_metrics: 0.3626 - accuracy: 0.8226\n",
            " Best F1 0.3673730492591858 on epoch: 24\n",
            "388/388 [==============================] - 4s 10ms/step - loss: 0.4944 - f1_metrics: 0.3626 - accuracy: 0.8226 - val_loss: 0.4708 - val_f1_metrics: 0.3674 - val_accuracy: 0.8301\n",
            "Epoch 26/200\n",
            "385/388 [============================>.] - ETA: 0s - loss: 0.4911 - f1_metrics: 0.3634 - accuracy: 0.8234\n",
            " Best F1 0.3681401014328003 on epoch: 25\n",
            "388/388 [==============================] - 4s 10ms/step - loss: 0.4912 - f1_metrics: 0.3634 - accuracy: 0.8233 - val_loss: 0.4685 - val_f1_metrics: 0.3681 - val_accuracy: 0.8302\n",
            "Epoch 27/200\n",
            "383/388 [============================>.] - ETA: 0s - loss: 0.4888 - f1_metrics: 0.3641 - accuracy: 0.8238\n",
            " Best F1 0.3687115013599396 on epoch: 26\n",
            "388/388 [==============================] - 4s 10ms/step - loss: 0.4888 - f1_metrics: 0.3641 - accuracy: 0.8238 - val_loss: 0.4663 - val_f1_metrics: 0.3687 - val_accuracy: 0.8305\n",
            "Epoch 28/200\n",
            "382/388 [============================>.] - ETA: 0s - loss: 0.4863 - f1_metrics: 0.3648 - accuracy: 0.8244\n",
            " Best F1 0.3694460093975067 on epoch: 27\n",
            "388/388 [==============================] - 4s 10ms/step - loss: 0.4864 - f1_metrics: 0.3647 - accuracy: 0.8243 - val_loss: 0.4642 - val_f1_metrics: 0.3694 - val_accuracy: 0.8307\n",
            "Epoch 29/200\n",
            "382/388 [============================>.] - ETA: 0s - loss: 0.4840 - f1_metrics: 0.3654 - accuracy: 0.8254\n",
            " Best F1 0.37003085017204285 on epoch: 28\n",
            "388/388 [==============================] - 4s 10ms/step - loss: 0.4840 - f1_metrics: 0.3654 - accuracy: 0.8253 - val_loss: 0.4622 - val_f1_metrics: 0.3700 - val_accuracy: 0.8308\n",
            "Epoch 30/200\n",
            "383/388 [============================>.] - ETA: 0s - loss: 0.4823 - f1_metrics: 0.3658 - accuracy: 0.8245\n",
            " Best F1 0.3703301250934601 on epoch: 29\n",
            "388/388 [==============================] - 4s 10ms/step - loss: 0.4823 - f1_metrics: 0.3658 - accuracy: 0.8244 - val_loss: 0.4605 - val_f1_metrics: 0.3703 - val_accuracy: 0.8310\n",
            "Epoch 31/200\n",
            "387/388 [============================>.] - ETA: 0s - loss: 0.4798 - f1_metrics: 0.3665 - accuracy: 0.8260\n",
            " Best F1 0.3710232973098755 on epoch: 30\n",
            "388/388 [==============================] - 4s 10ms/step - loss: 0.4797 - f1_metrics: 0.3665 - accuracy: 0.8260 - val_loss: 0.4587 - val_f1_metrics: 0.3710 - val_accuracy: 0.8311\n",
            "Epoch 32/200\n",
            "383/388 [============================>.] - ETA: 0s - loss: 0.4783 - f1_metrics: 0.3668 - accuracy: 0.8255\n",
            " Best F1 0.3712621033191681 on epoch: 31\n",
            "388/388 [==============================] - 4s 10ms/step - loss: 0.4783 - f1_metrics: 0.3668 - accuracy: 0.8255 - val_loss: 0.4571 - val_f1_metrics: 0.3713 - val_accuracy: 0.8314\n",
            "Epoch 33/200\n",
            "385/388 [============================>.] - ETA: 0s - loss: 0.4757 - f1_metrics: 0.3673 - accuracy: 0.8261\n",
            " Best F1 0.37161171436309814 on epoch: 32\n",
            "388/388 [==============================] - 4s 10ms/step - loss: 0.4758 - f1_metrics: 0.3673 - accuracy: 0.8261 - val_loss: 0.4556 - val_f1_metrics: 0.3716 - val_accuracy: 0.8317\n",
            "Epoch 34/200\n",
            "386/388 [============================>.] - ETA: 0s - loss: 0.4744 - f1_metrics: 0.3677 - accuracy: 0.8269\n",
            " Best F1 0.37205982208251953 on epoch: 33\n",
            "388/388 [==============================] - 4s 10ms/step - loss: 0.4745 - f1_metrics: 0.3676 - accuracy: 0.8268 - val_loss: 0.4541 - val_f1_metrics: 0.3721 - val_accuracy: 0.8317\n",
            "Epoch 35/200\n",
            "382/388 [============================>.] - ETA: 0s - loss: 0.4729 - f1_metrics: 0.3680 - accuracy: 0.8264\n",
            " Best F1 0.37225985527038574 on epoch: 34\n",
            "388/388 [==============================] - 4s 10ms/step - loss: 0.4728 - f1_metrics: 0.3680 - accuracy: 0.8264 - val_loss: 0.4528 - val_f1_metrics: 0.3723 - val_accuracy: 0.8319\n",
            "Epoch 36/200\n",
            "382/388 [============================>.] - ETA: 0s - loss: 0.4714 - f1_metrics: 0.3684 - accuracy: 0.8270\n",
            " Best F1 0.3724803924560547 on epoch: 35\n",
            "388/388 [==============================] - 4s 10ms/step - loss: 0.4714 - f1_metrics: 0.3684 - accuracy: 0.8270 - val_loss: 0.4515 - val_f1_metrics: 0.3725 - val_accuracy: 0.8318\n",
            "Epoch 37/200\n",
            "384/388 [============================>.] - ETA: 0s - loss: 0.4693 - f1_metrics: 0.3688 - accuracy: 0.8275\n",
            " Best F1 0.3729107677936554 on epoch: 36\n",
            "388/388 [==============================] - 4s 10ms/step - loss: 0.4692 - f1_metrics: 0.3689 - accuracy: 0.8276 - val_loss: 0.4501 - val_f1_metrics: 0.3729 - val_accuracy: 0.8320\n",
            "Epoch 38/200\n",
            "388/388 [==============================] - 4s 10ms/step - loss: 0.4678 - f1_metrics: 0.3692 - accuracy: 0.8274 - val_loss: 0.4491 - val_f1_metrics: 0.3729 - val_accuracy: 0.8319\n",
            "Epoch 39/200\n",
            "384/388 [============================>.] - ETA: 0s - loss: 0.4664 - f1_metrics: 0.3695 - accuracy: 0.8274\n",
            " Best F1 0.373771995306015 on epoch: 38\n",
            "388/388 [==============================] - 4s 10ms/step - loss: 0.4663 - f1_metrics: 0.3695 - accuracy: 0.8275 - val_loss: 0.4477 - val_f1_metrics: 0.3738 - val_accuracy: 0.8320\n",
            "Epoch 40/200\n",
            "388/388 [==============================] - 4s 10ms/step - loss: 0.4653 - f1_metrics: 0.3697 - accuracy: 0.8283 - val_loss: 0.4467 - val_f1_metrics: 0.3736 - val_accuracy: 0.8319\n",
            "Epoch 41/200\n",
            "385/388 [============================>.] - ETA: 0s - loss: 0.4637 - f1_metrics: 0.3701 - accuracy: 0.8286\n",
            " Best F1 0.3740643560886383 on epoch: 40\n",
            "388/388 [==============================] - 4s 10ms/step - loss: 0.4638 - f1_metrics: 0.3701 - accuracy: 0.8286 - val_loss: 0.4455 - val_f1_metrics: 0.3741 - val_accuracy: 0.8320\n",
            "Epoch 42/200\n",
            "388/388 [==============================] - 4s 10ms/step - loss: 0.4620 - f1_metrics: 0.3704 - accuracy: 0.8288 - val_loss: 0.4447 - val_f1_metrics: 0.3739 - val_accuracy: 0.8321\n",
            "Epoch 43/200\n",
            "382/388 [============================>.] - ETA: 0s - loss: 0.4608 - f1_metrics: 0.3707 - accuracy: 0.8289\n",
            " Best F1 0.37464532256126404 on epoch: 42\n",
            "388/388 [==============================] - 4s 10ms/step - loss: 0.4609 - f1_metrics: 0.3707 - accuracy: 0.8289 - val_loss: 0.4434 - val_f1_metrics: 0.3746 - val_accuracy: 0.8321\n",
            "Epoch 44/200\n",
            "385/388 [============================>.] - ETA: 0s - loss: 0.4597 - f1_metrics: 0.3710 - accuracy: 0.8289\n",
            " Best F1 0.3747168183326721 on epoch: 43\n",
            "388/388 [==============================] - 4s 10ms/step - loss: 0.4597 - f1_metrics: 0.3710 - accuracy: 0.8288 - val_loss: 0.4425 - val_f1_metrics: 0.3747 - val_accuracy: 0.8320\n",
            "Epoch 45/200\n",
            "384/388 [============================>.] - ETA: 0s - loss: 0.4586 - f1_metrics: 0.3712 - accuracy: 0.8291\n",
            " Best F1 0.37487396597862244 on epoch: 44\n",
            "388/388 [==============================] - 4s 10ms/step - loss: 0.4587 - f1_metrics: 0.3712 - accuracy: 0.8291 - val_loss: 0.4416 - val_f1_metrics: 0.3749 - val_accuracy: 0.8321\n",
            "Epoch 46/200\n",
            "382/388 [============================>.] - ETA: 0s - loss: 0.4580 - f1_metrics: 0.3713 - accuracy: 0.8294\n",
            " Best F1 0.37488365173339844 on epoch: 45\n",
            "388/388 [==============================] - 4s 10ms/step - loss: 0.4580 - f1_metrics: 0.3713 - accuracy: 0.8294 - val_loss: 0.4408 - val_f1_metrics: 0.3749 - val_accuracy: 0.8320\n",
            "Epoch 47/200\n",
            "383/388 [============================>.] - ETA: 0s - loss: 0.4569 - f1_metrics: 0.3715 - accuracy: 0.8291\n",
            " Best F1 0.3752242922782898 on epoch: 46\n",
            "388/388 [==============================] - 4s 10ms/step - loss: 0.4569 - f1_metrics: 0.3715 - accuracy: 0.8291 - val_loss: 0.4398 - val_f1_metrics: 0.3752 - val_accuracy: 0.8323\n",
            "Epoch 48/200\n",
            "387/388 [============================>.] - ETA: 0s - loss: 0.4562 - f1_metrics: 0.3716 - accuracy: 0.8295\n",
            " Best F1 0.3754812777042389 on epoch: 47\n",
            "388/388 [==============================] - 4s 10ms/step - loss: 0.4562 - f1_metrics: 0.3716 - accuracy: 0.8295 - val_loss: 0.4390 - val_f1_metrics: 0.3755 - val_accuracy: 0.8324\n",
            "Epoch 49/200\n",
            "384/388 [============================>.] - ETA: 0s - loss: 0.4545 - f1_metrics: 0.3720 - accuracy: 0.8301\n",
            " Best F1 0.3755492568016052 on epoch: 48\n",
            "388/388 [==============================] - 4s 10ms/step - loss: 0.4545 - f1_metrics: 0.3720 - accuracy: 0.8301 - val_loss: 0.4382 - val_f1_metrics: 0.3755 - val_accuracy: 0.8322\n",
            "Epoch 50/200\n",
            "381/388 [============================>.] - ETA: 0s - loss: 0.4540 - f1_metrics: 0.3720 - accuracy: 0.8297\n",
            " Best F1 0.37582674622535706 on epoch: 49\n",
            "388/388 [==============================] - 4s 10ms/step - loss: 0.4540 - f1_metrics: 0.3720 - accuracy: 0.8298 - val_loss: 0.4374 - val_f1_metrics: 0.3758 - val_accuracy: 0.8322\n",
            "Epoch 51/200\n",
            "382/388 [============================>.] - ETA: 0s - loss: 0.4527 - f1_metrics: 0.3724 - accuracy: 0.8301\n",
            " Best F1 0.3761041462421417 on epoch: 50\n",
            "388/388 [==============================] - 4s 10ms/step - loss: 0.4527 - f1_metrics: 0.3724 - accuracy: 0.8301 - val_loss: 0.4366 - val_f1_metrics: 0.3761 - val_accuracy: 0.8324\n",
            "Epoch 52/200\n",
            "388/388 [==============================] - 4s 10ms/step - loss: 0.4522 - f1_metrics: 0.3724 - accuracy: 0.8301 - val_loss: 0.4360 - val_f1_metrics: 0.3760 - val_accuracy: 0.8321\n",
            "Epoch 53/200\n",
            "384/388 [============================>.] - ETA: 0s - loss: 0.4512 - f1_metrics: 0.3726 - accuracy: 0.8301\n",
            " Best F1 0.37620922923088074 on epoch: 52\n",
            "388/388 [==============================] - 4s 10ms/step - loss: 0.4511 - f1_metrics: 0.3726 - accuracy: 0.8301 - val_loss: 0.4353 - val_f1_metrics: 0.3762 - val_accuracy: 0.8321\n",
            "Epoch 54/200\n",
            "382/388 [============================>.] - ETA: 0s - loss: 0.4501 - f1_metrics: 0.3728 - accuracy: 0.8300\n",
            " Best F1 0.376279354095459 on epoch: 53\n",
            "388/388 [==============================] - 4s 10ms/step - loss: 0.4501 - f1_metrics: 0.3728 - accuracy: 0.8301 - val_loss: 0.4346 - val_f1_metrics: 0.3763 - val_accuracy: 0.8321\n",
            "Epoch 55/200\n",
            "386/388 [============================>.] - ETA: 0s - loss: 0.4491 - f1_metrics: 0.3730 - accuracy: 0.8306\n",
            " Best F1 0.3765992224216461 on epoch: 54\n",
            "388/388 [==============================] - 4s 10ms/step - loss: 0.4491 - f1_metrics: 0.3730 - accuracy: 0.8306 - val_loss: 0.4338 - val_f1_metrics: 0.3766 - val_accuracy: 0.8322\n",
            "Epoch 56/200\n",
            "386/388 [============================>.] - ETA: 0s - loss: 0.4488 - f1_metrics: 0.3730 - accuracy: 0.8308\n",
            " Best F1 0.3767176866531372 on epoch: 55\n",
            "388/388 [==============================] - 4s 10ms/step - loss: 0.4487 - f1_metrics: 0.3730 - accuracy: 0.8309 - val_loss: 0.4331 - val_f1_metrics: 0.3767 - val_accuracy: 0.8325\n",
            "Epoch 57/200\n",
            "384/388 [============================>.] - ETA: 0s - loss: 0.4479 - f1_metrics: 0.3733 - accuracy: 0.8309\n",
            " Best F1 0.3767208456993103 on epoch: 56\n",
            "388/388 [==============================] - 4s 10ms/step - loss: 0.4478 - f1_metrics: 0.3733 - accuracy: 0.8309 - val_loss: 0.4325 - val_f1_metrics: 0.3767 - val_accuracy: 0.8324\n",
            "Epoch 58/200\n",
            "388/388 [==============================] - 4s 10ms/step - loss: 0.4472 - f1_metrics: 0.3733 - accuracy: 0.8309 - val_loss: 0.4320 - val_f1_metrics: 0.3766 - val_accuracy: 0.8322\n",
            "Epoch 59/200\n",
            "385/388 [============================>.] - ETA: 0s - loss: 0.4459 - f1_metrics: 0.3736 - accuracy: 0.8312\n",
            " Best F1 0.37700024247169495 on epoch: 58\n",
            "388/388 [==============================] - 4s 10ms/step - loss: 0.4459 - f1_metrics: 0.3736 - accuracy: 0.8312 - val_loss: 0.4313 - val_f1_metrics: 0.3770 - val_accuracy: 0.8323\n",
            "Epoch 60/200\n",
            "388/388 [==============================] - 4s 10ms/step - loss: 0.4452 - f1_metrics: 0.3738 - accuracy: 0.8312 - val_loss: 0.4308 - val_f1_metrics: 0.3769 - val_accuracy: 0.8324\n",
            "Epoch 61/200\n",
            "388/388 [==============================] - 4s 11ms/step - loss: 0.4446 - f1_metrics: 0.3739 - accuracy: 0.8316 - val_loss: 0.4302 - val_f1_metrics: 0.3769 - val_accuracy: 0.8325\n",
            "Epoch 62/200\n",
            "383/388 [============================>.] - ETA: 0s - loss: 0.4441 - f1_metrics: 0.3739 - accuracy: 0.8311\n",
            " Best F1 0.37727728486061096 on epoch: 61\n",
            "388/388 [==============================] - 4s 11ms/step - loss: 0.4441 - f1_metrics: 0.3739 - accuracy: 0.8312 - val_loss: 0.4295 - val_f1_metrics: 0.3773 - val_accuracy: 0.8325\n",
            "Epoch 63/200\n",
            "383/388 [============================>.] - ETA: 0s - loss: 0.4439 - f1_metrics: 0.3739 - accuracy: 0.8312\n",
            " Best F1 0.37741583585739136 on epoch: 62\n",
            "388/388 [==============================] - 4s 10ms/step - loss: 0.4438 - f1_metrics: 0.3739 - accuracy: 0.8312 - val_loss: 0.4290 - val_f1_metrics: 0.3774 - val_accuracy: 0.8327\n",
            "Epoch 64/200\n",
            "383/388 [============================>.] - ETA: 0s - loss: 0.4428 - f1_metrics: 0.3741 - accuracy: 0.8316\n",
            " Best F1 0.3774358332157135 on epoch: 63\n",
            "388/388 [==============================] - 4s 10ms/step - loss: 0.4428 - f1_metrics: 0.3741 - accuracy: 0.8317 - val_loss: 0.4284 - val_f1_metrics: 0.3774 - val_accuracy: 0.8327\n",
            "Epoch 65/200\n",
            "386/388 [============================>.] - ETA: 0s - loss: 0.4422 - f1_metrics: 0.3742 - accuracy: 0.8318\n",
            " Best F1 0.37769922614097595 on epoch: 64\n",
            "388/388 [==============================] - 4s 10ms/step - loss: 0.4422 - f1_metrics: 0.3742 - accuracy: 0.8318 - val_loss: 0.4279 - val_f1_metrics: 0.3777 - val_accuracy: 0.8327\n",
            "Epoch 66/200\n",
            "388/388 [==============================] - 4s 10ms/step - loss: 0.4418 - f1_metrics: 0.3743 - accuracy: 0.8318 - val_loss: 0.4274 - val_f1_metrics: 0.3776 - val_accuracy: 0.8328\n",
            "Epoch 67/200\n",
            "382/388 [============================>.] - ETA: 0s - loss: 0.4407 - f1_metrics: 0.3745 - accuracy: 0.8323\n",
            " Best F1 0.3780013620853424 on epoch: 66\n",
            "388/388 [==============================] - 4s 10ms/step - loss: 0.4407 - f1_metrics: 0.3745 - accuracy: 0.8323 - val_loss: 0.4268 - val_f1_metrics: 0.3780 - val_accuracy: 0.8329\n",
            "Epoch 68/200\n",
            "388/388 [==============================] - 4s 10ms/step - loss: 0.4404 - f1_metrics: 0.3745 - accuracy: 0.8320 - val_loss: 0.4264 - val_f1_metrics: 0.3776 - val_accuracy: 0.8329\n",
            "Epoch 69/200\n",
            "383/388 [============================>.] - ETA: 0s - loss: 0.4400 - f1_metrics: 0.3746 - accuracy: 0.8323\n",
            " Best F1 0.37814924120903015 on epoch: 68\n",
            "388/388 [==============================] - 4s 10ms/step - loss: 0.4401 - f1_metrics: 0.3745 - accuracy: 0.8323 - val_loss: 0.4258 - val_f1_metrics: 0.3781 - val_accuracy: 0.8330\n",
            "Epoch 70/200\n",
            "383/388 [============================>.] - ETA: 0s - loss: 0.4390 - f1_metrics: 0.3749 - accuracy: 0.8319\n",
            " Best F1 0.37838026881217957 on epoch: 69\n",
            "388/388 [==============================] - 4s 10ms/step - loss: 0.4390 - f1_metrics: 0.3749 - accuracy: 0.8319 - val_loss: 0.4253 - val_f1_metrics: 0.3784 - val_accuracy: 0.8330\n",
            "Epoch 71/200\n",
            "388/388 [==============================] - 4s 10ms/step - loss: 0.4384 - f1_metrics: 0.3749 - accuracy: 0.8323 - val_loss: 0.4250 - val_f1_metrics: 0.3778 - val_accuracy: 0.8332\n",
            "Epoch 72/200\n",
            "388/388 [==============================] - 4s 10ms/step - loss: 0.4381 - f1_metrics: 0.3749 - accuracy: 0.8322 - val_loss: 0.4246 - val_f1_metrics: 0.3779 - val_accuracy: 0.8332\n",
            "Epoch 73/200\n",
            "388/388 [==============================] - 4s 10ms/step - loss: 0.4377 - f1_metrics: 0.3750 - accuracy: 0.8319 - val_loss: 0.4240 - val_f1_metrics: 0.3781 - val_accuracy: 0.8334\n",
            "Epoch 74/200\n",
            "388/388 [==============================] - 4s 10ms/step - loss: 0.4371 - f1_metrics: 0.3751 - accuracy: 0.8324 - val_loss: 0.4235 - val_f1_metrics: 0.3784 - val_accuracy: 0.8333\n",
            "Epoch 75/200\n",
            "386/388 [============================>.] - ETA: 0s - loss: 0.4360 - f1_metrics: 0.3754 - accuracy: 0.8329\n",
            " Best F1 0.37876567244529724 on epoch: 74\n",
            "388/388 [==============================] - 4s 10ms/step - loss: 0.4360 - f1_metrics: 0.3754 - accuracy: 0.8329 - val_loss: 0.4231 - val_f1_metrics: 0.3788 - val_accuracy: 0.8333\n",
            "Epoch 76/200\n",
            "388/388 [==============================] - 4s 10ms/step - loss: 0.4359 - f1_metrics: 0.3753 - accuracy: 0.8323 - val_loss: 0.4227 - val_f1_metrics: 0.3785 - val_accuracy: 0.8335\n",
            "Epoch 77/200\n",
            "388/388 [==============================] - 4s 10ms/step - loss: 0.4356 - f1_metrics: 0.3754 - accuracy: 0.8325 - val_loss: 0.4225 - val_f1_metrics: 0.3781 - val_accuracy: 0.8331\n",
            "Epoch 78/200\n",
            "388/388 [==============================] - 4s 10ms/step - loss: 0.4348 - f1_metrics: 0.3755 - accuracy: 0.8328 - val_loss: 0.4220 - val_f1_metrics: 0.3782 - val_accuracy: 0.8333\n",
            "Epoch 79/200\n",
            "388/388 [==============================] - 4s 10ms/step - loss: 0.4344 - f1_metrics: 0.3755 - accuracy: 0.8323 - val_loss: 0.4216 - val_f1_metrics: 0.3786 - val_accuracy: 0.8334\n",
            "Epoch 80/200\n",
            "388/388 [==============================] - 4s 10ms/step - loss: 0.4333 - f1_metrics: 0.3758 - accuracy: 0.8328 - val_loss: 0.4214 - val_f1_metrics: 0.3782 - val_accuracy: 0.8334\n",
            "Epoch 81/200\n",
            "388/388 [==============================] - 4s 10ms/step - loss: 0.4334 - f1_metrics: 0.3758 - accuracy: 0.8329 - val_loss: 0.4209 - val_f1_metrics: 0.3783 - val_accuracy: 0.8336\n",
            "Epoch 82/200\n",
            "388/388 [==============================] - 4s 10ms/step - loss: 0.4331 - f1_metrics: 0.3758 - accuracy: 0.8329 - val_loss: 0.4204 - val_f1_metrics: 0.3788 - val_accuracy: 0.8337\n",
            "Epoch 83/200\n",
            "388/388 [==============================] - 4s 10ms/step - loss: 0.4327 - f1_metrics: 0.3759 - accuracy: 0.8329 - val_loss: 0.4203 - val_f1_metrics: 0.3785 - val_accuracy: 0.8337\n",
            "Epoch 84/200\n",
            "388/388 [==============================] - 4s 10ms/step - loss: 0.4320 - f1_metrics: 0.3760 - accuracy: 0.8333 - val_loss: 0.4197 - val_f1_metrics: 0.3786 - val_accuracy: 0.8338\n",
            "Epoch 85/200\n",
            "384/388 [============================>.] - ETA: 0s - loss: 0.4318 - f1_metrics: 0.3760 - accuracy: 0.8328\n",
            " Best F1 0.3789516091346741 on epoch: 84\n",
            "388/388 [==============================] - 4s 10ms/step - loss: 0.4316 - f1_metrics: 0.3760 - accuracy: 0.8329 - val_loss: 0.4193 - val_f1_metrics: 0.3790 - val_accuracy: 0.8337\n",
            "Epoch 86/200\n",
            "386/388 [============================>.] - ETA: 0s - loss: 0.4315 - f1_metrics: 0.3760 - accuracy: 0.8324\n",
            " Best F1 0.3789673447608948 on epoch: 85\n",
            "388/388 [==============================] - 4s 10ms/step - loss: 0.4315 - f1_metrics: 0.3761 - accuracy: 0.8325 - val_loss: 0.4189 - val_f1_metrics: 0.3790 - val_accuracy: 0.8337\n",
            "Epoch 87/200\n",
            "382/388 [============================>.] - ETA: 0s - loss: 0.4303 - f1_metrics: 0.3763 - accuracy: 0.8332\n",
            " Best F1 0.3790876269340515 on epoch: 86\n",
            "388/388 [==============================] - 4s 10ms/step - loss: 0.4304 - f1_metrics: 0.3763 - accuracy: 0.8331 - val_loss: 0.4187 - val_f1_metrics: 0.3791 - val_accuracy: 0.8337\n",
            "Epoch 88/200\n",
            "388/388 [==============================] - 4s 10ms/step - loss: 0.4308 - f1_metrics: 0.3761 - accuracy: 0.8328 - val_loss: 0.4185 - val_f1_metrics: 0.3787 - val_accuracy: 0.8339\n",
            "Epoch 89/200\n",
            "386/388 [============================>.] - ETA: 0s - loss: 0.4301 - f1_metrics: 0.3762 - accuracy: 0.8333\n",
            " Best F1 0.3793754279613495 on epoch: 88\n",
            "388/388 [==============================] - 4s 10ms/step - loss: 0.4300 - f1_metrics: 0.3762 - accuracy: 0.8334 - val_loss: 0.4180 - val_f1_metrics: 0.3794 - val_accuracy: 0.8339\n",
            "Epoch 90/200\n",
            "388/388 [==============================] - 4s 10ms/step - loss: 0.4299 - f1_metrics: 0.3763 - accuracy: 0.8331 - val_loss: 0.4178 - val_f1_metrics: 0.3791 - val_accuracy: 0.8338\n",
            "Epoch 91/200\n",
            "388/388 [==============================] - 4s 10ms/step - loss: 0.4301 - f1_metrics: 0.3762 - accuracy: 0.8330 - val_loss: 0.4174 - val_f1_metrics: 0.3792 - val_accuracy: 0.8342\n",
            "Epoch 92/200\n",
            "381/388 [============================>.] - ETA: 0s - loss: 0.4285 - f1_metrics: 0.3765 - accuracy: 0.8332\n",
            " Best F1 0.37945249676704407 on epoch: 91\n",
            "388/388 [==============================] - 4s 10ms/step - loss: 0.4286 - f1_metrics: 0.3765 - accuracy: 0.8331 - val_loss: 0.4171 - val_f1_metrics: 0.3795 - val_accuracy: 0.8341\n",
            "Epoch 93/200\n",
            "388/388 [==============================] - 4s 10ms/step - loss: 0.4288 - f1_metrics: 0.3765 - accuracy: 0.8331 - val_loss: 0.4168 - val_f1_metrics: 0.3794 - val_accuracy: 0.8342\n",
            "Epoch 94/200\n",
            "383/388 [============================>.] - ETA: 0s - loss: 0.4277 - f1_metrics: 0.3768 - accuracy: 0.8339\n",
            " Best F1 0.379777193069458 on epoch: 93\n",
            "388/388 [==============================] - 4s 10ms/step - loss: 0.4278 - f1_metrics: 0.3768 - accuracy: 0.8339 - val_loss: 0.4165 - val_f1_metrics: 0.3798 - val_accuracy: 0.8342\n",
            "Epoch 95/200\n",
            "388/388 [==============================] - 4s 10ms/step - loss: 0.4282 - f1_metrics: 0.3766 - accuracy: 0.8335 - val_loss: 0.4161 - val_f1_metrics: 0.3798 - val_accuracy: 0.8344\n",
            "Epoch 96/200\n",
            "387/388 [============================>.] - ETA: 0s - loss: 0.4272 - f1_metrics: 0.3767 - accuracy: 0.8339\n",
            " Best F1 0.38006019592285156 on epoch: 95\n",
            "388/388 [==============================] - 4s 10ms/step - loss: 0.4273 - f1_metrics: 0.3767 - accuracy: 0.8338 - val_loss: 0.4159 - val_f1_metrics: 0.3801 - val_accuracy: 0.8342\n",
            "Epoch 97/200\n",
            "388/388 [==============================] - 4s 10ms/step - loss: 0.4270 - f1_metrics: 0.3768 - accuracy: 0.8338 - val_loss: 0.4156 - val_f1_metrics: 0.3799 - val_accuracy: 0.8343\n",
            "Epoch 98/200\n",
            "388/388 [==============================] - 4s 10ms/step - loss: 0.4272 - f1_metrics: 0.3767 - accuracy: 0.8331 - val_loss: 0.4154 - val_f1_metrics: 0.3797 - val_accuracy: 0.8344\n",
            "Epoch 99/200\n",
            "381/388 [============================>.] - ETA: 0s - loss: 0.4269 - f1_metrics: 0.3768 - accuracy: 0.8335\n",
            " Best F1 0.38011524081230164 on epoch: 98\n",
            "388/388 [==============================] - 4s 10ms/step - loss: 0.4269 - f1_metrics: 0.3768 - accuracy: 0.8337 - val_loss: 0.4151 - val_f1_metrics: 0.3801 - val_accuracy: 0.8344\n",
            "Epoch 100/200\n",
            "388/388 [==============================] - 4s 10ms/step - loss: 0.4263 - f1_metrics: 0.3769 - accuracy: 0.8338 - val_loss: 0.4149 - val_f1_metrics: 0.3799 - val_accuracy: 0.8347\n",
            "Epoch 101/200\n",
            "385/388 [============================>.] - ETA: 0s - loss: 0.4253 - f1_metrics: 0.3770 - accuracy: 0.8334\n",
            " Best F1 0.38018831610679626 on epoch: 100\n",
            "388/388 [==============================] - 4s 10ms/step - loss: 0.4254 - f1_metrics: 0.3770 - accuracy: 0.8333 - val_loss: 0.4146 - val_f1_metrics: 0.3802 - val_accuracy: 0.8344\n",
            "Epoch 102/200\n",
            "384/388 [============================>.] - ETA: 0s - loss: 0.4262 - f1_metrics: 0.3769 - accuracy: 0.8338\n",
            " Best F1 0.3803475499153137 on epoch: 101\n",
            "388/388 [==============================] - 4s 10ms/step - loss: 0.4262 - f1_metrics: 0.3769 - accuracy: 0.8338 - val_loss: 0.4144 - val_f1_metrics: 0.3803 - val_accuracy: 0.8343\n",
            "Epoch 103/200\n",
            "384/388 [============================>.] - ETA: 0s - loss: 0.4250 - f1_metrics: 0.3771 - accuracy: 0.8335\n",
            " Best F1 0.38057777285575867 on epoch: 102\n",
            "388/388 [==============================] - 4s 10ms/step - loss: 0.4250 - f1_metrics: 0.3771 - accuracy: 0.8335 - val_loss: 0.4141 - val_f1_metrics: 0.3806 - val_accuracy: 0.8345\n",
            "Epoch 104/200\n",
            "388/388 [==============================] - 4s 10ms/step - loss: 0.4244 - f1_metrics: 0.3772 - accuracy: 0.8339 - val_loss: 0.4138 - val_f1_metrics: 0.3801 - val_accuracy: 0.8347\n",
            "Epoch 105/200\n",
            "383/388 [============================>.] - ETA: 0s - loss: 0.4243 - f1_metrics: 0.3772 - accuracy: 0.8337\n",
            " Best F1 0.38058966398239136 on epoch: 104\n",
            "388/388 [==============================] - 4s 10ms/step - loss: 0.4242 - f1_metrics: 0.3772 - accuracy: 0.8338 - val_loss: 0.4136 - val_f1_metrics: 0.3806 - val_accuracy: 0.8347\n",
            "Epoch 106/200\n",
            "388/388 [==============================] - 4s 10ms/step - loss: 0.4240 - f1_metrics: 0.3774 - accuracy: 0.8341 - val_loss: 0.4134 - val_f1_metrics: 0.3804 - val_accuracy: 0.8347\n",
            "Epoch 107/200\n",
            "388/388 [==============================] - 4s 10ms/step - loss: 0.4243 - f1_metrics: 0.3772 - accuracy: 0.8341 - val_loss: 0.4132 - val_f1_metrics: 0.3804 - val_accuracy: 0.8347\n",
            "Epoch 108/200\n",
            "388/388 [==============================] - 4s 10ms/step - loss: 0.4238 - f1_metrics: 0.3772 - accuracy: 0.8341 - val_loss: 0.4129 - val_f1_metrics: 0.3804 - val_accuracy: 0.8344\n",
            "Epoch 109/200\n",
            "387/388 [============================>.] - ETA: 0s - loss: 0.4233 - f1_metrics: 0.3774 - accuracy: 0.8340\n",
            " Best F1 0.380604088306427 on epoch: 108\n",
            "388/388 [==============================] - 4s 10ms/step - loss: 0.4232 - f1_metrics: 0.3774 - accuracy: 0.8340 - val_loss: 0.4126 - val_f1_metrics: 0.3806 - val_accuracy: 0.8346\n",
            "Epoch 110/200\n",
            "388/388 [==============================] - 4s 10ms/step - loss: 0.4229 - f1_metrics: 0.3775 - accuracy: 0.8339 - val_loss: 0.4124 - val_f1_metrics: 0.3804 - val_accuracy: 0.8347\n",
            "Epoch 111/200\n",
            "388/388 [==============================] - 4s 10ms/step - loss: 0.4230 - f1_metrics: 0.3775 - accuracy: 0.8342 - val_loss: 0.4122 - val_f1_metrics: 0.3803 - val_accuracy: 0.8346\n",
            "Epoch 112/200\n",
            "388/388 [==============================] - 4s 10ms/step - loss: 0.4225 - f1_metrics: 0.3775 - accuracy: 0.8340 - val_loss: 0.4121 - val_f1_metrics: 0.3801 - val_accuracy: 0.8347\n",
            "Epoch 113/200\n",
            "388/388 [==============================] - 4s 10ms/step - loss: 0.4222 - f1_metrics: 0.3776 - accuracy: 0.8344 - val_loss: 0.4119 - val_f1_metrics: 0.3804 - val_accuracy: 0.8343\n",
            "Epoch 114/200\n",
            "388/388 [==============================] - 4s 10ms/step - loss: 0.4218 - f1_metrics: 0.3776 - accuracy: 0.8340 - val_loss: 0.4116 - val_f1_metrics: 0.3806 - val_accuracy: 0.8345\n",
            "Epoch 115/200\n",
            "388/388 [==============================] - 4s 10ms/step - loss: 0.4220 - f1_metrics: 0.3776 - accuracy: 0.8342 - val_loss: 0.4115 - val_f1_metrics: 0.3800 - val_accuracy: 0.8349\n",
            "Epoch 116/200\n",
            "388/388 [==============================] - 4s 10ms/step - loss: 0.4215 - f1_metrics: 0.3777 - accuracy: 0.8344 - val_loss: 0.4113 - val_f1_metrics: 0.3802 - val_accuracy: 0.8345\n",
            "Epoch 117/200\n",
            "388/388 [==============================] - 4s 10ms/step - loss: 0.4214 - f1_metrics: 0.3777 - accuracy: 0.8347 - val_loss: 0.4110 - val_f1_metrics: 0.3802 - val_accuracy: 0.8345\n",
            "Epoch 118/200\n",
            "388/388 [==============================] - 4s 10ms/step - loss: 0.4212 - f1_metrics: 0.3777 - accuracy: 0.8344 - val_loss: 0.4109 - val_f1_metrics: 0.3804 - val_accuracy: 0.8343\n",
            "Epoch 119/200\n",
            "388/388 [==============================] - 4s 10ms/step - loss: 0.4211 - f1_metrics: 0.3777 - accuracy: 0.8344 - val_loss: 0.4106 - val_f1_metrics: 0.3806 - val_accuracy: 0.8345\n",
            "Epoch 120/200\n",
            "388/388 [==============================] - 4s 10ms/step - loss: 0.4206 - f1_metrics: 0.3778 - accuracy: 0.8349 - val_loss: 0.4104 - val_f1_metrics: 0.3806 - val_accuracy: 0.8345\n",
            "Epoch 121/200\n",
            "385/388 [============================>.] - ETA: 0s - loss: 0.4205 - f1_metrics: 0.3778 - accuracy: 0.8342\n",
            " Best F1 0.3806416690349579 on epoch: 120\n",
            "388/388 [==============================] - 4s 10ms/step - loss: 0.4205 - f1_metrics: 0.3778 - accuracy: 0.8342 - val_loss: 0.4102 - val_f1_metrics: 0.3806 - val_accuracy: 0.8346\n",
            "Epoch 122/200\n",
            "388/388 [==============================] - 4s 10ms/step - loss: 0.4202 - f1_metrics: 0.3779 - accuracy: 0.8345 - val_loss: 0.4101 - val_f1_metrics: 0.3803 - val_accuracy: 0.8345\n",
            "Epoch 123/200\n",
            "382/388 [============================>.] - ETA: 0s - loss: 0.4195 - f1_metrics: 0.3781 - accuracy: 0.8343\n",
            " Best F1 0.38081640005111694 on epoch: 122\n",
            "388/388 [==============================] - 4s 10ms/step - loss: 0.4193 - f1_metrics: 0.3781 - accuracy: 0.8343 - val_loss: 0.4098 - val_f1_metrics: 0.3808 - val_accuracy: 0.8347\n",
            "Epoch 124/200\n",
            "388/388 [==============================] - 4s 10ms/step - loss: 0.4196 - f1_metrics: 0.3780 - accuracy: 0.8345 - val_loss: 0.4097 - val_f1_metrics: 0.3806 - val_accuracy: 0.8348\n",
            "Epoch 125/200\n",
            "388/388 [==============================] - 4s 10ms/step - loss: 0.4196 - f1_metrics: 0.3780 - accuracy: 0.8348 - val_loss: 0.4096 - val_f1_metrics: 0.3803 - val_accuracy: 0.8348\n",
            "Epoch 126/200\n",
            "388/388 [==============================] - 4s 10ms/step - loss: 0.4185 - f1_metrics: 0.3782 - accuracy: 0.8343 - val_loss: 0.4095 - val_f1_metrics: 0.3806 - val_accuracy: 0.8351\n",
            "Epoch 127/200\n",
            "388/388 [==============================] - 4s 10ms/step - loss: 0.4184 - f1_metrics: 0.3783 - accuracy: 0.8346 - val_loss: 0.4094 - val_f1_metrics: 0.3800 - val_accuracy: 0.8347\n",
            "Epoch 128/200\n",
            "388/388 [==============================] - 4s 10ms/step - loss: 0.4188 - f1_metrics: 0.3781 - accuracy: 0.8348 - val_loss: 0.4090 - val_f1_metrics: 0.3805 - val_accuracy: 0.8350\n",
            "Epoch 129/200\n",
            "388/388 [==============================] - 4s 10ms/step - loss: 0.4185 - f1_metrics: 0.3782 - accuracy: 0.8346 - val_loss: 0.4093 - val_f1_metrics: 0.3798 - val_accuracy: 0.8346\n",
            "Epoch 130/200\n",
            "388/388 [==============================] - 4s 10ms/step - loss: 0.4181 - f1_metrics: 0.3783 - accuracy: 0.8348 - val_loss: 0.4087 - val_f1_metrics: 0.3803 - val_accuracy: 0.8348\n",
            "Epoch 131/200\n",
            "388/388 [==============================] - 4s 10ms/step - loss: 0.4183 - f1_metrics: 0.3782 - accuracy: 0.8344 - val_loss: 0.4091 - val_f1_metrics: 0.3797 - val_accuracy: 0.8350\n",
            "Epoch 132/200\n",
            "388/388 [==============================] - 4s 10ms/step - loss: 0.4174 - f1_metrics: 0.3784 - accuracy: 0.8352 - val_loss: 0.4084 - val_f1_metrics: 0.3807 - val_accuracy: 0.8349\n",
            "Epoch 133/200\n",
            "388/388 [==============================] - 4s 10ms/step - loss: 0.4177 - f1_metrics: 0.3783 - accuracy: 0.8351 - val_loss: 0.4085 - val_f1_metrics: 0.3799 - val_accuracy: 0.8347\n",
            "Epoch 134/200\n",
            "388/388 [==============================] - 4s 10ms/step - loss: 0.4173 - f1_metrics: 0.3783 - accuracy: 0.8350 - val_loss: 0.4080 - val_f1_metrics: 0.3807 - val_accuracy: 0.8350\n",
            "Epoch 135/200\n",
            "388/388 [==============================] - 4s 10ms/step - loss: 0.4176 - f1_metrics: 0.3783 - accuracy: 0.8346 - val_loss: 0.4081 - val_f1_metrics: 0.3804 - val_accuracy: 0.8349\n",
            "Epoch 136/200\n",
            "383/388 [============================>.] - ETA: 0s - loss: 0.4169 - f1_metrics: 0.3784 - accuracy: 0.8354\n",
            " Best F1 0.3808455467224121 on epoch: 135\n",
            "388/388 [==============================] - 4s 10ms/step - loss: 0.4170 - f1_metrics: 0.3784 - accuracy: 0.8354 - val_loss: 0.4077 - val_f1_metrics: 0.3808 - val_accuracy: 0.8350\n",
            "Epoch 137/200\n",
            "388/388 [==============================] - 4s 10ms/step - loss: 0.4165 - f1_metrics: 0.3785 - accuracy: 0.8349 - val_loss: 0.4078 - val_f1_metrics: 0.3803 - val_accuracy: 0.8351\n",
            "Epoch 138/200\n",
            "388/388 [==============================] - 4s 10ms/step - loss: 0.4161 - f1_metrics: 0.3786 - accuracy: 0.8348 - val_loss: 0.4074 - val_f1_metrics: 0.3807 - val_accuracy: 0.8350\n",
            "Epoch 139/200\n",
            "384/388 [============================>.] - ETA: 0s - loss: 0.4162 - f1_metrics: 0.3786 - accuracy: 0.8350\n",
            " Best F1 0.3810739517211914 on epoch: 138\n",
            "388/388 [==============================] - 4s 10ms/step - loss: 0.4163 - f1_metrics: 0.3786 - accuracy: 0.8350 - val_loss: 0.4072 - val_f1_metrics: 0.3811 - val_accuracy: 0.8350\n",
            "Epoch 140/200\n",
            "388/388 [==============================] - 4s 10ms/step - loss: 0.4161 - f1_metrics: 0.3786 - accuracy: 0.8350 - val_loss: 0.4070 - val_f1_metrics: 0.3809 - val_accuracy: 0.8351\n",
            "Epoch 141/200\n",
            "388/388 [==============================] - 4s 10ms/step - loss: 0.4161 - f1_metrics: 0.3786 - accuracy: 0.8350 - val_loss: 0.4069 - val_f1_metrics: 0.3806 - val_accuracy: 0.8350\n",
            "Epoch 142/200\n",
            "384/388 [============================>.] - ETA: 0s - loss: 0.4154 - f1_metrics: 0.3787 - accuracy: 0.8351\n",
            " Best F1 0.3811425566673279 on epoch: 141\n",
            "388/388 [==============================] - 4s 11ms/step - loss: 0.4154 - f1_metrics: 0.3787 - accuracy: 0.8350 - val_loss: 0.4067 - val_f1_metrics: 0.3811 - val_accuracy: 0.8349\n",
            "Epoch 143/200\n",
            "388/388 [==============================] - 4s 10ms/step - loss: 0.4154 - f1_metrics: 0.3787 - accuracy: 0.8353 - val_loss: 0.4067 - val_f1_metrics: 0.3806 - val_accuracy: 0.8349\n",
            "Epoch 144/200\n",
            "388/388 [==============================] - 4s 10ms/step - loss: 0.4153 - f1_metrics: 0.3787 - accuracy: 0.8344 - val_loss: 0.4065 - val_f1_metrics: 0.3809 - val_accuracy: 0.8351\n",
            "Epoch 145/200\n",
            "383/388 [============================>.] - ETA: 0s - loss: 0.4152 - f1_metrics: 0.3787 - accuracy: 0.8352\n",
            " Best F1 0.3815547525882721 on epoch: 144\n",
            "388/388 [==============================] - 4s 10ms/step - loss: 0.4152 - f1_metrics: 0.3787 - accuracy: 0.8352 - val_loss: 0.4062 - val_f1_metrics: 0.3816 - val_accuracy: 0.8350\n",
            "Epoch 146/200\n",
            "382/388 [============================>.] - ETA: 0s - loss: 0.4147 - f1_metrics: 0.3788 - accuracy: 0.8356\n",
            " Best F1 0.38159865140914917 on epoch: 145\n",
            "388/388 [==============================] - 4s 10ms/step - loss: 0.4148 - f1_metrics: 0.3788 - accuracy: 0.8357 - val_loss: 0.4061 - val_f1_metrics: 0.3816 - val_accuracy: 0.8350\n",
            "Epoch 147/200\n",
            "388/388 [==============================] - 4s 10ms/step - loss: 0.4146 - f1_metrics: 0.3789 - accuracy: 0.8350 - val_loss: 0.4059 - val_f1_metrics: 0.3815 - val_accuracy: 0.8350\n",
            "Epoch 148/200\n",
            "388/388 [==============================] - 4s 10ms/step - loss: 0.4148 - f1_metrics: 0.3788 - accuracy: 0.8357 - val_loss: 0.4058 - val_f1_metrics: 0.3810 - val_accuracy: 0.8351\n",
            "Epoch 149/200\n",
            "382/388 [============================>.] - ETA: 0s - loss: 0.4142 - f1_metrics: 0.3789 - accuracy: 0.8356\n",
            " Best F1 0.3817455768585205 on epoch: 148\n",
            "388/388 [==============================] - 4s 10ms/step - loss: 0.4142 - f1_metrics: 0.3789 - accuracy: 0.8356 - val_loss: 0.4057 - val_f1_metrics: 0.3817 - val_accuracy: 0.8350\n",
            "Epoch 150/200\n",
            "388/388 [==============================] - 4s 10ms/step - loss: 0.4144 - f1_metrics: 0.3789 - accuracy: 0.8353 - val_loss: 0.4055 - val_f1_metrics: 0.3815 - val_accuracy: 0.8349\n",
            "Epoch 151/200\n",
            "387/388 [============================>.] - ETA: 0s - loss: 0.4141 - f1_metrics: 0.3789 - accuracy: 0.8354\n",
            " Best F1 0.3824119567871094 on epoch: 150\n",
            "388/388 [==============================] - 4s 10ms/step - loss: 0.4142 - f1_metrics: 0.3789 - accuracy: 0.8354 - val_loss: 0.4058 - val_f1_metrics: 0.3824 - val_accuracy: 0.8346\n",
            "Epoch 152/200\n",
            "388/388 [==============================] - 4s 10ms/step - loss: 0.4138 - f1_metrics: 0.3790 - accuracy: 0.8359 - val_loss: 0.4053 - val_f1_metrics: 0.3812 - val_accuracy: 0.8351\n",
            "Epoch 153/200\n",
            "388/388 [==============================] - 4s 10ms/step - loss: 0.4136 - f1_metrics: 0.3790 - accuracy: 0.8354 - val_loss: 0.4051 - val_f1_metrics: 0.3818 - val_accuracy: 0.8348\n",
            "Epoch 154/200\n",
            "388/388 [==============================] - 4s 10ms/step - loss: 0.4136 - f1_metrics: 0.3790 - accuracy: 0.8351 - val_loss: 0.4049 - val_f1_metrics: 0.3818 - val_accuracy: 0.8350\n",
            "Epoch 155/200\n",
            "388/388 [==============================] - 4s 10ms/step - loss: 0.4129 - f1_metrics: 0.3792 - accuracy: 0.8360 - val_loss: 0.4048 - val_f1_metrics: 0.3816 - val_accuracy: 0.8348\n",
            "Epoch 156/200\n",
            "388/388 [==============================] - 4s 10ms/step - loss: 0.4133 - f1_metrics: 0.3790 - accuracy: 0.8351 - val_loss: 0.4048 - val_f1_metrics: 0.3815 - val_accuracy: 0.8353\n",
            "Epoch 157/200\n",
            "388/388 [==============================] - 4s 10ms/step - loss: 0.4130 - f1_metrics: 0.3791 - accuracy: 0.8354 - val_loss: 0.4046 - val_f1_metrics: 0.3821 - val_accuracy: 0.8349\n",
            "Epoch 158/200\n",
            "388/388 [==============================] - 4s 10ms/step - loss: 0.4128 - f1_metrics: 0.3792 - accuracy: 0.8359 - val_loss: 0.4044 - val_f1_metrics: 0.3815 - val_accuracy: 0.8353\n",
            "Epoch 159/200\n",
            "388/388 [==============================] - 4s 10ms/step - loss: 0.4127 - f1_metrics: 0.3792 - accuracy: 0.8353 - val_loss: 0.4043 - val_f1_metrics: 0.3819 - val_accuracy: 0.8349\n",
            "Epoch 160/200\n",
            "388/388 [==============================] - 4s 10ms/step - loss: 0.4122 - f1_metrics: 0.3793 - accuracy: 0.8356 - val_loss: 0.4042 - val_f1_metrics: 0.3818 - val_accuracy: 0.8352\n",
            "Epoch 161/200\n",
            "381/388 [============================>.] - ETA: 0s - loss: 0.4119 - f1_metrics: 0.3793 - accuracy: 0.8354\n",
            " Best F1 0.3825231194496155 on epoch: 160\n",
            "388/388 [==============================] - 4s 10ms/step - loss: 0.4120 - f1_metrics: 0.3793 - accuracy: 0.8355 - val_loss: 0.4043 - val_f1_metrics: 0.3825 - val_accuracy: 0.8349\n",
            "Epoch 162/200\n",
            "388/388 [==============================] - 4s 10ms/step - loss: 0.4126 - f1_metrics: 0.3792 - accuracy: 0.8357 - val_loss: 0.4040 - val_f1_metrics: 0.3817 - val_accuracy: 0.8356\n",
            "Epoch 163/200\n",
            "388/388 [==============================] - 4s 10ms/step - loss: 0.4119 - f1_metrics: 0.3793 - accuracy: 0.8359 - val_loss: 0.4039 - val_f1_metrics: 0.3817 - val_accuracy: 0.8354\n",
            "Epoch 164/200\n",
            "388/388 [==============================] - 4s 10ms/step - loss: 0.4116 - f1_metrics: 0.3794 - accuracy: 0.8357 - val_loss: 0.4042 - val_f1_metrics: 0.3810 - val_accuracy: 0.8355\n",
            "Epoch 165/200\n",
            "388/388 [==============================] - 4s 10ms/step - loss: 0.4118 - f1_metrics: 0.3794 - accuracy: 0.8361 - val_loss: 0.4037 - val_f1_metrics: 0.3818 - val_accuracy: 0.8353\n",
            "Epoch 166/200\n",
            "388/388 [==============================] - 4s 10ms/step - loss: 0.4119 - f1_metrics: 0.3793 - accuracy: 0.8358 - val_loss: 0.4039 - val_f1_metrics: 0.3812 - val_accuracy: 0.8357\n",
            "Epoch 167/200\n",
            "388/388 [==============================] - 4s 10ms/step - loss: 0.4116 - f1_metrics: 0.3793 - accuracy: 0.8359 - val_loss: 0.4039 - val_f1_metrics: 0.3809 - val_accuracy: 0.8356\n",
            "Epoch 168/200\n",
            "388/388 [==============================] - 4s 10ms/step - loss: 0.4112 - f1_metrics: 0.3795 - accuracy: 0.8363 - val_loss: 0.4037 - val_f1_metrics: 0.3811 - val_accuracy: 0.8356\n",
            "Epoch 169/200\n",
            "388/388 [==============================] - 4s 10ms/step - loss: 0.4115 - f1_metrics: 0.3794 - accuracy: 0.8360 - val_loss: 0.4039 - val_f1_metrics: 0.3808 - val_accuracy: 0.8355\n",
            "Epoch 170/200\n",
            "388/388 [==============================] - 4s 10ms/step - loss: 0.4117 - f1_metrics: 0.3793 - accuracy: 0.8356 - val_loss: 0.4032 - val_f1_metrics: 0.3814 - val_accuracy: 0.8358\n",
            "Epoch 171/200\n",
            "388/388 [==============================] - 4s 10ms/step - loss: 0.4111 - f1_metrics: 0.3794 - accuracy: 0.8359 - val_loss: 0.4037 - val_f1_metrics: 0.3806 - val_accuracy: 0.8355\n",
            "Epoch 172/200\n",
            "388/388 [==============================] - 4s 10ms/step - loss: 0.4111 - f1_metrics: 0.3795 - accuracy: 0.8354 - val_loss: 0.4032 - val_f1_metrics: 0.3809 - val_accuracy: 0.8356\n",
            "Epoch 173/200\n",
            "388/388 [==============================] - 4s 10ms/step - loss: 0.4109 - f1_metrics: 0.3795 - accuracy: 0.8360 - val_loss: 0.4037 - val_f1_metrics: 0.3804 - val_accuracy: 0.8354\n",
            "Epoch 174/200\n",
            "388/388 [==============================] - 4s 10ms/step - loss: 0.4104 - f1_metrics: 0.3796 - accuracy: 0.8356 - val_loss: 0.4036 - val_f1_metrics: 0.3802 - val_accuracy: 0.8355\n",
            "Epoch 175/200\n",
            "388/388 [==============================] - 4s 10ms/step - loss: 0.4107 - f1_metrics: 0.3795 - accuracy: 0.8363 - val_loss: 0.4033 - val_f1_metrics: 0.3804 - val_accuracy: 0.8356\n",
            "Epoch 176/200\n",
            "388/388 [==============================] - 4s 10ms/step - loss: 0.4107 - f1_metrics: 0.3795 - accuracy: 0.8358 - val_loss: 0.4035 - val_f1_metrics: 0.3803 - val_accuracy: 0.8353\n",
            "Epoch 177/200\n",
            "388/388 [==============================] - 4s 10ms/step - loss: 0.4101 - f1_metrics: 0.3796 - accuracy: 0.8359 - val_loss: 0.4037 - val_f1_metrics: 0.3800 - val_accuracy: 0.8353\n",
            "Epoch 178/200\n",
            "388/388 [==============================] - 4s 10ms/step - loss: 0.4104 - f1_metrics: 0.3796 - accuracy: 0.8360 - val_loss: 0.4035 - val_f1_metrics: 0.3803 - val_accuracy: 0.8353\n",
            "Epoch 179/200\n",
            "388/388 [==============================] - 4s 10ms/step - loss: 0.4097 - f1_metrics: 0.3797 - accuracy: 0.8362 - val_loss: 0.4033 - val_f1_metrics: 0.3804 - val_accuracy: 0.8352\n",
            "Epoch 180/200\n",
            "388/388 [==============================] - 4s 10ms/step - loss: 0.4097 - f1_metrics: 0.3797 - accuracy: 0.8362 - val_loss: 0.4035 - val_f1_metrics: 0.3801 - val_accuracy: 0.8354\n",
            "Epoch 181/200\n",
            "388/388 [==============================] - 4s 10ms/step - loss: 0.4099 - f1_metrics: 0.3797 - accuracy: 0.8359 - val_loss: 0.4029 - val_f1_metrics: 0.3803 - val_accuracy: 0.8353\n",
            "Epoch 182/200\n",
            "388/388 [==============================] - 4s 10ms/step - loss: 0.4099 - f1_metrics: 0.3797 - accuracy: 0.8358 - val_loss: 0.4023 - val_f1_metrics: 0.3812 - val_accuracy: 0.8357\n",
            "Epoch 183/200\n",
            "388/388 [==============================] - 4s 10ms/step - loss: 0.4096 - f1_metrics: 0.3797 - accuracy: 0.8361 - val_loss: 0.4025 - val_f1_metrics: 0.3807 - val_accuracy: 0.8354\n",
            "Epoch 184/200\n",
            "388/388 [==============================] - 4s 10ms/step - loss: 0.4091 - f1_metrics: 0.3798 - accuracy: 0.8361 - val_loss: 0.4021 - val_f1_metrics: 0.3811 - val_accuracy: 0.8356\n",
            "Epoch 185/200\n",
            "388/388 [==============================] - 4s 10ms/step - loss: 0.4102 - f1_metrics: 0.3796 - accuracy: 0.8360 - val_loss: 0.4017 - val_f1_metrics: 0.3817 - val_accuracy: 0.8357\n",
            "Epoch 186/200\n",
            "388/388 [==============================] - 4s 10ms/step - loss: 0.4092 - f1_metrics: 0.3798 - accuracy: 0.8361 - val_loss: 0.4016 - val_f1_metrics: 0.3823 - val_accuracy: 0.8356\n",
            "Epoch 187/200\n",
            "388/388 [==============================] - 4s 10ms/step - loss: 0.4087 - f1_metrics: 0.3798 - accuracy: 0.8363 - val_loss: 0.4015 - val_f1_metrics: 0.3822 - val_accuracy: 0.8357\n",
            "Epoch 188/200\n",
            "388/388 [==============================] - 4s 10ms/step - loss: 0.4090 - f1_metrics: 0.3798 - accuracy: 0.8360 - val_loss: 0.4014 - val_f1_metrics: 0.3820 - val_accuracy: 0.8358\n",
            "Epoch 189/200\n",
            "386/388 [============================>.] - ETA: 0s - loss: 0.4089 - f1_metrics: 0.3799 - accuracy: 0.8363\n",
            " Best F1 0.38254740834236145 on epoch: 188\n",
            "388/388 [==============================] - 4s 10ms/step - loss: 0.4089 - f1_metrics: 0.3799 - accuracy: 0.8362 - val_loss: 0.4013 - val_f1_metrics: 0.3825 - val_accuracy: 0.8357\n",
            "Epoch 190/200\n",
            "383/388 [============================>.] - ETA: 0s - loss: 0.4083 - f1_metrics: 0.3800 - accuracy: 0.8362\n",
            " Best F1 0.382643461227417 on epoch: 189\n",
            "388/388 [==============================] - 4s 10ms/step - loss: 0.4083 - f1_metrics: 0.3800 - accuracy: 0.8362 - val_loss: 0.4013 - val_f1_metrics: 0.3826 - val_accuracy: 0.8355\n",
            "Epoch 191/200\n",
            "382/388 [============================>.] - ETA: 0s - loss: 0.4087 - f1_metrics: 0.3798 - accuracy: 0.8363\n",
            " Best F1 0.38280999660491943 on epoch: 190\n",
            "388/388 [==============================] - 4s 10ms/step - loss: 0.4088 - f1_metrics: 0.3798 - accuracy: 0.8363 - val_loss: 0.4012 - val_f1_metrics: 0.3828 - val_accuracy: 0.8355\n",
            "Epoch 192/200\n",
            "381/388 [============================>.] - ETA: 0s - loss: 0.4089 - f1_metrics: 0.3798 - accuracy: 0.8365\n",
            " Best F1 0.3831336200237274 on epoch: 191\n",
            "388/388 [==============================] - 4s 10ms/step - loss: 0.4089 - f1_metrics: 0.3798 - accuracy: 0.8366 - val_loss: 0.4013 - val_f1_metrics: 0.3831 - val_accuracy: 0.8352\n",
            "Epoch 193/200\n",
            "388/388 [==============================] - 4s 10ms/step - loss: 0.4081 - f1_metrics: 0.3800 - accuracy: 0.8363 - val_loss: 0.4011 - val_f1_metrics: 0.3828 - val_accuracy: 0.8354\n",
            "Epoch 194/200\n",
            "388/388 [==============================] - 4s 10ms/step - loss: 0.4084 - f1_metrics: 0.3799 - accuracy: 0.8363 - val_loss: 0.4009 - val_f1_metrics: 0.3824 - val_accuracy: 0.8359\n",
            "Epoch 195/200\n",
            "388/388 [==============================] - 4s 10ms/step - loss: 0.4079 - f1_metrics: 0.3800 - accuracy: 0.8365 - val_loss: 0.4007 - val_f1_metrics: 0.3823 - val_accuracy: 0.8360\n",
            "Epoch 196/200\n",
            "382/388 [============================>.] - ETA: 0s - loss: 0.4075 - f1_metrics: 0.3801 - accuracy: 0.8365\n",
            " Best F1 0.38317230343818665 on epoch: 195\n",
            "388/388 [==============================] - 4s 10ms/step - loss: 0.4076 - f1_metrics: 0.3801 - accuracy: 0.8364 - val_loss: 0.4009 - val_f1_metrics: 0.3832 - val_accuracy: 0.8354\n",
            "Epoch 197/200\n",
            "388/388 [==============================] - 4s 10ms/step - loss: 0.4077 - f1_metrics: 0.3801 - accuracy: 0.8365 - val_loss: 0.4006 - val_f1_metrics: 0.3821 - val_accuracy: 0.8359\n",
            "Epoch 198/200\n",
            "388/388 [==============================] - 4s 10ms/step - loss: 0.4076 - f1_metrics: 0.3801 - accuracy: 0.8367 - val_loss: 0.4006 - val_f1_metrics: 0.3830 - val_accuracy: 0.8355\n",
            "Epoch 199/200\n",
            "388/388 [==============================] - 4s 10ms/step - loss: 0.4078 - f1_metrics: 0.3801 - accuracy: 0.8367 - val_loss: 0.4006 - val_f1_metrics: 0.3831 - val_accuracy: 0.8355\n",
            "Epoch 200/200\n",
            "388/388 [==============================] - 4s 10ms/step - loss: 0.4076 - f1_metrics: 0.3800 - accuracy: 0.8365 - val_loss: 0.4004 - val_f1_metrics: 0.3826 - val_accuracy: 0.8357\n",
            "Training time =  0:13:03.469724\n"
          ],
          "name": "stdout"
        }
      ]
    },
    {
      "cell_type": "code",
      "metadata": {
        "id": "-ZZxOkF2sfMR",
        "colab_type": "code",
        "outputId": "15d861e5-5e98-487c-c4d3-b050203f6a81",
        "colab": {
          "base_uri": "https://localhost:8080/",
          "height": 421
        }
      },
      "source": [
        "#визуализируем тренировку\n",
        "plt.figure(figsize=(10,6))  \n",
        "plt.plot(history.history['f1_metrics'])\n",
        "plt.plot(history.history['val_f1_metrics'])\n",
        "\n",
        "plt.xlabel('Epoch')\n",
        "plt.ylabel('_accuracy')\n",
        "plt.title('Training')\n",
        "plt.legend(['Train','Valid'])"
      ],
      "execution_count": 30,
      "outputs": [
        {
          "output_type": "execute_result",
          "data": {
            "text/plain": [
              "<matplotlib.legend.Legend at 0x7f05c8f427f0>"
            ]
          },
          "metadata": {
            "tags": []
          },
          "execution_count": 30
        },
        {
          "output_type": "display_data",
          "data": {
            "image/png": "[encoded data removed]",
            "text/plain": [
              "<Figure size 720x432 with 1 Axes>"
            ]
          },
          "metadata": {
            "tags": []
          }
        }
      ]
    },
    {
      "cell_type": "code",
      "metadata": {
        "id": "wsPnWRees_pZ",
        "colab_type": "code",
        "colab": {}
      },
      "source": [
        "def save_all(model_wpath = 'Ancient_DNA.json'):\n",
        "    saved_model = model.to_json()\n",
        "    with open(model_wpath, 'w') as json_file:\n",
        "        json_file.write(saved_model)"
      ],
      "execution_count": 0,
      "outputs": []
    },
    {
      "cell_type": "code",
      "metadata": {
        "id": "2fDKn4DHuMST",
        "colab_type": "code",
        "colab": {}
      },
      "source": [
        "save_all()"
      ],
      "execution_count": 0,
      "outputs": []
    },
    {
      "cell_type": "code",
      "metadata": {
        "id": "m8-mp8bLM3uV",
        "colab_type": "code",
        "colab": {}
      },
      "source": [
        "def load_all (weights_file, model_wpath): \n",
        "    jfile = open(model_wpath, 'r')\n",
        "    saved_model = jfile.read()\n",
        "    jfile.close()\n",
        "    loaded_model = model_from_json(saved_model)          \n",
        "    loaded_model.load_weights(weights_file)\n",
        "    \n",
        "    return loaded_model"
      ],
      "execution_count": 0,
      "outputs": []
    },
    {
      "cell_type": "code",
      "metadata": {
        "id": "tq_hvnMANP2I",
        "colab_type": "code",
        "colab": {}
      },
      "source": [
        "model.load_weights('Weights_10.02_ep195_f1_0.38.h5')"
      ],
      "execution_count": 0,
      "outputs": []
    },
    {
      "cell_type": "code",
      "metadata": {
        "id": "uJ26lyIQNWAN",
        "colab_type": "code",
        "colab": {}
      },
      "source": [
        "def predict_cpu (x, cpu_model, batch_size = batch_size):\n",
        "    #предикт с учетом батча\n",
        "    for i in tqdm(range(0, int(x.shape[0] / batch_size))):    \n",
        "    \n",
        "        if not(i):\n",
        "            predict = np.array(cpu_model.predict(x[i * batch_size:(i + 1) * batch_size,:,:]))\n",
        "        else:\n",
        "            predict = np.append(predict, cpu_model.predict(x[i * batch_size:(i + 1) * batch_size,:,:]), axis =0)\n",
        "        \n",
        "    print(np.shape(predict))\n",
        "    predict = np.append(predict, cpu_model.predict(x[-1024:,:,:])[- x.shape[0] % batch_size:, :], axis = 0)\n",
        "    return predict"
      ],
      "execution_count": 0,
      "outputs": []
    },
    {
      "cell_type": "code",
      "metadata": {
        "id": "KtUeKopmNvPP",
        "colab_type": "code",
        "outputId": "8d921bf4-0f22-474b-a73c-8cff4004d684",
        "colab": {
          "base_uri": "https://localhost:8080/",
          "height": 53
        }
      },
      "source": [
        "predict_DNA = predict_cpu(test_features, model)"
      ],
      "execution_count": 34,
      "outputs": [
        {
          "output_type": "stream",
          "text": [
            "100%|██████████| 129/129 [00:03<00:00, 39.89it/s]\n"
          ],
          "name": "stderr"
        },
        {
          "output_type": "stream",
          "text": [
            "(132096, 2)\n"
          ],
          "name": "stdout"
        }
      ]
    },
    {
      "cell_type": "code",
      "metadata": {
        "id": "4PjId4M7dPCD",
        "colab_type": "code",
        "colab": {}
      },
      "source": [
        "from sklearn.metrics import confusion_matrix\n",
        "import itertools"
      ],
      "execution_count": 0,
      "outputs": []
    },
    {
      "cell_type": "code",
      "metadata": {
        "id": "m9obaS1yz5RF",
        "colab_type": "code",
        "outputId": "413fe609-204d-45e2-ccb6-94f8d7a999f0",
        "colab": {
          "base_uri": "https://localhost:8080/",
          "height": 88
        }
      },
      "source": [
        "plt.figure(figsize = (10,8))\n",
        "cm = confusion_matrix(np.argmax(test_labels, axis = 1), np.argmax(predict_DNA, axis = 1))\n",
        "print('Confusion matrix:\\n', cm)"
      ],
      "execution_count": 36,
      "outputs": [
        {
          "output_type": "stream",
          "text": [
            "Confusion matrix:\n",
            " [[52233 13995]\n",
            " [ 7847 58545]]\n"
          ],
          "name": "stdout"
        },
        {
          "output_type": "display_data",
          "data": {
            "text/plain": [
              "<Figure size 720x576 with 0 Axes>"
            ]
          },
          "metadata": {
            "tags": []
          }
        }
      ]
    },
    {
      "cell_type": "code",
      "metadata": {
        "id": "IXhvlQL0CxLi",
        "colab_type": "code",
        "outputId": "776539cd-abf4-4af5-be4b-6b7512c088f8",
        "colab": {
          "base_uri": "https://localhost:8080/",
          "height": 295
        }
      },
      "source": [
        "#визуализируем предикт\n",
        "cm = cm.astype('float') / cm.sum(axis = 1)[:, np.newaxis]\n",
        "plt.imshow(cm, cmap = plt.cm.Blues)\n",
        "plt.title('Normolized confiusion matrix')\n",
        "plt.colorbar()\n",
        "plt.xlabel('True label')\n",
        "plt.ylabel('Predicted label')\n",
        "plt.xticks([0,1]);plt.yticks([0,1])\n",
        "plt.grid('off')\n",
        "for i,j in itertools.product(range(cm.shape[0]), range(cm.shape[1])):\n",
        "    plt.text(j,i, f'{np.round(cm[i,j], 2)}',\n",
        "    horizontalalignment = 'center',\n",
        "    color = 'white' if cm[i,j] > 0.5 else 'black')\n",
        "plt.show()"
      ],
      "execution_count": 37,
      "outputs": [
        {
          "output_type": "display_data",
          "data": {
            "image/png": "[encoded data removed]",
            "text/plain": [
              "<Figure size 432x288 with 2 Axes>"
            ]
          },
          "metadata": {
            "tags": []
          }
        }
      ]
    },
    {
      "cell_type": "code",
      "metadata": {
        "id": "z_YAobDRN1tT",
        "colab_type": "code",
        "outputId": "55b8dbe3-07e8-4c9b-f9cb-93440d8a1f22",
        "colab": {
          "base_uri": "https://localhost:8080/",
          "height": 35
        }
      },
      "source": [
        "print(np.shape(test_features), np.shape(test_labels), np.shape(predict_DNA))"
      ],
      "execution_count": 38,
      "outputs": [
        {
          "output_type": "stream",
          "text": [
            "(132620, 76, 4) (132620, 2) (132620, 2)\n"
          ],
          "name": "stdout"
        }
      ]
    },
    {
      "cell_type": "markdown",
      "metadata": {
        "id": "TrBbaoChDnY9",
        "colab_type": "text"
      },
      "source": [
        "#Что дальше?\n",
        "1. Попробуем задать контекст геномным последовательностям используя библиотеку Genomic-ULMFiT\n",
        "2. Токенизируем последовательности\n",
        "3. Создадим эмбеддинги либо возьмём готовую (трансфер лернинг)\n",
        "4. LSTM архитектура \n",
        "5. Классификация последовтельностей разной длины с учетом контекста"
      ]
    }
  ]
}