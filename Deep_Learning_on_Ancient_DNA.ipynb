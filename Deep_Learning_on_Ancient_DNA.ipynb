{
  "nbformat": 4,
  "nbformat_minor": 0,
  "metadata": {
    "colab": {
      "name": "Deep Learning on Ancient DNA.ipynb",
      "version": "0.3.2",
      "provenance": [],
      "collapsed_sections": [],
      "include_colab_link": true
    },
    "kernelspec": {
      "name": "python3",
      "display_name": "Python 3"
    },
    "accelerator": "TPU"
  },
  "cells": [
    {
      "cell_type": "markdown",
      "metadata": {
        "id": "view-in-github",
        "colab_type": "text"
      },
      "source": [
        "<a href=\"https://colab.research.google.com/github/cappelchi/Ancient-DNA-with-TPU/blob/master/Deep_Learning_on_Ancient_DNA.ipynb\" target=\"_parent\"><img src=\"https://colab.research.google.com/assets/colab-badge.svg\" alt=\"Open In Colab\"/></a>"
      ]
    },
    {
      "cell_type": "markdown",
      "metadata": {
        "id": "BFXn7cMP1sUp",
        "colab_type": "text"
      },
      "source": [
        "#Deep Learning on Ancient DNA"
      ]
    },
    {
      "cell_type": "markdown",
      "metadata": {
        "id": "5GdkrIcD1xez",
        "colab_type": "text"
      },
      "source": [
        "Author [Nikolay Oskolkov](https://towardsdatascience.com/@nikolay.oskolkov)"
      ]
    },
    {
      "cell_type": "markdown",
      "metadata": {
        "id": "T5_rb3wv187A",
        "colab_type": "text"
      },
      "source": [
        "Углубляюсь в тему повторяя код и адапртиру его под  TPU. Оригинал статьи читайте [здесь](https://towardsdatascience.com/deep-learning-on-ancient-dna-df042dc3c73d)"
      ]
    },
    {
      "cell_type": "markdown",
      "metadata": {
        "id": "YJFF1h3D2u8b",
        "colab_type": "text"
      },
      "source": [
        "![alt text](https://cdn-images-1.medium.com/max/800/1*ybMR7E_I8f1ruQfKFO_tcA.jpeg)"
      ]
    },
    {
      "cell_type": "code",
      "metadata": {
        "id": "ktZVhIPJNdTv",
        "colab_type": "code",
        "outputId": "2e807bb0-5f40-479a-982e-214789a17946",
        "colab": {
          "base_uri": "https://localhost:8080/",
          "height": 34
        }
      },
      "source": [
        "!pip install pysam"
      ],
      "execution_count": 0,
      "outputs": [
        {
          "output_type": "stream",
          "text": [
            "Requirement already satisfied: pysam in /usr/local/lib/python3.6/dist-packages (0.15.2)\n"
          ],
          "name": "stdout"
        }
      ]
    },
    {
      "cell_type": "code",
      "metadata": {
        "id": "xsM5uh1ONH8l",
        "colab_type": "code",
        "colab": {}
      },
      "source": [
        "import os\n",
        "import numpy as np\n",
        "import pysam\n",
        "from google.colab import files\n",
        "from tqdm import tqdm\n",
        "import seaborn as sns\n",
        "import matplotlib.pyplot as plt\n",
        "from sklearn.preprocessing import LabelEncoder, OneHotEncoder\n",
        "import time\n",
        "from sklearn.model_selection import train_test_split\n",
        "import datetime"
      ],
      "execution_count": 0,
      "outputs": []
    },
    {
      "cell_type": "code",
      "metadata": {
        "id": "wohktEUL8Cop",
        "colab_type": "code",
        "outputId": "28111816-5d14-4bf1-92c0-c1a57795388d",
        "colab": {
          "base_uri": "https://localhost:8080/",
          "height": 1083
        }
      },
      "source": [
        "\n",
        "!wget 'ftp://ftp.ebi.ac.uk/pub/databases/ensembl/neandertal/BAM_files/Neandertal.bam'\n",
        "!wget 'ftp://ftp.ebi.ac.uk/pub/databases/ensembl/neandertal/BAM_files/Neandertal.bam.bai'\n",
        "!wget 'ftp://ftp.ebi.ac.uk/pub/databases/ensembl/neandertal/BAM_files/French.bam'\n",
        "!wget 'ftp://ftp.ebi.ac.uk/pub/databases/ensembl/neandertal/BAM_files/French.bam.bai'\n"
      ],
      "execution_count": 0,
      "outputs": [
        {
          "output_type": "stream",
          "text": [
            "--2019-05-12 15:26:11--  ftp://ftp.ebi.ac.uk/pub/databases/ensembl/neandertal/BAM_files/Neandertal.bam\n",
            "           => ‘Neandertal.bam’\n",
            "Resolving ftp.ebi.ac.uk (ftp.ebi.ac.uk)... 193.62.192.4\n",
            "Connecting to ftp.ebi.ac.uk (ftp.ebi.ac.uk)|193.62.192.4|:21... connected.\n",
            "Logging in as anonymous ... Logged in!\n",
            "==> SYST ... done.    ==> PWD ... done.\n",
            "==> TYPE I ... done.  ==> CWD (1) /pub/databases/ensembl/neandertal/BAM_files ... done.\n",
            "==> SIZE Neandertal.bam ... 4145696756\n",
            "==> PASV ... done.    ==> RETR Neandertal.bam ... done.\n",
            "Length: 4145696756 (3.9G) (unauthoritative)\n",
            "\n",
            "Neandertal.bam      100%[===================>]   3.86G  24.4MB/s    in 2m 46s  \n",
            "\n",
            "2019-05-12 15:28:57 (23.9 MB/s) - ‘Neandertal.bam’ saved [4145696756]\n",
            "\n",
            "--2019-05-12 15:28:59--  ftp://ftp.ebi.ac.uk/pub/databases/ensembl/neandertal/BAM_files/Neandertal.bam.bai\n",
            "           => ‘Neandertal.bam.bai’\n",
            "Resolving ftp.ebi.ac.uk (ftp.ebi.ac.uk)... 193.62.192.4\n",
            "Connecting to ftp.ebi.ac.uk (ftp.ebi.ac.uk)|193.62.192.4|:21... connected.\n",
            "Logging in as anonymous ... Logged in!\n",
            "==> SYST ... done.    ==> PWD ... done.\n",
            "==> TYPE I ... done.  ==> CWD (1) /pub/databases/ensembl/neandertal/BAM_files ... done.\n",
            "==> SIZE Neandertal.bam.bai ... 7705264\n",
            "==> PASV ... done.    ==> RETR Neandertal.bam.bai ... done.\n",
            "Length: 7705264 (7.3M) (unauthoritative)\n",
            "\n",
            "Neandertal.bam.bai  100%[===================>]   7.35M  7.30MB/s    in 1.0s    \n",
            "\n",
            "2019-05-12 15:29:01 (7.30 MB/s) - ‘Neandertal.bam.bai’ saved [7705264]\n",
            "\n",
            "--2019-05-12 15:29:04--  ftp://ftp.ebi.ac.uk/pub/databases/ensembl/neandertal/BAM_files/French.bam\n",
            "           => ‘French.bam’\n",
            "Resolving ftp.ebi.ac.uk (ftp.ebi.ac.uk)... 193.62.192.4\n",
            "Connecting to ftp.ebi.ac.uk (ftp.ebi.ac.uk)|193.62.192.4|:21... connected.\n",
            "Logging in as anonymous ... Logged in!\n",
            "==> SYST ... done.    ==> PWD ... done.\n",
            "==> TYPE I ... done.  ==> CWD (1) /pub/databases/ensembl/neandertal/BAM_files ... done.\n",
            "==> SIZE French.bam ... 15697578826\n",
            "==> PASV ... done.    ==> RETR French.bam ... done.\n",
            "Length: 15697578826 (15G) (unauthoritative)\n",
            "\n",
            "French.bam          100%[===================>]  14.62G  15.9MB/s    in 11m 38s \n",
            "\n",
            "2019-05-12 15:40:43 (21.5 MB/s) - ‘French.bam’ saved [15697578826]\n",
            "\n",
            "--2019-05-12 15:40:44--  ftp://ftp.ebi.ac.uk/pub/databases/ensembl/neandertal/BAM_files/French.bam.bai\n",
            "           => ‘French.bam.bai’\n",
            "Resolving ftp.ebi.ac.uk (ftp.ebi.ac.uk)... 193.62.192.4\n",
            "Connecting to ftp.ebi.ac.uk (ftp.ebi.ac.uk)|193.62.192.4|:21... connected.\n",
            "Logging in as anonymous ... Logged in!\n",
            "==> SYST ... done.    ==> PWD ... done.\n",
            "==> TYPE I ... done.  ==> CWD (1) /pub/databases/ensembl/neandertal/BAM_files ... done.\n",
            "==> SIZE French.bam.bai ... 8281336\n",
            "==> PASV ... done.    ==> RETR French.bam.bai ... done.\n",
            "Length: 8281336 (7.9M) (unauthoritative)\n",
            "\n",
            "French.bam.bai      100%[===================>]   7.90M  7.98MB/s    in 1.0s    \n",
            "\n",
            "2019-05-12 15:40:46 (7.98 MB/s) - ‘French.bam.bai’ saved [8281336]\n",
            "\n"
          ],
          "name": "stdout"
        }
      ]
    },
    {
      "cell_type": "code",
      "metadata": {
        "id": "Y64EX_zBNmQP",
        "colab_type": "code",
        "colab": {}
      },
      "source": [
        "neand = pysam.AlignmentFile('Neandertal.bam', 'rb')"
      ],
      "execution_count": 0,
      "outputs": []
    },
    {
      "cell_type": "code",
      "metadata": {
        "id": "5nQaPpZjD4wz",
        "colab_type": "code",
        "colab": {}
      },
      "source": [
        "iter = neand.fetch('chr1', 0, 249000000)"
      ],
      "execution_count": 0,
      "outputs": []
    },
    {
      "cell_type": "code",
      "metadata": {
        "id": "AHvIExyrXM8r",
        "colab_type": "code",
        "colab": {}
      },
      "source": [
        "neand_lengths =[]"
      ],
      "execution_count": 0,
      "outputs": []
    },
    {
      "cell_type": "code",
      "metadata": {
        "id": "trJbEenWXSwk",
        "colab_type": "code",
        "colab": {}
      },
      "source": [
        "for i in iter:\n",
        "    neand_lengths.append(i.infer_query_length())"
      ],
      "execution_count": 0,
      "outputs": []
    },
    {
      "cell_type": "code",
      "metadata": {
        "id": "JPc4zqtbXzqE",
        "colab_type": "code",
        "outputId": "27d761ae-04f5-49d7-eff2-8e39870d61f8",
        "colab": {
          "base_uri": "https://localhost:8080/",
          "height": 904
        }
      },
      "source": [
        "plt.figure(figsize=(20,15))\n",
        "sns.distplot(neand_lengths)\n",
        "plt.show"
      ],
      "execution_count": 0,
      "outputs": [
        {
          "output_type": "execute_result",
          "data": {
            "text/plain": [
              "<function matplotlib.pyplot.show>"
            ]
          },
          "metadata": {
            "tags": []
          },
          "execution_count": 11
        },
        {
          "output_type": "display_data",
          "data": {
            "image/png": "[encoded data removed]",
            "text/plain": [
              "<Figure size 1440x1080 with 1 Axes>"
            ]
          },
          "metadata": {
            "tags": []
          }
        }
      ]
    },
    {
      "cell_type": "code",
      "metadata": {
        "id": "YeJfZPA1aIN1",
        "colab_type": "code",
        "outputId": "fb8ce4e2-ea8d-44b3-8fd2-30717aeccc9b",
        "colab": {
          "base_uri": "https://localhost:8080/",
          "height": 52
        }
      },
      "source": [
        "# Extract 76 nt ancient DNA sequances\n",
        "neand_seqs = []\n",
        "for j in tqdm(range(1, 11)):\n",
        "    iter = neand.fetch('chr' + str(j))\n",
        "    for i in iter:\n",
        "        if i.infer_query_length() == 76:\n",
        "            s = str(i.get_forward_sequence())\n",
        "            if s.count('A') > 0 and s.count('C') > 0 and s.count('G') > 0 and s.count('T') > 0 and 'N' not in s:\n",
        "                neand_seqs.append(i.get_forward_sequence())\n",
        "\n",
        "# Read modern DNA sample\n",
        "modern = pysam.AlignmentFile('French.bam', 'rb')\n",
        "modern_seqs = []\n",
        "for j in tqdm(range (1, 11)):\n",
        "    iter = modern.fetch('chr' + str(j))\n",
        "    for i in iter:\n",
        "        if len(modern_seqs) == len(neand_seqs):\n",
        "            break\n",
        "        else:\n",
        "            s = str(i.get_forward_sequence())\n",
        "            if s.count('A') > 0 and s.count('C') > 0 and s.count('G') > 0 and s.count('T') > 0 and 'N' not in s:\n",
        "                modern_seqs.append(i.get_forward_sequence())\n",
        "sequences = neand_seqs + modern_seqs\n",
        "labels = list(np.ones(len(neand_seqs))) + list(np.zeros(len(modern_seqs)))"
      ],
      "execution_count": 0,
      "outputs": [
        {
          "output_type": "stream",
          "text": [
            "100%|██████████| 10/10 [01:29<00:00,  7.71s/it]\n",
            "100%|██████████| 10/10 [00:01<00:00,  1.30s/it]\n"
          ],
          "name": "stderr"
        }
      ]
    },
    {
      "cell_type": "code",
      "metadata": {
        "id": "3ocBLss_HaFB",
        "colab_type": "code",
        "colab": {}
      },
      "source": [
        "# One-hot encode Sequences\n",
        "integer_encoder = LabelEncoder()\n",
        "one_hot_encoder = OneHotEncoder(categories= 'auto')\n",
        "input_features = []"
      ],
      "execution_count": 0,
      "outputs": []
    },
    {
      "cell_type": "code",
      "metadata": {
        "id": "6f8hvLB9XlU3",
        "colab_type": "code",
        "outputId": "cd26c6dc-880d-4f28-a5b7-7f8fc4b937be",
        "colab": {
          "base_uri": "https://localhost:8080/",
          "height": 34
        }
      },
      "source": [
        "for sequence in tqdm(sequences):\n",
        "  integer_encoded = integer_encoder.fit_transform(list(sequence))\n",
        "  integer_encoded = np.array(integer_encoded).reshape(-1, 1)\n",
        "  one_hot_encoded = one_hot_encoder.fit_transform(integer_encoded)\n",
        "  input_features.append(one_hot_encoded.toarray())"
      ],
      "execution_count": 0,
      "outputs": [
        {
          "output_type": "stream",
          "text": [
            "100%|██████████| 530480/530480 [04:51<00:00, 1822.86it/s]\n"
          ],
          "name": "stderr"
        }
      ]
    },
    {
      "cell_type": "code",
      "metadata": {
        "id": "fdMAy2EyzTwe",
        "colab_type": "code",
        "outputId": "78e7bd09-7804-4bc7-d8ce-d88bb62a8cb1",
        "colab": {
          "base_uri": "https://localhost:8080/",
          "height": 34
        }
      },
      "source": [
        "np.shape(input_features)"
      ],
      "execution_count": 0,
      "outputs": [
        {
          "output_type": "execute_result",
          "data": {
            "text/plain": [
              "(530480, 76, 4)"
            ]
          },
          "metadata": {
            "tags": []
          },
          "execution_count": 15
        }
      ]
    },
    {
      "cell_type": "code",
      "metadata": {
        "id": "HNnW2g8pfJpk",
        "colab_type": "code",
        "outputId": "ab238916-ac92-4610-eac0-1fb895939dd9",
        "colab": {
          "base_uri": "https://localhost:8080/",
          "height": 176
        }
      },
      "source": [
        "np.set_printoptions(threshold = 40)\n",
        "input_features = np.stack(input_features)\n",
        "print('Example sequence\\n-----------------------')\n",
        "print('DNA Sequence #1:\\n',sequences[0][:10],'...',sequences[0][-10:])\n",
        "print('One hot encoding of Sequence #1:\\n',input_features[0].T)"
      ],
      "execution_count": 0,
      "outputs": [
        {
          "output_type": "stream",
          "text": [
            "Example sequence\n",
            "-----------------------\n",
            "DNA Sequence #1:\n",
            " AAATCATCAG ... CTCCAAAACT\n",
            "One hot encoding of Sequence #1:\n",
            " [[1. 1. 1. ... 1. 0. 0.]\n",
            " [0. 0. 0. ... 0. 1. 0.]\n",
            " [0. 0. 0. ... 0. 0. 0.]\n",
            " [0. 0. 0. ... 0. 0. 1.]]\n"
          ],
          "name": "stdout"
        }
      ]
    },
    {
      "cell_type": "code",
      "metadata": {
        "id": "zsX8zGvp2Yz7",
        "colab_type": "code",
        "outputId": "1cfe17f8-4891-46c6-9539-b2b36ec80d65",
        "colab": {
          "base_uri": "https://localhost:8080/",
          "height": 105
        }
      },
      "source": [
        "# One-hot encode Labels\n",
        "one_hot_encoder = OneHotEncoder(categories='auto')\n",
        "labels = np.array(labels).reshape(-1, 1)\n",
        "input_labels = one_hot_encoder.fit_transform(labels).toarray()\n",
        "print('Labels:\\n',labels.T)\n",
        "print('One-hot encoded labels:\\n',input_labels.T)"
      ],
      "execution_count": 0,
      "outputs": [
        {
          "output_type": "stream",
          "text": [
            "Labels:\n",
            " [[1. 1. 1. ... 0. 0. 0.]]\n",
            "One-hot encoded labels:\n",
            " [[0. 0. 0. ... 1. 1. 1.]\n",
            " [1. 1. 1. ... 0. 0. 0.]]\n"
          ],
          "name": "stdout"
        }
      ]
    },
    {
      "cell_type": "code",
      "metadata": {
        "id": "tSnwscuN1Mn4",
        "colab_type": "code",
        "colab": {}
      },
      "source": [
        "#input_labels = np.expand_dims(input_labels, axis = 1) # run if ses2sec Wavenet"
      ],
      "execution_count": 0,
      "outputs": []
    },
    {
      "cell_type": "code",
      "metadata": {
        "id": "amkSZlAjeSoN",
        "colab_type": "code",
        "colab": {}
      },
      "source": [
        "#input_features = np.expand_dims(input_features, axis = -1) # run if 2DConv"
      ],
      "execution_count": 0,
      "outputs": []
    },
    {
      "cell_type": "code",
      "metadata": {
        "id": "Ry8s4j9G94Y0",
        "colab_type": "code",
        "colab": {}
      },
      "source": [
        "input_features = input_features.astype(np.float32)\n",
        "input_labels = input_labels.astype(np.float32)"
      ],
      "execution_count": 0,
      "outputs": []
    },
    {
      "cell_type": "code",
      "metadata": {
        "id": "kV6bI9d0juPx",
        "colab_type": "code",
        "colab": {}
      },
      "source": [
        "train_features, test_features, train_labels, test_labels = train_test_split(\n",
        "    input_features, input_labels,\n",
        "    test_size = 0.25, random_state = 42\n",
        "    )"
      ],
      "execution_count": 0,
      "outputs": []
    },
    {
      "cell_type": "code",
      "metadata": {
        "id": "X2UN6MyAfm8w",
        "colab_type": "code",
        "outputId": "e4356e97-03e2-4215-c945-033eacd9765d",
        "colab": {
          "base_uri": "https://localhost:8080/",
          "height": 52
        }
      },
      "source": [
        "import os\n",
        "import tensorflow as tf\n",
        "import tensorflow.keras\n",
        "from tensorflow.keras.optimizers import SGD, Adam, Adadelta\n",
        "from tensorflow.keras.layers import Conv1D, Dense, MaxPooling1D, Flatten\n",
        "from tensorflow.keras.layers import BatchNormalization, Dropout, Lambda, Conv2D, MaxPooling2D, concatenate\n",
        "from tensorflow.keras.models import Sequential\n",
        "from tensorflow.keras.regularizers import l2, l1\n",
        "from tensorflow.keras.callbacks import TensorBoard,ModelCheckpoint\n",
        "import tensorflow.keras.backend as K\n",
        "#from keras.applications import DenseNet121 as DenseNet\n",
        "\n",
        "print (tf.__version__)\n",
        "print(tf.keras.__version__)"
      ],
      "execution_count": 0,
      "outputs": [
        {
          "output_type": "stream",
          "text": [
            "1.13.1\n",
            "2.2.4-tf\n"
          ],
          "name": "stdout"
        }
      ]
    },
    {
      "cell_type": "code",
      "metadata": {
        "id": "4qDe2KaroUXM",
        "colab_type": "code",
        "outputId": "e6ce7218-6928-4685-a4a8-3ea1ec40b475",
        "colab": {
          "base_uri": "https://localhost:8080/",
          "height": 34
        }
      },
      "source": [
        "try:\n",
        "    device_name = os.environ['COLAB_TPU_ADDR']\n",
        "    TPU_ADDRESS = 'grpc://' + device_name\n",
        "    print('Found TPU at: {}'.format(TPU_ADDRESS))\n",
        "    #tpu = tf.contrib.cluster_resolver.TPUClusterResolver() # Picks up a connected TPU on Google's Colab, ML Engine, Kubernetes \n",
        "    #USE_TPU = True\n",
        "except KeyError:\n",
        "    print('TPU not found')"
      ],
      "execution_count": 0,
      "outputs": [
        {
          "output_type": "stream",
          "text": [
            "Found TPU at: grpc://10.73.166.162:8470\n"
          ],
          "name": "stdout"
        }
      ]
    },
    {
      "cell_type": "code",
      "metadata": {
        "id": "ePmAUOEfiNsp",
        "colab_type": "code",
        "colab": {}
      },
      "source": [
        "nt_length = 76\n",
        "batch_size = 1024\n",
        "dilation_rates = [2**i for i in range(8)] \n",
        "filter_width = 2\n",
        "n_filters = 32 "
      ],
      "execution_count": 0,
      "outputs": []
    },
    {
      "cell_type": "code",
      "metadata": {
        "id": "sRk4PG9Yhv6u",
        "colab_type": "code",
        "outputId": "0786f291-b08d-4ec6-af77-b8e8ce37eff9",
        "colab": {
          "base_uri": "https://localhost:8080/",
          "height": 34
        }
      },
      "source": [
        "def train_input_fn(batch_size=batch_size):\n",
        "    # Convert the inputs to a Dataset.                                        \n",
        "    dataset = tf.data.Dataset.from_tensor_slices((train_features, train_labels))     \n",
        "    \n",
        "    # Shuffle, repeat, and batch the examples.    \n",
        "    #dataset = dataset.cache() # Loads the data into memory since its such a small dataset\n",
        "    #dataset = dataset.shuffle(388, reshuffle_each_iteration = False)\n",
        "    dataset = dataset.repeat() \n",
        "    dataset = dataset.batch(batch_size, drop_remainder=True)\n",
        "\n",
        "    # Return the dataset.\n",
        "    return dataset\n",
        "train_input_fn()"
      ],
      "execution_count": 0,
      "outputs": [
        {
          "output_type": "execute_result",
          "data": {
            "text/plain": [
              "<DatasetV1Adapter shapes: ((1024, 76, 4), (1024, 2)), types: (tf.float32, tf.float32)>"
            ]
          },
          "metadata": {
            "tags": []
          },
          "execution_count": 25
        }
      ]
    },
    {
      "cell_type": "code",
      "metadata": {
        "id": "Fw7Q-u2vih2n",
        "colab_type": "code",
        "outputId": "eb6dc508-e498-4437-cb66-b5e369e849af",
        "colab": {
          "base_uri": "https://localhost:8080/",
          "height": 34
        }
      },
      "source": [
        "def test_input_fn(batch_size=batch_size):\n",
        "    # Convert the inputs to a Dataset.        \n",
        "    dataset = tf.data.Dataset.from_tensor_slices((test_features, test_labels))\n",
        "    \n",
        "    # Shuffle, repeat, and batch the examples.\n",
        "    #dataset = dataset.cache()\n",
        "    #dataset = dataset.shuffle(129, reshuffle_each_iteration = False)\n",
        "    dataset = dataset.repeat()\n",
        "    dataset = dataset.batch(batch_size, drop_remainder=True)\n",
        "\n",
        "    # Return the dataset.\n",
        "    return dataset\n",
        "test_input_fn()"
      ],
      "execution_count": 0,
      "outputs": [
        {
          "output_type": "execute_result",
          "data": {
            "text/plain": [
              "<DatasetV1Adapter shapes: ((1024, 76, 4), (1024, 2)), types: (tf.float32, tf.float32)>"
            ]
          },
          "metadata": {
            "tags": []
          },
          "execution_count": 26
        }
      ]
    },
    {
      "cell_type": "code",
      "metadata": {
        "id": "pSyw_cA-v7WJ",
        "colab_type": "code",
        "outputId": "fa0752b5-10a9-40bc-b887-49013ffd0fb4",
        "colab": {
          "base_uri": "https://localhost:8080/",
          "height": 143
        }
      },
      "source": [
        "\n",
        "input_shape = (nt_length, 4)\n",
        "input_window = tf.keras.Input(\n",
        "        name = 'input', shape = input_shape, batch_size = batch_size, dtype = tf.float32)\n",
        "input = input_window\n",
        "x = Conv1D(filters =32, kernel_size = 15, padding = 'same', \n",
        "                 kernel_initializer = 'he_uniform', \n",
        "                 #input_shape = input_shape, \n",
        "                 activation = 'selu',\n",
        "                 kernel_regularizer=l2(0.001))(input)\n",
        "\n",
        "#merge = concatenate([x, input])\n",
        "x = Conv1D(filters = 32, kernel_size = 9, padding = 'same', \n",
        "                 kernel_initializer = 'he_uniform', \n",
        "                 activation = 'selu',\n",
        "                 kernel_regularizer=l2(0.001))(x)\n",
        "\n",
        "\n",
        "#merge = concatenate([x, input])\n",
        "x = MaxPooling1D(pool_size =9)(x)\n",
        "\n",
        "x = Flatten()(x)\n",
        "x = BatchNormalization()(x)\n",
        "x = Dense(16, kernel_initializer = 'he_uniform', activation = 'sigmoid',\n",
        "         kernel_regularizer = l2(0.001))(x)\n",
        "x = Dense(8, kernel_initializer = 'he_uniform', activation = 'sigmoid',\n",
        "         kernel_regularizer = l2(0.001))(x)\n",
        "x = Dropout(.2)(x)\n",
        "output = Dense(2, activation = 'softmax')(x)\n"
      ],
      "execution_count": 0,
      "outputs": [
        {
          "output_type": "stream",
          "text": [
            "WARNING:tensorflow:From /usr/local/lib/python3.6/dist-packages/tensorflow/python/ops/resource_variable_ops.py:435: colocate_with (from tensorflow.python.framework.ops) is deprecated and will be removed in a future version.\n",
            "Instructions for updating:\n",
            "Colocations handled automatically by placer.\n",
            "WARNING:tensorflow:From /usr/local/lib/python3.6/dist-packages/tensorflow/python/keras/layers/core.py:143: calling dropout (from tensorflow.python.ops.nn_ops) with keep_prob is deprecated and will be removed in a future version.\n",
            "Instructions for updating:\n",
            "Please use `rate` instead of `keep_prob`. Rate should be set to `rate = 1 - keep_prob`.\n"
          ],
          "name": "stdout"
        }
      ]
    },
    {
      "cell_type": "code",
      "metadata": {
        "id": "bvyi4xw6nFEw",
        "colab_type": "code",
        "colab": {}
      },
      "source": [
        "model = tf.keras.Model(inputs = [input_window], outputs = [output])"
      ],
      "execution_count": 0,
      "outputs": []
    },
    {
      "cell_type": "code",
      "metadata": {
        "id": "5hQHUsRFyzwN",
        "colab_type": "code",
        "colab": {}
      },
      "source": [
        "#model.summary()"
      ],
      "execution_count": 0,
      "outputs": []
    },
    {
      "cell_type": "code",
      "metadata": {
        "id": "cnniYXWUngLq",
        "colab_type": "code",
        "colab": {}
      },
      "source": [
        "epochs = 200\n",
        "learning_rate = 0.00005\n",
        "momentum = 0.9\n",
        "decay = learning_rate / epochs"
      ],
      "execution_count": 0,
      "outputs": []
    },
    {
      "cell_type": "code",
      "metadata": {
        "id": "-Mvm0Oo2noaT",
        "colab_type": "code",
        "colab": {}
      },
      "source": [
        "#opt = tf.keras.optimizers.SGD(learning_rate, momentum, decay = decay, nesterov = False)\n",
        "opt = tf.train.AdamOptimizer(learning_rate)"
      ],
      "execution_count": 0,
      "outputs": []
    },
    {
      "cell_type": "code",
      "metadata": {
        "id": "txejK0y8n7z7",
        "colab_type": "code",
        "colab": {}
      },
      "source": [
        "model.compile(\n",
        "                   optimizer = opt,                  \n",
        "                   loss = 'binary_crossentropy',                 \n",
        "                   metrics = ['binary_accuracy']\n",
        "                    )\n"
      ],
      "execution_count": 0,
      "outputs": []
    },
    {
      "cell_type": "code",
      "metadata": {
        "id": "bJnX9UU0ohlE",
        "colab_type": "code",
        "outputId": "0b19e7e6-e88d-44b9-98f9-fbff8c308792",
        "colab": {
          "base_uri": "https://localhost:8080/",
          "height": 463
        }
      },
      "source": [
        "tpu_model = tf.contrib.tpu.keras_to_tpu_model(model,\n",
        "                                             strategy = tf.contrib.tpu.TPUDistributionStrategy(\n",
        "                                             tf.contrib.cluster_resolver.TPUClusterResolver(TPU_ADDRESS)))"
      ],
      "execution_count": 0,
      "outputs": [
        {
          "output_type": "stream",
          "text": [
            "\n",
            "WARNING: The TensorFlow contrib module will not be included in TensorFlow 2.0.\n",
            "For more information, please see:\n",
            "  * https://github.com/tensorflow/community/blob/master/rfcs/20180907-contrib-sunset.md\n",
            "  * https://github.com/tensorflow/addons\n",
            "If you depend on functionality not listed there, please file an issue.\n",
            "\n",
            "INFO:tensorflow:Querying Tensorflow master (grpc://10.73.166.162:8470) for TPU system metadata.\n",
            "INFO:tensorflow:Found TPU system:\n",
            "INFO:tensorflow:*** Num TPU Cores: 8\n",
            "INFO:tensorflow:*** Num TPU Workers: 1\n",
            "INFO:tensorflow:*** Num TPU Cores Per Worker: 8\n",
            "INFO:tensorflow:*** Available Device: _DeviceAttributes(/job:worker/replica:0/task:0/device:CPU:0, CPU, -1, 8320346695713909548)\n",
            "INFO:tensorflow:*** Available Device: _DeviceAttributes(/job:worker/replica:0/task:0/device:XLA_CPU:0, XLA_CPU, 17179869184, 8602227158873194455)\n",
            "INFO:tensorflow:*** Available Device: _DeviceAttributes(/job:worker/replica:0/task:0/device:TPU:0, TPU, 17179869184, 7667489625938668992)\n",
            "INFO:tensorflow:*** Available Device: _DeviceAttributes(/job:worker/replica:0/task:0/device:TPU:1, TPU, 17179869184, 4978387744446990187)\n",
            "INFO:tensorflow:*** Available Device: _DeviceAttributes(/job:worker/replica:0/task:0/device:TPU:2, TPU, 17179869184, 11872895305948486359)\n",
            "INFO:tensorflow:*** Available Device: _DeviceAttributes(/job:worker/replica:0/task:0/device:TPU:3, TPU, 17179869184, 13413128413330087997)\n",
            "INFO:tensorflow:*** Available Device: _DeviceAttributes(/job:worker/replica:0/task:0/device:TPU:4, TPU, 17179869184, 7093911936259408436)\n",
            "INFO:tensorflow:*** Available Device: _DeviceAttributes(/job:worker/replica:0/task:0/device:TPU:5, TPU, 17179869184, 17089266575432477012)\n",
            "INFO:tensorflow:*** Available Device: _DeviceAttributes(/job:worker/replica:0/task:0/device:TPU:6, TPU, 17179869184, 15368838880858001645)\n",
            "INFO:tensorflow:*** Available Device: _DeviceAttributes(/job:worker/replica:0/task:0/device:TPU:7, TPU, 17179869184, 11016241184373657328)\n",
            "INFO:tensorflow:*** Available Device: _DeviceAttributes(/job:worker/replica:0/task:0/device:TPU_SYSTEM:0, TPU_SYSTEM, 17179869184, 3445342519695435978)\n",
            "WARNING:tensorflow:tpu_model (from tensorflow.contrib.tpu.python.tpu.keras_support) is experimental and may change or be removed at any time, and without warning.\n"
          ],
          "name": "stdout"
        }
      ]
    },
    {
      "cell_type": "code",
      "metadata": {
        "id": "b48dQTqlouXl",
        "colab_type": "code",
        "outputId": "df42af91-6834-405f-d1c8-b5b106cec19b",
        "colab": {
          "base_uri": "https://localhost:8080/",
          "height": 247
        }
      },
      "source": [
        "\n",
        "!wget https://bin.equinox.io/c/4VmDzA7iaHb/ngrok-stable-linux-amd64.zip\n",
        "!unzip ngrok-stable-linux-amd64.zip\n"
      ],
      "execution_count": 0,
      "outputs": [
        {
          "output_type": "stream",
          "text": [
            "--2019-05-12 15:48:17--  https://bin.equinox.io/c/4VmDzA7iaHb/ngrok-stable-linux-amd64.zip\n",
            "Resolving bin.equinox.io (bin.equinox.io)... 35.173.3.255, 52.73.9.93, 52.200.123.104, ...\n",
            "Connecting to bin.equinox.io (bin.equinox.io)|35.173.3.255|:443... connected.\n",
            "HTTP request sent, awaiting response... 200 OK\n",
            "Length: 16529980 (16M) [application/octet-stream]\n",
            "Saving to: ‘ngrok-stable-linux-amd64.zip’\n",
            "\n",
            "ngrok-stable-linux- 100%[===================>]  15.76M  41.1MB/s    in 0.4s    \n",
            "\n",
            "2019-05-12 15:48:18 (41.1 MB/s) - ‘ngrok-stable-linux-amd64.zip’ saved [16529980/16529980]\n",
            "\n",
            "Archive:  ngrok-stable-linux-amd64.zip\n",
            "  inflating: ngrok                   \n"
          ],
          "name": "stdout"
        }
      ]
    },
    {
      "cell_type": "code",
      "metadata": {
        "id": "neB85oo_BF48",
        "colab_type": "code",
        "outputId": "42829579-b28a-4fbc-eae7-e3dc69e35252",
        "colab": {
          "base_uri": "https://localhost:8080/",
          "height": 34
        }
      },
      "source": [
        "\n",
        "LOG_DIR = './log'  \n",
        "get_ipython().system_raw(\n",
        "    'tensorboard --logdir {} --host 0.0.0.0 --port 6006 &'\n",
        "    .format(LOG_DIR)\n",
        ")\n",
        "get_ipython().system_raw('./ngrok http 6006 &')\n",
        "\n",
        "! curl -s http://localhost:4040/api/tunnels | python3 -c \\\n",
        "    \"import sys, json; print(json.load(sys.stdin)['tunnels'][0]['public_url'])\"\n"
      ],
      "execution_count": 0,
      "outputs": [
        {
          "output_type": "stream",
          "text": [
            "https://53038343.ngrok.io\n"
          ],
          "name": "stdout"
        }
      ]
    },
    {
      "cell_type": "code",
      "metadata": {
        "id": "mSL_c8TXo373",
        "colab_type": "code",
        "outputId": "e8298b45-e7b2-49c4-e0a5-b5d53c775548",
        "colab": {
          "base_uri": "https://localhost:8080/",
          "height": 445
        }
      },
      "source": [
        "NAME = f'Ancient_DNA {time.strftime(\"%Y-%m-%d-%H.%M.%S\", time.localtime())}'\n",
        "log_dir = f'./log/{NAME}'\n",
        "tensorboard = TensorBoard(log_dir = log_dir)\n",
        "checkpointer = ModelCheckpoint(filepath='./Ancient_DNA_1.h5',monitor='val_acc', verbose=0, \n",
        "                               save_best_only=True, save_weights_only = True) # save best model\n",
        "start_training = datetime.datetime.now()\n",
        "history = tpu_model.fit(train_input_fn,                                                 \n",
        "                         steps_per_epoch = 388,\n",
        "                         epochs = 50,\n",
        "                         #shuffle = True,\n",
        "                         validation_data = test_input_fn,                        \n",
        "                         validation_steps = 129,\n",
        "                         callbacks = [\n",
        "                                      #tensorboard,                                      \n",
        "                                      #checkpointer\n",
        "                                     ]\n",
        "                                   )\n",
        "print('Training time = ', datetime.datetime.now() - start_training)"
      ],
      "execution_count": 0,
      "outputs": [
        {
          "output_type": "stream",
          "text": [
            "Epoch 1/50\n",
            "INFO:tensorflow:New input shapes; (re-)compiling: mode=train (# of cores 8), [TensorSpec(shape=(1024,), dtype=tf.int32, name=None), TensorSpec(shape=(1024, 76, 4), dtype=tf.float32, name=None), TensorSpec(shape=(1024, 2), dtype=tf.float32, name=None)]\n",
            "INFO:tensorflow:Overriding default placeholder.\n",
            "INFO:tensorflow:Remapping placeholder for input\n",
            "WARNING:tensorflow:From /usr/local/lib/python3.6/dist-packages/tensorflow/contrib/tpu/python/tpu/keras_support.py:302: to_float (from tensorflow.python.ops.math_ops) is deprecated and will be removed in a future version.\n",
            "Instructions for updating:\n",
            "Use tf.cast instead.\n",
            "WARNING:tensorflow:From /usr/local/lib/python3.6/dist-packages/tensorflow/python/ops/math_ops.py:3066: to_int32 (from tensorflow.python.ops.math_ops) is deprecated and will be removed in a future version.\n",
            "Instructions for updating:\n",
            "Use tf.cast instead.\n",
            "INFO:tensorflow:Started compiling\n",
            "INFO:tensorflow:Finished compiling. Time elapsed: 3.0541727542877197 secs\n",
            "INFO:tensorflow:Setting weights on TPU model.\n",
            "386/388 [============================>.] - ETA: 0s - loss: 0.8514 - binary_accuracy: 0.5455INFO:tensorflow:New input shapes; (re-)compiling: mode=eval (# of cores 8), [TensorSpec(shape=(1024,), dtype=tf.int32, name=None), TensorSpec(shape=(1024, 76, 4), dtype=tf.float32, name=None), TensorSpec(shape=(1024, 2), dtype=tf.float32, name=None)]\n",
            "INFO:tensorflow:Overriding default placeholder.\n",
            "INFO:tensorflow:Remapping placeholder for input\n",
            "INFO:tensorflow:Started compiling\n",
            "INFO:tensorflow:Finished compiling. Time elapsed: 1.8307914733886719 secs\n",
            "388/388 [==============================] - 25s 66ms/step - loss: 0.8510 - binary_accuracy: 0.5457 - val_loss: 0.7601 - val_binary_accuracy: 0.4994\n",
            "Epoch 2/50\n",
            "388/388 [==============================] - 16s 41ms/step - loss: 0.7397 - binary_accuracy: 0.6679 - val_loss: 0.6927 - val_binary_accuracy: 0.7722\n",
            "Epoch 3/50\n",
            "241/388 [=================>............] - ETA: 4s - loss: 0.6899 - binary_accuracy: 0.7150"
          ],
          "name": "stdout"
        }
      ]
    },
    {
      "cell_type": "code",
      "metadata": {
        "id": "-ZZxOkF2sfMR",
        "colab_type": "code",
        "outputId": "e9ad35a2-5ff6-40dd-e5f3-5318cf68d475",
        "colab": {
          "base_uri": "https://localhost:8080/",
          "height": 421
        }
      },
      "source": [
        "plt.figure(figsize=(10,6))  \n",
        "plt.plot(history.history['binary_accuracy'])\n",
        "plt.plot(history.history['val_binary_accuracy'])\n",
        "\n",
        "plt.xlabel('Epoch')\n",
        "plt.ylabel('_accuracy')\n",
        "plt.title('Training')\n",
        "plt.legend(['Train','Valid'])"
      ],
      "execution_count": 0,
      "outputs": [
        {
          "output_type": "execute_result",
          "data": {
            "text/plain": [
              "<matplotlib.legend.Legend at 0x7f13832a0f28>"
            ]
          },
          "metadata": {
            "tags": []
          },
          "execution_count": 53
        },
        {
          "output_type": "display_data",
          "data": {
            "image/png": "[encoded data removed]",
            "text/plain": [
              "<Figure size 720x432 with 1 Axes>"
            ]
          },
          "metadata": {
            "tags": []
          }
        }
      ]
    },
    {
      "cell_type": "code",
      "metadata": {
        "id": "wsPnWRees_pZ",
        "colab_type": "code",
        "colab": {}
      },
      "source": [
        "def save_all(weights_tpu = 'weights_tpu.h5', weights_cpu = 'weights_cpu.h5', model_wpath = 'Ancient_DNA.json'):\n",
        "    \n",
        "    tpu_model.save_weights(weights_tpu, overwrite = True)\n",
        "    cpu_saved_model = tpu_model.sync_to_cpu()\n",
        "    cpu_saved_model.save_weights(weights_cpu, overwrite = True)\n",
        "    saved_model = model.to_json()\n",
        "    with open(model_wpath, 'w') as json_file:\n",
        "        json_file.write(saved_model)"
      ],
      "execution_count": 0,
      "outputs": []
    },
    {
      "cell_type": "code",
      "metadata": {
        "id": "2fDKn4DHuMST",
        "colab_type": "code",
        "outputId": "23831f3d-8d2b-488b-b879-2ecd3f4ee2f6",
        "colab": {
          "base_uri": "https://localhost:8080/",
          "height": 52
        }
      },
      "source": [
        "save_all()"
      ],
      "execution_count": 0,
      "outputs": [
        {
          "output_type": "stream",
          "text": [
            "INFO:tensorflow:Copying TPU weights to the CPU\n",
            "INFO:tensorflow:Copying TPU weights to the CPU\n"
          ],
          "name": "stdout"
        }
      ]
    },
    {
      "cell_type": "code",
      "metadata": {
        "id": "m8-mp8bLM3uV",
        "colab_type": "code",
        "colab": {}
      },
      "source": [
        "def load_all (weights_file, model_wpath): \n",
        "    jfile = open(model_wpath, 'r')\n",
        "    saved_model = jfile.read()\n",
        "    jfile.close()\n",
        "    loaded_model = model_from_json(saved_model)          \n",
        "    loaded_model.load_weights(weights_file)\n",
        "    \n",
        "    return loaded_model"
      ],
      "execution_count": 0,
      "outputs": []
    },
    {
      "cell_type": "code",
      "metadata": {
        "id": "0lEieUoXL_8r",
        "colab_type": "code",
        "colab": {}
      },
      "source": [
        "def predict_tpu (x, batch_size = batch_size):\n",
        "    for i in tqdm(range(0, int(x.shape[0] / batch_size))):    \n",
        "    \n",
        "        if not(i):\n",
        "            predict = np.array(tpu_model.predict(x[i * batch_size:(i + 1) * batch_size,:,:]))\n",
        "        else:\n",
        "            predict = np.append(predict,tpu_model.predict(x[i * batch_size:(i + 1) * batch_size,:,:]), axis =0)\n",
        "        \n",
        "\n",
        "    predict = np.append(predict,tpu_model.predict(x[-1024:,:,:])[- x.shape[0] % batch_size,:], axis = 0)\n",
        "    return predict"
      ],
      "execution_count": 0,
      "outputs": []
    },
    {
      "cell_type": "code",
      "metadata": {
        "id": "tq_hvnMANP2I",
        "colab_type": "code",
        "colab": {}
      },
      "source": [
        "#tpu_model.load_weights('?.h5')"
      ],
      "execution_count": 0,
      "outputs": []
    },
    {
      "cell_type": "code",
      "metadata": {
        "id": "uJ26lyIQNWAN",
        "colab_type": "code",
        "colab": {}
      },
      "source": [
        "def predict_cpu (x, cpu_model, batch_size = batch_size):\n",
        "    for i in tqdm(range(0, int(x.shape[0] / batch_size))):    \n",
        "    \n",
        "        if not(i):\n",
        "            predict = np.array(cpu_model.predict(x[i * batch_size:(i + 1) * batch_size,:,:]))\n",
        "        else:\n",
        "            predict = np.append(predict, cpu_model.predict(x[i * batch_size:(i + 1) * batch_size,:,:]), axis =0)\n",
        "        \n",
        "    print(np.shape(predict))\n",
        "    predict = np.append(predict, cpu_model.predict(x[-1024:,:,:])[- x.shape[0] % batch_size:, -1,:], axis = 0)\n",
        "    return predict"
      ],
      "execution_count": 0,
      "outputs": []
    },
    {
      "cell_type": "code",
      "metadata": {
        "id": "KtUeKopmNvPP",
        "colab_type": "code",
        "outputId": "7f73fcc0-b6a4-408b-dd4c-bac249d4fd7b",
        "colab": {
          "base_uri": "https://localhost:8080/",
          "height": 334
        }
      },
      "source": [
        "predict_DNA = predict_tpu(test_features)"
      ],
      "execution_count": 0,
      "outputs": [
        {
          "output_type": "stream",
          "text": [
            "100%|██████████| 129/129 [00:02<00:00, 50.17it/s]\n"
          ],
          "name": "stderr"
        },
        {
          "output_type": "error",
          "ename": "ValueError",
          "evalue": "ignored",
          "traceback": [
            "\u001b[0;31m---------------------------------------------------------------------------\u001b[0m",
            "\u001b[0;31mValueError\u001b[0m                                Traceback (most recent call last)",
            "\u001b[0;32m<ipython-input-69-9304f885595f>\u001b[0m in \u001b[0;36m<module>\u001b[0;34m()\u001b[0m\n\u001b[0;32m----> 1\u001b[0;31m \u001b[0mpredict_DNA\u001b[0m \u001b[0;34m=\u001b[0m \u001b[0mpredict_tpu\u001b[0m\u001b[0;34m(\u001b[0m\u001b[0mtest_features\u001b[0m\u001b[0;34m)\u001b[0m\u001b[0;34m\u001b[0m\u001b[0;34m\u001b[0m\u001b[0m\n\u001b[0m",
            "\u001b[0;32m<ipython-input-64-5e7870b1e671>\u001b[0m in \u001b[0;36mpredict_tpu\u001b[0;34m(x, batch_size)\u001b[0m\n\u001b[1;32m      8\u001b[0m \u001b[0;34m\u001b[0m\u001b[0m\n\u001b[1;32m      9\u001b[0m \u001b[0;34m\u001b[0m\u001b[0m\n\u001b[0;32m---> 10\u001b[0;31m     \u001b[0mpredict\u001b[0m \u001b[0;34m=\u001b[0m \u001b[0mnp\u001b[0m\u001b[0;34m.\u001b[0m\u001b[0mappend\u001b[0m\u001b[0;34m(\u001b[0m\u001b[0mpredict\u001b[0m\u001b[0;34m,\u001b[0m\u001b[0mtpu_model\u001b[0m\u001b[0;34m.\u001b[0m\u001b[0mpredict\u001b[0m\u001b[0;34m(\u001b[0m\u001b[0mx\u001b[0m\u001b[0;34m[\u001b[0m\u001b[0;34m-\u001b[0m\u001b[0;36m1024\u001b[0m\u001b[0;34m:\u001b[0m\u001b[0;34m,\u001b[0m\u001b[0;34m:\u001b[0m\u001b[0;34m,\u001b[0m\u001b[0;34m:\u001b[0m\u001b[0;34m]\u001b[0m\u001b[0;34m)\u001b[0m\u001b[0;34m[\u001b[0m\u001b[0;34m-\u001b[0m \u001b[0mx\u001b[0m\u001b[0;34m.\u001b[0m\u001b[0mshape\u001b[0m\u001b[0;34m[\u001b[0m\u001b[0;36m0\u001b[0m\u001b[0;34m]\u001b[0m \u001b[0;34m%\u001b[0m \u001b[0mbatch_size\u001b[0m\u001b[0;34m,\u001b[0m\u001b[0;34m:\u001b[0m\u001b[0;34m]\u001b[0m\u001b[0;34m,\u001b[0m \u001b[0maxis\u001b[0m \u001b[0;34m=\u001b[0m \u001b[0;36m0\u001b[0m\u001b[0;34m)\u001b[0m\u001b[0;34m\u001b[0m\u001b[0;34m\u001b[0m\u001b[0m\n\u001b[0m\u001b[1;32m     11\u001b[0m     \u001b[0;32mreturn\u001b[0m \u001b[0mpredict\u001b[0m\u001b[0;34m\u001b[0m\u001b[0;34m\u001b[0m\u001b[0m\n",
            "\u001b[0;32m/usr/local/lib/python3.6/dist-packages/numpy/lib/function_base.py\u001b[0m in \u001b[0;36mappend\u001b[0;34m(arr, values, axis)\u001b[0m\n\u001b[1;32m   4692\u001b[0m         \u001b[0mvalues\u001b[0m \u001b[0;34m=\u001b[0m \u001b[0mravel\u001b[0m\u001b[0;34m(\u001b[0m\u001b[0mvalues\u001b[0m\u001b[0;34m)\u001b[0m\u001b[0;34m\u001b[0m\u001b[0;34m\u001b[0m\u001b[0m\n\u001b[1;32m   4693\u001b[0m         \u001b[0maxis\u001b[0m \u001b[0;34m=\u001b[0m \u001b[0marr\u001b[0m\u001b[0;34m.\u001b[0m\u001b[0mndim\u001b[0m\u001b[0;34m-\u001b[0m\u001b[0;36m1\u001b[0m\u001b[0;34m\u001b[0m\u001b[0;34m\u001b[0m\u001b[0m\n\u001b[0;32m-> 4694\u001b[0;31m     \u001b[0;32mreturn\u001b[0m \u001b[0mconcatenate\u001b[0m\u001b[0;34m(\u001b[0m\u001b[0;34m(\u001b[0m\u001b[0marr\u001b[0m\u001b[0;34m,\u001b[0m \u001b[0mvalues\u001b[0m\u001b[0;34m)\u001b[0m\u001b[0;34m,\u001b[0m \u001b[0maxis\u001b[0m\u001b[0;34m=\u001b[0m\u001b[0maxis\u001b[0m\u001b[0;34m)\u001b[0m\u001b[0;34m\u001b[0m\u001b[0;34m\u001b[0m\u001b[0m\n\u001b[0m\u001b[1;32m   4695\u001b[0m \u001b[0;34m\u001b[0m\u001b[0m\n\u001b[1;32m   4696\u001b[0m \u001b[0;34m\u001b[0m\u001b[0m\n",
            "\u001b[0;31mValueError\u001b[0m: all the input arrays must have same number of dimensions"
          ]
        }
      ]
    },
    {
      "cell_type": "code",
      "metadata": {
        "id": "jf-EV4YROH5K",
        "colab_type": "code",
        "colab": {}
      },
      "source": [
        "predict_DNA_argmax = np.argmax(predict_DNA, axis = 1)"
      ],
      "execution_count": 0,
      "outputs": []
    },
    {
      "cell_type": "code",
      "metadata": {
        "id": "4PjId4M7dPCD",
        "colab_type": "code",
        "colab": {}
      },
      "source": [
        "from sklearn.metrics import confusion_matrix\n",
        "import itertools"
      ],
      "execution_count": 0,
      "outputs": []
    },
    {
      "cell_type": "code",
      "metadata": {
        "id": "di6kj13009Ja",
        "colab_type": "code",
        "outputId": "fc851052-9351-4e62-e5d3-1cf37e2d3424",
        "colab": {
          "base_uri": "https://localhost:8080/",
          "height": 34
        }
      },
      "source": [
        "print(test_features.shape, test_labels.shape)"
      ],
      "execution_count": 0,
      "outputs": [
        {
          "output_type": "stream",
          "text": [
            "(132620, 76, 4) (132620, 2)\n"
          ],
          "name": "stdout"
        }
      ]
    },
    {
      "cell_type": "code",
      "metadata": {
        "id": "m9obaS1yz5RF",
        "colab_type": "code",
        "outputId": "110d44a5-9e45-41ff-f251-09b614cc7d72",
        "colab": {
          "base_uri": "https://localhost:8080/",
          "height": 370
        }
      },
      "source": [
        "plt.figure(figsize = (10,8))\n",
        "cm = confusion_matrix(test_labels, predict_DNA_argmax)\n",
        "print('Confusion matrix:\\n', cm)"
      ],
      "execution_count": 0,
      "outputs": [
        {
          "output_type": "error",
          "ename": "ValueError",
          "evalue": "ignored",
          "traceback": [
            "\u001b[0;31m---------------------------------------------------------------------------\u001b[0m",
            "\u001b[0;31mValueError\u001b[0m                                Traceback (most recent call last)",
            "\u001b[0;32m<ipython-input-61-f5943cb7e150>\u001b[0m in \u001b[0;36m<module>\u001b[0;34m()\u001b[0m\n\u001b[1;32m      1\u001b[0m \u001b[0mplt\u001b[0m\u001b[0;34m.\u001b[0m\u001b[0mfigure\u001b[0m\u001b[0;34m(\u001b[0m\u001b[0mfigsize\u001b[0m \u001b[0;34m=\u001b[0m \u001b[0;34m(\u001b[0m\u001b[0;36m10\u001b[0m\u001b[0;34m,\u001b[0m\u001b[0;36m8\u001b[0m\u001b[0;34m)\u001b[0m\u001b[0;34m)\u001b[0m\u001b[0;34m\u001b[0m\u001b[0;34m\u001b[0m\u001b[0m\n\u001b[0;32m----> 2\u001b[0;31m \u001b[0mcm\u001b[0m \u001b[0;34m=\u001b[0m \u001b[0mconfusion_matrix\u001b[0m\u001b[0;34m(\u001b[0m\u001b[0mtest_labels\u001b[0m\u001b[0;34m,\u001b[0m \u001b[0mpredict_DNA_argmax\u001b[0m\u001b[0;34m)\u001b[0m\u001b[0;34m\u001b[0m\u001b[0;34m\u001b[0m\u001b[0m\n\u001b[0m\u001b[1;32m      3\u001b[0m \u001b[0mprint\u001b[0m\u001b[0;34m(\u001b[0m\u001b[0;34m'Confusion matrix:\\n'\u001b[0m\u001b[0;34m,\u001b[0m \u001b[0mcm\u001b[0m\u001b[0;34m)\u001b[0m\u001b[0;34m\u001b[0m\u001b[0;34m\u001b[0m\u001b[0m\n",
            "\u001b[0;32m/usr/local/lib/python3.6/dist-packages/sklearn/metrics/classification.py\u001b[0m in \u001b[0;36mconfusion_matrix\u001b[0;34m(y_true, y_pred, labels, sample_weight)\u001b[0m\n\u001b[1;32m    251\u001b[0m \u001b[0;34m\u001b[0m\u001b[0m\n\u001b[1;32m    252\u001b[0m     \"\"\"\n\u001b[0;32m--> 253\u001b[0;31m     \u001b[0my_type\u001b[0m\u001b[0;34m,\u001b[0m \u001b[0my_true\u001b[0m\u001b[0;34m,\u001b[0m \u001b[0my_pred\u001b[0m \u001b[0;34m=\u001b[0m \u001b[0m_check_targets\u001b[0m\u001b[0;34m(\u001b[0m\u001b[0my_true\u001b[0m\u001b[0;34m,\u001b[0m \u001b[0my_pred\u001b[0m\u001b[0;34m)\u001b[0m\u001b[0;34m\u001b[0m\u001b[0;34m\u001b[0m\u001b[0m\n\u001b[0m\u001b[1;32m    254\u001b[0m     \u001b[0;32mif\u001b[0m \u001b[0my_type\u001b[0m \u001b[0;32mnot\u001b[0m \u001b[0;32min\u001b[0m \u001b[0;34m(\u001b[0m\u001b[0;34m\"binary\"\u001b[0m\u001b[0;34m,\u001b[0m \u001b[0;34m\"multiclass\"\u001b[0m\u001b[0;34m)\u001b[0m\u001b[0;34m:\u001b[0m\u001b[0;34m\u001b[0m\u001b[0;34m\u001b[0m\u001b[0m\n\u001b[1;32m    255\u001b[0m         \u001b[0;32mraise\u001b[0m \u001b[0mValueError\u001b[0m\u001b[0;34m(\u001b[0m\u001b[0;34m\"%s is not supported\"\u001b[0m \u001b[0;34m%\u001b[0m \u001b[0my_type\u001b[0m\u001b[0;34m)\u001b[0m\u001b[0;34m\u001b[0m\u001b[0;34m\u001b[0m\u001b[0m\n",
            "\u001b[0;32m/usr/local/lib/python3.6/dist-packages/sklearn/metrics/classification.py\u001b[0m in \u001b[0;36m_check_targets\u001b[0;34m(y_true, y_pred)\u001b[0m\n\u001b[1;32m     69\u001b[0m     \u001b[0my_pred\u001b[0m \u001b[0;34m:\u001b[0m \u001b[0marray\u001b[0m \u001b[0;32mor\u001b[0m \u001b[0mindicator\u001b[0m \u001b[0mmatrix\u001b[0m\u001b[0;34m\u001b[0m\u001b[0;34m\u001b[0m\u001b[0m\n\u001b[1;32m     70\u001b[0m     \"\"\"\n\u001b[0;32m---> 71\u001b[0;31m     \u001b[0mcheck_consistent_length\u001b[0m\u001b[0;34m(\u001b[0m\u001b[0my_true\u001b[0m\u001b[0;34m,\u001b[0m \u001b[0my_pred\u001b[0m\u001b[0;34m)\u001b[0m\u001b[0;34m\u001b[0m\u001b[0;34m\u001b[0m\u001b[0m\n\u001b[0m\u001b[1;32m     72\u001b[0m     \u001b[0mtype_true\u001b[0m \u001b[0;34m=\u001b[0m \u001b[0mtype_of_target\u001b[0m\u001b[0;34m(\u001b[0m\u001b[0my_true\u001b[0m\u001b[0;34m)\u001b[0m\u001b[0;34m\u001b[0m\u001b[0;34m\u001b[0m\u001b[0m\n\u001b[1;32m     73\u001b[0m     \u001b[0mtype_pred\u001b[0m \u001b[0;34m=\u001b[0m \u001b[0mtype_of_target\u001b[0m\u001b[0;34m(\u001b[0m\u001b[0my_pred\u001b[0m\u001b[0;34m)\u001b[0m\u001b[0;34m\u001b[0m\u001b[0;34m\u001b[0m\u001b[0m\n",
            "\u001b[0;32m/usr/local/lib/python3.6/dist-packages/sklearn/utils/validation.py\u001b[0m in \u001b[0;36mcheck_consistent_length\u001b[0;34m(*arrays)\u001b[0m\n\u001b[1;32m    233\u001b[0m     \u001b[0;32mif\u001b[0m \u001b[0mlen\u001b[0m\u001b[0;34m(\u001b[0m\u001b[0muniques\u001b[0m\u001b[0;34m)\u001b[0m \u001b[0;34m>\u001b[0m \u001b[0;36m1\u001b[0m\u001b[0;34m:\u001b[0m\u001b[0;34m\u001b[0m\u001b[0;34m\u001b[0m\u001b[0m\n\u001b[1;32m    234\u001b[0m         raise ValueError(\"Found input variables with inconsistent numbers of\"\n\u001b[0;32m--> 235\u001b[0;31m                          \" samples: %r\" % [int(l) for l in lengths])\n\u001b[0m\u001b[1;32m    236\u001b[0m \u001b[0;34m\u001b[0m\u001b[0m\n\u001b[1;32m    237\u001b[0m \u001b[0;34m\u001b[0m\u001b[0m\n",
            "\u001b[0;31mValueError\u001b[0m: Found input variables with inconsistent numbers of samples: [132620, 133120]"
          ]
        },
        {
          "output_type": "display_data",
          "data": {
            "text/plain": [
              "<Figure size 720x576 with 0 Axes>"
            ]
          },
          "metadata": {
            "tags": []
          }
        }
      ]
    }
  ]
}