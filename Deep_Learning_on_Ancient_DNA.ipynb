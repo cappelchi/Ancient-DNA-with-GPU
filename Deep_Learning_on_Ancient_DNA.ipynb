{
  "nbformat": 4,
  "nbformat_minor": 0,
  "metadata": {
    "colab": {
      "name": "Deep Learning on Ancient DNA.ipynb",
      "version": "0.3.2",
      "provenance": [],
      "collapsed_sections": [],
      "include_colab_link": true
    },
    "kernelspec": {
      "name": "python3",
      "display_name": "Python 3"
    },
    "accelerator": "TPU"
  },
  "cells": [
    {
      "cell_type": "markdown",
      "metadata": {
        "id": "view-in-github",
        "colab_type": "text"
      },
      "source": [
        "<a href=\"https://colab.research.google.com/github/cappelchi/Ancient-DNA-with-TPU/blob/master/Deep_Learning_on_Ancient_DNA.ipynb\" target=\"_parent\"><img src=\"https://colab.research.google.com/assets/colab-badge.svg\" alt=\"Open In Colab\"/></a>"
      ]
    },
    {
      "cell_type": "markdown",
      "metadata": {
        "id": "BFXn7cMP1sUp",
        "colab_type": "text"
      },
      "source": [
        "#Deep Learning on Ancient DNA"
      ]
    },
    {
      "cell_type": "markdown",
      "metadata": {
        "id": "5GdkrIcD1xez",
        "colab_type": "text"
      },
      "source": [
        "Author [Nikolay Oskolkov](https://towardsdatascience.com/@nikolay.oskolkov)"
      ]
    },
    {
      "cell_type": "markdown",
      "metadata": {
        "id": "T5_rb3wv187A",
        "colab_type": "text"
      },
      "source": [
        "Углубляюсь в тему повторяя код и адапртиру его под  TPU. Оригинал статьи читайте [здесь](https://towardsdatascience.com/deep-learning-on-ancient-dna-df042dc3c73d)"
      ]
    },
    {
      "cell_type": "markdown",
      "metadata": {
        "id": "YJFF1h3D2u8b",
        "colab_type": "text"
      },
      "source": [
        "![alt text](https://cdn-images-1.medium.com/max/800/1*ybMR7E_I8f1ruQfKFO_tcA.jpeg)"
      ]
    },
    {
      "cell_type": "code",
      "metadata": {
        "id": "ktZVhIPJNdTv",
        "colab_type": "code",
        "outputId": "7dcd083e-8ddd-4719-c439-39fe164ea0ae",
        "colab": {
          "base_uri": "https://localhost:8080/",
          "height": 122
        }
      },
      "source": [
        "!pip install pysam"
      ],
      "execution_count": 1,
      "outputs": [
        {
          "output_type": "stream",
          "text": [
            "Collecting pysam\n",
            "\u001b[?25l  Downloading https://files.pythonhosted.org/packages/f1/fc/d2be1a093bd8494ab63e3168aca36c2494753bbff190f3201ce2e7da9cda/pysam-0.15.2-cp36-cp36m-manylinux1_x86_64.whl (9.6MB)\n",
            "\u001b[K     |████████████████████████████████| 9.6MB 3.3MB/s \n",
            "\u001b[?25hInstalling collected packages: pysam\n",
            "Successfully installed pysam-0.15.2\n"
          ],
          "name": "stdout"
        }
      ]
    },
    {
      "cell_type": "code",
      "metadata": {
        "id": "xsM5uh1ONH8l",
        "colab_type": "code",
        "colab": {}
      },
      "source": [
        "import os\n",
        "import numpy as np\n",
        "import pysam\n",
        "from google.colab import files\n",
        "from tqdm import tqdm\n",
        "import seaborn as sns\n",
        "import matplotlib.pyplot as plt\n",
        "from sklearn.preprocessing import LabelEncoder, OneHotEncoder\n",
        "import time\n",
        "from sklearn.model_selection import train_test_split\n",
        "import datetime"
      ],
      "execution_count": 0,
      "outputs": []
    },
    {
      "cell_type": "code",
      "metadata": {
        "id": "wohktEUL8Cop",
        "colab_type": "code",
        "outputId": "ee69cba8-3a4a-4359-8bea-82ea1233bf0b",
        "colab": {
          "base_uri": "https://localhost:8080/",
          "height": 272
        }
      },
      "source": [
        "\n",
        "!wget 'ftp://ftp.ebi.ac.uk/pub/databases/ensembl/neandertal/BAM_files/Neandertal.bam'\n",
        "!wget 'ftp://ftp.ebi.ac.uk/pub/databases/ensembl/neandertal/BAM_files/Neandertal.bam.bai'\n",
        "!wget 'ftp://ftp.ebi.ac.uk/pub/databases/ensembl/neandertal/BAM_files/French.bam'\n",
        "!wget 'ftp://ftp.ebi.ac.uk/pub/databases/ensembl/neandertal/BAM_files/French.bam.bai'\n"
      ],
      "execution_count": 9,
      "outputs": [
        {
          "output_type": "stream",
          "text": [
            "--2019-06-05 13:00:21--  ftp://ftp.ebi.ac.uk/pub/databases/ensembl/neandertal/BAM_files/Neandertal.bam\n",
            "           => ‘Neandertal.bam’\n",
            "Resolving ftp.ebi.ac.uk (ftp.ebi.ac.uk)... 193.62.192.4\n",
            "Connecting to ftp.ebi.ac.uk (ftp.ebi.ac.uk)|193.62.192.4|:21... connected.\n",
            "Logging in as anonymous ... Logged in!\n",
            "==> SYST ... done.    ==> PWD ... done.\n",
            "==> TYPE I ... done.  ==> CWD (1) /pub/databases/ensembl/neandertal/BAM_files ... done.\n",
            "==> SIZE Neandertal.bam ... 4145696756\n",
            "==> PASV ... done.    ==> RETR Neandertal.bam ... done.\n",
            "Length: 4145696756 (3.9G) (unauthoritative)\n",
            "\n",
            "Neandertal.bam      100%[===================>]   3.86G  24.2MB/s    in 4m 49s  \n",
            "\n",
            "2019-06-05 13:05:12 (13.7 MB/s) - ‘Neandertal.bam’ saved [4145696756]\n",
            "\n"
          ],
          "name": "stdout"
        }
      ]
    },
    {
      "cell_type": "code",
      "metadata": {
        "id": "Y64EX_zBNmQP",
        "colab_type": "code",
        "colab": {}
      },
      "source": [
        "neand = pysam.AlignmentFile('Neandertal.bam', 'rb')"
      ],
      "execution_count": 0,
      "outputs": []
    },
    {
      "cell_type": "code",
      "metadata": {
        "id": "5nQaPpZjD4wz",
        "colab_type": "code",
        "colab": {}
      },
      "source": [
        "iter = neand.fetch('chr1', 0, 249000000)"
      ],
      "execution_count": 0,
      "outputs": []
    },
    {
      "cell_type": "code",
      "metadata": {
        "id": "AHvIExyrXM8r",
        "colab_type": "code",
        "colab": {}
      },
      "source": [
        "neand_lengths =[]"
      ],
      "execution_count": 0,
      "outputs": []
    },
    {
      "cell_type": "code",
      "metadata": {
        "id": "trJbEenWXSwk",
        "colab_type": "code",
        "colab": {}
      },
      "source": [
        "for i in iter:\n",
        "    neand_lengths.append(i.infer_query_length())"
      ],
      "execution_count": 0,
      "outputs": []
    },
    {
      "cell_type": "code",
      "metadata": {
        "id": "JPc4zqtbXzqE",
        "colab_type": "code",
        "outputId": "6fc14e4f-8d85-429d-89eb-259b6f0c9a6b",
        "colab": {
          "base_uri": "https://localhost:8080/",
          "height": 904
        }
      },
      "source": [
        "plt.figure(figsize=(20,15))\n",
        "sns.distplot(neand_lengths)\n",
        "plt.show"
      ],
      "execution_count": 15,
      "outputs": [
        {
          "output_type": "execute_result",
          "data": {
            "text/plain": [
              "<function matplotlib.pyplot.show>"
            ]
          },
          "metadata": {
            "tags": []
          },
          "execution_count": 15
        },
        {
          "output_type": "display_data",
          "data": {
            "image/png": "[encoded data removed]",
            "text/plain": [
              "<Figure size 1440x1080 with 1 Axes>"
            ]
          },
          "metadata": {
            "tags": []
          }
        }
      ]
    },
    {
      "cell_type": "code",
      "metadata": {
        "id": "YeJfZPA1aIN1",
        "colab_type": "code",
        "outputId": "bdd98098-0b81-4a23-ecf8-c4ae445ca74f",
        "colab": {
          "base_uri": "https://localhost:8080/",
          "height": 51
        }
      },
      "source": [
        "# Extract 76 nt ancient DNA sequances\n",
        "neand_seqs = []\n",
        "for j in tqdm(range(1, 11)):\n",
        "    iter = neand.fetch('chr' + str(j))\n",
        "    for i in iter:\n",
        "        if i.infer_query_length() == 76:\n",
        "            s = str(i.get_forward_sequence())\n",
        "            if s.count('A') > 0 and s.count('C') > 0 and s.count('G') > 0 and s.count('T') > 0 and 'N' not in s:\n",
        "                neand_seqs.append(i.get_forward_sequence())\n",
        "\n",
        "# Read modern DNA sample\n",
        "modern = pysam.AlignmentFile('French.bam', 'rb')\n",
        "modern_seqs = []\n",
        "for j in tqdm(range (1, 11)):\n",
        "    iter = modern.fetch('chr' + str(j))\n",
        "    for i in iter:\n",
        "        if len(modern_seqs) == len(neand_seqs):\n",
        "            break\n",
        "        else:\n",
        "            s = str(i.get_forward_sequence())\n",
        "            if s.count('A') > 0 and s.count('C') > 0 and s.count('G') > 0 and s.count('T') > 0 and 'N' not in s:\n",
        "                modern_seqs.append(i.get_forward_sequence())\n",
        "sequences = neand_seqs + modern_seqs\n",
        "labels = list(np.ones(len(neand_seqs))) + list(np.zeros(len(modern_seqs)))"
      ],
      "execution_count": 16,
      "outputs": [
        {
          "output_type": "stream",
          "text": [
            "100%|██████████| 10/10 [01:12<00:00,  6.08s/it]\n",
            "100%|██████████| 10/10 [00:02<00:00,  4.94it/s]\n"
          ],
          "name": "stderr"
        }
      ]
    },
    {
      "cell_type": "code",
      "metadata": {
        "id": "3ocBLss_HaFB",
        "colab_type": "code",
        "colab": {}
      },
      "source": [
        "# One-hot encode Sequences\n",
        "integer_encoder = LabelEncoder()\n",
        "one_hot_encoder = OneHotEncoder(categories= 'auto')\n",
        "input_features = []"
      ],
      "execution_count": 0,
      "outputs": []
    },
    {
      "cell_type": "code",
      "metadata": {
        "id": "6f8hvLB9XlU3",
        "colab_type": "code",
        "outputId": "f3bbd97e-87f0-4a5f-b998-0a255fa6bc5c",
        "colab": {
          "base_uri": "https://localhost:8080/",
          "height": 34
        }
      },
      "source": [
        "for sequence in tqdm(sequences):\n",
        "  integer_encoded = integer_encoder.fit_transform(list(sequence))\n",
        "  integer_encoded = np.array(integer_encoded).reshape(-1, 1)\n",
        "  one_hot_encoded = one_hot_encoder.fit_transform(integer_encoded)\n",
        "  input_features.append(one_hot_encoded.toarray())"
      ],
      "execution_count": 18,
      "outputs": [
        {
          "output_type": "stream",
          "text": [
            "100%|██████████| 530480/530480 [04:37<00:00, 1915.02it/s]\n"
          ],
          "name": "stderr"
        }
      ]
    },
    {
      "cell_type": "code",
      "metadata": {
        "id": "fdMAy2EyzTwe",
        "colab_type": "code",
        "outputId": "d6121c12-115f-4e28-b6ae-5722fb27f365",
        "colab": {
          "base_uri": "https://localhost:8080/",
          "height": 34
        }
      },
      "source": [
        "np.shape(input_features)"
      ],
      "execution_count": 19,
      "outputs": [
        {
          "output_type": "execute_result",
          "data": {
            "text/plain": [
              "(530480, 76, 4)"
            ]
          },
          "metadata": {
            "tags": []
          },
          "execution_count": 19
        }
      ]
    },
    {
      "cell_type": "code",
      "metadata": {
        "id": "HNnW2g8pfJpk",
        "colab_type": "code",
        "outputId": "0937939e-83d2-44af-9992-772e03b72d77",
        "colab": {
          "base_uri": "https://localhost:8080/",
          "height": 170
        }
      },
      "source": [
        "np.set_printoptions(threshold = 40)\n",
        "input_features = np.stack(input_features)\n",
        "print('Example sequence\\n-----------------------')\n",
        "print('DNA Sequence #1:\\n',sequences[0][:10],'...',sequences[0][-10:])\n",
        "print('One hot encoding of Sequence #1:\\n',input_features[0].T)"
      ],
      "execution_count": 20,
      "outputs": [
        {
          "output_type": "stream",
          "text": [
            "Example sequence\n",
            "-----------------------\n",
            "DNA Sequence #1:\n",
            " AAATCATCAG ... CTCCAAAACT\n",
            "One hot encoding of Sequence #1:\n",
            " [[1. 1. 1. ... 1. 0. 0.]\n",
            " [0. 0. 0. ... 0. 1. 0.]\n",
            " [0. 0. 0. ... 0. 0. 0.]\n",
            " [0. 0. 0. ... 0. 0. 1.]]\n"
          ],
          "name": "stdout"
        }
      ]
    },
    {
      "cell_type": "code",
      "metadata": {
        "id": "zsX8zGvp2Yz7",
        "colab_type": "code",
        "outputId": "cd485677-1dde-4944-f1e1-ce7ae5e856cb",
        "colab": {
          "base_uri": "https://localhost:8080/",
          "height": 102
        }
      },
      "source": [
        "# One-hot encode Labels\n",
        "one_hot_encoder = OneHotEncoder(categories='auto')\n",
        "labels = np.array(labels).reshape(-1, 1)\n",
        "input_labels = one_hot_encoder.fit_transform(labels).toarray()\n",
        "print('Labels:\\n',labels.T)\n",
        "print('One-hot encoded labels:\\n',input_labels.T)"
      ],
      "execution_count": 21,
      "outputs": [
        {
          "output_type": "stream",
          "text": [
            "Labels:\n",
            " [[1. 1. 1. ... 0. 0. 0.]]\n",
            "One-hot encoded labels:\n",
            " [[0. 0. 0. ... 1. 1. 1.]\n",
            " [1. 1. 1. ... 0. 0. 0.]]\n"
          ],
          "name": "stdout"
        }
      ]
    },
    {
      "cell_type": "code",
      "metadata": {
        "id": "tSnwscuN1Mn4",
        "colab_type": "code",
        "colab": {}
      },
      "source": [
        "#input_labels = np.expand_dims(input_labels, axis = 1) # run if ses2sec Wavenet"
      ],
      "execution_count": 0,
      "outputs": []
    },
    {
      "cell_type": "code",
      "metadata": {
        "id": "amkSZlAjeSoN",
        "colab_type": "code",
        "colab": {}
      },
      "source": [
        "#input_features = np.expand_dims(input_features, axis = -1) # run if 2DConv"
      ],
      "execution_count": 0,
      "outputs": []
    },
    {
      "cell_type": "code",
      "metadata": {
        "id": "Ry8s4j9G94Y0",
        "colab_type": "code",
        "colab": {}
      },
      "source": [
        "input_features = input_features.astype(np.float32)\n",
        "input_labels = input_labels.astype(np.float32)"
      ],
      "execution_count": 0,
      "outputs": []
    },
    {
      "cell_type": "code",
      "metadata": {
        "id": "kV6bI9d0juPx",
        "colab_type": "code",
        "colab": {}
      },
      "source": [
        "train_features, test_features, train_labels, test_labels = train_test_split(\n",
        "    input_features, input_labels,\n",
        "    test_size = 0.25, random_state = 42\n",
        "    )"
      ],
      "execution_count": 0,
      "outputs": []
    },
    {
      "cell_type": "code",
      "metadata": {
        "id": "X2UN6MyAfm8w",
        "colab_type": "code",
        "outputId": "fa7c9add-d732-4694-adbd-767bebac9e89",
        "colab": {
          "base_uri": "https://localhost:8080/",
          "height": 51
        }
      },
      "source": [
        "import os\n",
        "import tensorflow as tf\n",
        "import tensorflow.keras\n",
        "from tensorflow.keras.optimizers import SGD, Adam, Adadelta\n",
        "from tensorflow.keras.layers import Conv1D, Dense, MaxPooling1D, Flatten\n",
        "from tensorflow.keras.layers import BatchNormalization, Dropout, Lambda, Conv2D, MaxPooling2D, concatenate\n",
        "from tensorflow.keras.models import Sequential\n",
        "from tensorflow.keras.regularizers import l2, l1\n",
        "from tensorflow.keras.callbacks import TensorBoard,ModelCheckpoint\n",
        "import tensorflow.keras.backend as K\n",
        "#from keras.applications import DenseNet121 as DenseNet\n",
        "\n",
        "print (tf.__version__)\n",
        "print(tf.keras.__version__)"
      ],
      "execution_count": 25,
      "outputs": [
        {
          "output_type": "stream",
          "text": [
            "1.13.1\n",
            "2.2.4-tf\n"
          ],
          "name": "stdout"
        }
      ]
    },
    {
      "cell_type": "code",
      "metadata": {
        "id": "4qDe2KaroUXM",
        "colab_type": "code",
        "outputId": "7e95c6e9-0b76-4afc-8851-a8750c5adf15",
        "colab": {
          "base_uri": "https://localhost:8080/",
          "height": 34
        }
      },
      "source": [
        "try:\n",
        "    device_name = os.environ['COLAB_TPU_ADDR']\n",
        "    TPU_ADDRESS = 'grpc://' + device_name\n",
        "    print('Found TPU at: {}'.format(TPU_ADDRESS))\n",
        "    #tpu = tf.contrib.cluster_resolver.TPUClusterResolver() # Picks up a connected TPU on Google's Colab, ML Engine, Kubernetes \n",
        "    #USE_TPU = True\n",
        "except KeyError:\n",
        "    print('TPU not found')"
      ],
      "execution_count": 26,
      "outputs": [
        {
          "output_type": "stream",
          "text": [
            "Found TPU at: grpc://10.82.39.186:8470\n"
          ],
          "name": "stdout"
        }
      ]
    },
    {
      "cell_type": "code",
      "metadata": {
        "id": "ePmAUOEfiNsp",
        "colab_type": "code",
        "colab": {}
      },
      "source": [
        "nt_length = 76\n",
        "batch_size = 1024\n",
        "dilation_rates = [2**i for i in range(8)] \n",
        "filter_width = 2\n",
        "n_filters = 32 "
      ],
      "execution_count": 0,
      "outputs": []
    },
    {
      "cell_type": "code",
      "metadata": {
        "id": "sRk4PG9Yhv6u",
        "colab_type": "code",
        "outputId": "bc37ec21-8255-4d06-cd8a-4c0506258153",
        "colab": {
          "base_uri": "https://localhost:8080/",
          "height": 34
        }
      },
      "source": [
        "def train_input_fn(batch_size=batch_size):\n",
        "    # Convert the inputs to a Dataset.                                        \n",
        "    dataset = tf.data.Dataset.from_tensor_slices((train_features, train_labels))     \n",
        "    \n",
        "    # Shuffle, repeat, and batch the examples.    \n",
        "    #dataset = dataset.cache() # Loads the data into memory since its such a small dataset\n",
        "    #dataset = dataset.shuffle(388, reshuffle_each_iteration = False)\n",
        "    dataset = dataset.repeat() \n",
        "    dataset = dataset.batch(batch_size, drop_remainder=True)\n",
        "\n",
        "    # Return the dataset.\n",
        "    return dataset\n",
        "train_input_fn()"
      ],
      "execution_count": 28,
      "outputs": [
        {
          "output_type": "execute_result",
          "data": {
            "text/plain": [
              "<DatasetV1Adapter shapes: ((1024, 76, 4), (1024, 2)), types: (tf.float32, tf.float32)>"
            ]
          },
          "metadata": {
            "tags": []
          },
          "execution_count": 28
        }
      ]
    },
    {
      "cell_type": "code",
      "metadata": {
        "id": "Fw7Q-u2vih2n",
        "colab_type": "code",
        "outputId": "595a3f4a-b416-4572-a4b9-2455f851c270",
        "colab": {
          "base_uri": "https://localhost:8080/",
          "height": 34
        }
      },
      "source": [
        "def test_input_fn(batch_size=batch_size):\n",
        "    # Convert the inputs to a Dataset.        \n",
        "    dataset = tf.data.Dataset.from_tensor_slices((test_features, test_labels))\n",
        "    \n",
        "    # Shuffle, repeat, and batch the examples.\n",
        "    #dataset = dataset.cache()\n",
        "    #dataset = dataset.shuffle(129, reshuffle_each_iteration = False)\n",
        "    dataset = dataset.repeat()\n",
        "    dataset = dataset.batch(batch_size, drop_remainder=True)\n",
        "\n",
        "    # Return the dataset.\n",
        "    return dataset\n",
        "test_input_fn()"
      ],
      "execution_count": 29,
      "outputs": [
        {
          "output_type": "execute_result",
          "data": {
            "text/plain": [
              "<DatasetV1Adapter shapes: ((1024, 76, 4), (1024, 2)), types: (tf.float32, tf.float32)>"
            ]
          },
          "metadata": {
            "tags": []
          },
          "execution_count": 29
        }
      ]
    },
    {
      "cell_type": "code",
      "metadata": {
        "id": "pSyw_cA-v7WJ",
        "colab_type": "code",
        "outputId": "498601f2-b192-4e19-da44-bea25e68cc0f",
        "colab": {
          "base_uri": "https://localhost:8080/",
          "height": 139
        }
      },
      "source": [
        "\n",
        "input_shape = (nt_length, 4)\n",
        "input_window = tf.keras.Input(\n",
        "        name = 'input', shape = input_shape, batch_size = batch_size, dtype = tf.float32)\n",
        "input = input_window\n",
        "x = Conv1D(filters =32, kernel_size = 15, padding = 'same', \n",
        "                 kernel_initializer = 'he_uniform', \n",
        "                 #input_shape = input_shape, \n",
        "                 activation = 'selu',\n",
        "                 kernel_regularizer=l2(0.001))(input)\n",
        "\n",
        "#merge = concatenate([x, input])\n",
        "x = Conv1D(filters = 32, kernel_size = 9, padding = 'same', \n",
        "                 kernel_initializer = 'he_uniform', \n",
        "                 activation = 'selu',\n",
        "                 kernel_regularizer=l2(0.001))(x)\n",
        "\n",
        "\n",
        "#merge = concatenate([x, input])\n",
        "x = MaxPooling1D(pool_size =9)(x)\n",
        "\n",
        "x = Flatten()(x)\n",
        "x = BatchNormalization()(x)\n",
        "x = Dense(16, kernel_initializer = 'he_uniform', activation = 'sigmoid',\n",
        "         kernel_regularizer = l2(0.001))(x)\n",
        "x = Dense(8, kernel_initializer = 'he_uniform', activation = 'sigmoid',\n",
        "         kernel_regularizer = l2(0.001))(x)\n",
        "x = Dropout(.2)(x)\n",
        "output = Dense(2, activation = 'softmax')(x)\n"
      ],
      "execution_count": 30,
      "outputs": [
        {
          "output_type": "stream",
          "text": [
            "WARNING:tensorflow:From /usr/local/lib/python3.6/dist-packages/tensorflow/python/ops/resource_variable_ops.py:435: colocate_with (from tensorflow.python.framework.ops) is deprecated and will be removed in a future version.\n",
            "Instructions for updating:\n",
            "Colocations handled automatically by placer.\n",
            "WARNING:tensorflow:From /usr/local/lib/python3.6/dist-packages/tensorflow/python/keras/layers/core.py:143: calling dropout (from tensorflow.python.ops.nn_ops) with keep_prob is deprecated and will be removed in a future version.\n",
            "Instructions for updating:\n",
            "Please use `rate` instead of `keep_prob`. Rate should be set to `rate = 1 - keep_prob`.\n"
          ],
          "name": "stdout"
        }
      ]
    },
    {
      "cell_type": "code",
      "metadata": {
        "id": "bvyi4xw6nFEw",
        "colab_type": "code",
        "colab": {}
      },
      "source": [
        "model = tf.keras.Model(inputs = [input_window], outputs = [output])"
      ],
      "execution_count": 0,
      "outputs": []
    },
    {
      "cell_type": "code",
      "metadata": {
        "id": "5hQHUsRFyzwN",
        "colab_type": "code",
        "colab": {}
      },
      "source": [
        "#model.summary()"
      ],
      "execution_count": 0,
      "outputs": []
    },
    {
      "cell_type": "code",
      "metadata": {
        "id": "cnniYXWUngLq",
        "colab_type": "code",
        "colab": {}
      },
      "source": [
        "epochs = 200\n",
        "learning_rate = 0.00005\n",
        "momentum = 0.9\n",
        "decay = learning_rate / epochs"
      ],
      "execution_count": 0,
      "outputs": []
    },
    {
      "cell_type": "code",
      "metadata": {
        "id": "-Mvm0Oo2noaT",
        "colab_type": "code",
        "colab": {}
      },
      "source": [
        "#opt = tf.keras.optimizers.SGD(learning_rate, momentum, decay = decay, nesterov = False)\n",
        "opt = tf.train.AdamOptimizer(learning_rate)"
      ],
      "execution_count": 0,
      "outputs": []
    },
    {
      "cell_type": "code",
      "metadata": {
        "id": "txejK0y8n7z7",
        "colab_type": "code",
        "colab": {}
      },
      "source": [
        "model.compile(\n",
        "                   optimizer = opt,                  \n",
        "                   loss = 'binary_crossentropy',                 \n",
        "                   metrics = ['binary_accuracy']\n",
        "                    )\n"
      ],
      "execution_count": 0,
      "outputs": []
    },
    {
      "cell_type": "code",
      "metadata": {
        "id": "bJnX9UU0ohlE",
        "colab_type": "code",
        "colab": {}
      },
      "source": [
        "tpu_model = tf.contrib.tpu.keras_to_tpu_model(model,\n",
        "                                             strategy = tf.contrib.tpu.TPUDistributionStrategy(\n",
        "                                             tf.contrib.cluster_resolver.TPUClusterResolver(TPU_ADDRESS)))"
      ],
      "execution_count": 0,
      "outputs": []
    },
    {
      "cell_type": "code",
      "metadata": {
        "id": "b48dQTqlouXl",
        "colab_type": "code",
        "outputId": "86bf3a84-4c91-4fd8-9435-2868372a874d",
        "colab": {
          "base_uri": "https://localhost:8080/",
          "height": 238
        }
      },
      "source": [
        "!wget https://bin.equinox.io/c/4VmDzA7iaHb/ngrok-stable-linux-amd64.zip\n",
        "!unzip ngrok-stable-linux-amd64.zip"
      ],
      "execution_count": 37,
      "outputs": [
        {
          "output_type": "stream",
          "text": [
            "--2019-06-05 13:51:29--  https://bin.equinox.io/c/4VmDzA7iaHb/ngrok-stable-linux-amd64.zip\n",
            "Resolving bin.equinox.io (bin.equinox.io)... 52.73.94.166, 52.200.123.104, 34.206.9.96, ...\n",
            "Connecting to bin.equinox.io (bin.equinox.io)|52.73.94.166|:443... connected.\n",
            "HTTP request sent, awaiting response... 200 OK\n",
            "Length: 16648024 (16M) [application/octet-stream]\n",
            "Saving to: ‘ngrok-stable-linux-amd64.zip’\n",
            "\n",
            "ngrok-stable-linux- 100%[===================>]  15.88M  37.7MB/s    in 0.4s    \n",
            "\n",
            "2019-06-05 13:51:30 (37.7 MB/s) - ‘ngrok-stable-linux-amd64.zip’ saved [16648024/16648024]\n",
            "\n",
            "Archive:  ngrok-stable-linux-amd64.zip\n",
            "  inflating: ngrok                   \n"
          ],
          "name": "stdout"
        }
      ]
    },
    {
      "cell_type": "code",
      "metadata": {
        "id": "neB85oo_BF48",
        "colab_type": "code",
        "outputId": "5a479177-4731-48f5-a75b-a0f80b21b3d4",
        "colab": {
          "base_uri": "https://localhost:8080/",
          "height": 34
        }
      },
      "source": [
        "\n",
        "LOG_DIR = './log'  \n",
        "get_ipython().system_raw(\n",
        "    'tensorboard --logdir {} --host 0.0.0.0 --port 6006 &'\n",
        "    .format(LOG_DIR)\n",
        ")\n",
        "get_ipython().system_raw('./ngrok http 6006 &')\n",
        "\n",
        "! curl -s http://localhost:4040/api/tunnels | python3 -c \\\n",
        "    \"import sys, json; print(json.load(sys.stdin)['tunnels'][0]['public_url'])\"\n"
      ],
      "execution_count": 38,
      "outputs": [
        {
          "output_type": "stream",
          "text": [
            "https://cecaf57e.ngrok.io\n"
          ],
          "name": "stdout"
        }
      ]
    },
    {
      "cell_type": "code",
      "metadata": {
        "id": "mSL_c8TXo373",
        "colab_type": "code",
        "outputId": "30e93092-1d26-457b-dcd5-6ce1792884db",
        "colab": {
          "base_uri": "https://localhost:8080/",
          "height": 2043
        }
      },
      "source": [
        "NAME = f'Ancient_DNA {time.strftime(\"%Y-%m-%d-%H.%M.%S\", time.localtime())}'\n",
        "log_dir = f'./log/{NAME}'\n",
        "tensorboard = TensorBoard(log_dir = log_dir)\n",
        "checkpointer = ModelCheckpoint(filepath='./Ancient_DNA_1.h5',monitor='val_acc', verbose=0, \n",
        "                               save_best_only=True, save_weights_only = True) # save best model\n",
        "start_training = datetime.datetime.now()\n",
        "history = tpu_model.fit(train_input_fn,                                                 \n",
        "                         steps_per_epoch = 388,\n",
        "                         epochs = 50,\n",
        "                         #shuffle = True,\n",
        "                         validation_data = test_input_fn,                        \n",
        "                         validation_steps = 129,\n",
        "                         callbacks = [\n",
        "                                      tensorboard,                                      \n",
        "                                      #checkpointer\n",
        "                                     ]\n",
        "                                   )\n",
        "print('Training time = ', datetime.datetime.now() - start_training)"
      ],
      "execution_count": 39,
      "outputs": [
        {
          "output_type": "stream",
          "text": [
            "Epoch 1/50\n",
            "INFO:tensorflow:New input shapes; (re-)compiling: mode=train (# of cores 8), [TensorSpec(shape=(1024,), dtype=tf.int32, name=None), TensorSpec(shape=(1024, 76, 4), dtype=tf.float32, name=None), TensorSpec(shape=(1024, 2), dtype=tf.float32, name=None)]\n",
            "INFO:tensorflow:Overriding default placeholder.\n",
            "INFO:tensorflow:Remapping placeholder for input\n",
            "WARNING:tensorflow:From /usr/local/lib/python3.6/dist-packages/tensorflow/contrib/tpu/python/tpu/keras_support.py:302: to_float (from tensorflow.python.ops.math_ops) is deprecated and will be removed in a future version.\n",
            "Instructions for updating:\n",
            "Use tf.cast instead.\n",
            "WARNING:tensorflow:From /usr/local/lib/python3.6/dist-packages/tensorflow/python/ops/math_ops.py:3066: to_int32 (from tensorflow.python.ops.math_ops) is deprecated and will be removed in a future version.\n",
            "Instructions for updating:\n",
            "Use tf.cast instead.\n",
            "INFO:tensorflow:Started compiling\n",
            "INFO:tensorflow:Finished compiling. Time elapsed: 3.056421995162964 secs\n",
            "INFO:tensorflow:Setting weights on TPU model.\n",
            "386/388 [============================>.] - ETA: 0s - loss: 0.7678 - binary_accuracy: 0.6811INFO:tensorflow:New input shapes; (re-)compiling: mode=eval (# of cores 8), [TensorSpec(shape=(1024,), dtype=tf.int32, name=None), TensorSpec(shape=(1024, 76, 4), dtype=tf.float32, name=None), TensorSpec(shape=(1024, 2), dtype=tf.float32, name=None)]\n",
            "INFO:tensorflow:Overriding default placeholder.\n",
            "INFO:tensorflow:Remapping placeholder for input\n",
            "INFO:tensorflow:Started compiling\n",
            "INFO:tensorflow:Finished compiling. Time elapsed: 1.741086483001709 secs\n",
            "388/388 [==============================] - 26s 67ms/step - loss: 0.7674 - binary_accuracy: 0.6815 - val_loss: 0.6492 - val_binary_accuracy: 0.7911\n",
            "Epoch 2/50\n",
            "388/388 [==============================] - 16s 42ms/step - loss: 0.6700 - binary_accuracy: 0.7643 - val_loss: 0.6117 - val_binary_accuracy: 0.8008\n",
            "Epoch 3/50\n",
            "388/388 [==============================] - 16s 42ms/step - loss: 0.6331 - binary_accuracy: 0.7775 - val_loss: 0.5791 - val_binary_accuracy: 0.8113\n",
            "Epoch 4/50\n",
            "388/388 [==============================] - 17s 43ms/step - loss: 0.5999 - binary_accuracy: 0.7892 - val_loss: 0.5499 - val_binary_accuracy: 0.8187\n",
            "Epoch 5/50\n",
            "388/388 [==============================] - 17s 43ms/step - loss: 0.5714 - binary_accuracy: 0.7986 - val_loss: 0.5252 - val_binary_accuracy: 0.8233\n",
            "Epoch 6/50\n",
            "388/388 [==============================] - 17s 43ms/step - loss: 0.5482 - binary_accuracy: 0.8070 - val_loss: 0.5062 - val_binary_accuracy: 0.8264\n",
            "Epoch 7/50\n",
            "388/388 [==============================] - 17s 43ms/step - loss: 0.5300 - binary_accuracy: 0.8119 - val_loss: 0.4914 - val_binary_accuracy: 0.8285\n",
            "Epoch 8/50\n",
            "388/388 [==============================] - 16s 42ms/step - loss: 0.5148 - binary_accuracy: 0.8166 - val_loss: 0.4794 - val_binary_accuracy: 0.8299\n",
            "Epoch 9/50\n",
            "388/388 [==============================] - 16s 42ms/step - loss: 0.5021 - binary_accuracy: 0.8197 - val_loss: 0.4696 - val_binary_accuracy: 0.8304\n",
            "Epoch 10/50\n",
            "388/388 [==============================] - 16s 42ms/step - loss: 0.4912 - binary_accuracy: 0.8220 - val_loss: 0.4613 - val_binary_accuracy: 0.8313\n",
            "Epoch 11/50\n",
            "388/388 [==============================] - 16s 42ms/step - loss: 0.4822 - binary_accuracy: 0.8235 - val_loss: 0.4544 - val_binary_accuracy: 0.8315\n",
            "Epoch 12/50\n",
            "388/388 [==============================] - 16s 42ms/step - loss: 0.4742 - binary_accuracy: 0.8249 - val_loss: 0.4487 - val_binary_accuracy: 0.8320\n",
            "Epoch 13/50\n",
            "388/388 [==============================] - 16s 42ms/step - loss: 0.4674 - binary_accuracy: 0.8263 - val_loss: 0.4439 - val_binary_accuracy: 0.8325\n",
            "Epoch 14/50\n",
            "388/388 [==============================] - 16s 42ms/step - loss: 0.4613 - binary_accuracy: 0.8274 - val_loss: 0.4394 - val_binary_accuracy: 0.8329\n",
            "Epoch 15/50\n",
            "388/388 [==============================] - 16s 42ms/step - loss: 0.4560 - binary_accuracy: 0.8285 - val_loss: 0.4363 - val_binary_accuracy: 0.8330\n",
            "Epoch 16/50\n",
            "388/388 [==============================] - 16s 42ms/step - loss: 0.4513 - binary_accuracy: 0.8292 - val_loss: 0.4327 - val_binary_accuracy: 0.8329\n",
            "Epoch 17/50\n",
            "388/388 [==============================] - 16s 42ms/step - loss: 0.4473 - binary_accuracy: 0.8299 - val_loss: 0.4298 - val_binary_accuracy: 0.8332\n",
            "Epoch 18/50\n",
            "388/388 [==============================] - 16s 42ms/step - loss: 0.4435 - binary_accuracy: 0.8304 - val_loss: 0.4274 - val_binary_accuracy: 0.8334\n",
            "Epoch 19/50\n",
            "388/388 [==============================] - 16s 42ms/step - loss: 0.4407 - binary_accuracy: 0.8309 - val_loss: 0.4259 - val_binary_accuracy: 0.8331\n",
            "Epoch 20/50\n",
            "388/388 [==============================] - 16s 42ms/step - loss: 0.4374 - binary_accuracy: 0.8314 - val_loss: 0.4234 - val_binary_accuracy: 0.8336\n",
            "Epoch 21/50\n",
            "388/388 [==============================] - 16s 42ms/step - loss: 0.4348 - binary_accuracy: 0.8319 - val_loss: 0.4214 - val_binary_accuracy: 0.8336\n",
            "Epoch 22/50\n",
            "388/388 [==============================] - 16s 42ms/step - loss: 0.4324 - binary_accuracy: 0.8323 - val_loss: 0.4197 - val_binary_accuracy: 0.8338\n",
            "Epoch 23/50\n",
            "388/388 [==============================] - 16s 42ms/step - loss: 0.4303 - binary_accuracy: 0.8330 - val_loss: 0.4182 - val_binary_accuracy: 0.8336\n",
            "Epoch 24/50\n",
            "388/388 [==============================] - 16s 42ms/step - loss: 0.4280 - binary_accuracy: 0.8334 - val_loss: 0.4166 - val_binary_accuracy: 0.8342\n",
            "Epoch 25/50\n",
            "388/388 [==============================] - 16s 42ms/step - loss: 0.4259 - binary_accuracy: 0.8340 - val_loss: 0.4153 - val_binary_accuracy: 0.8342\n",
            "Epoch 26/50\n",
            "388/388 [==============================] - 17s 43ms/step - loss: 0.4244 - binary_accuracy: 0.8342 - val_loss: 0.4141 - val_binary_accuracy: 0.8343\n",
            "Epoch 27/50\n",
            "388/388 [==============================] - 16s 42ms/step - loss: 0.4226 - binary_accuracy: 0.8347 - val_loss: 0.4135 - val_binary_accuracy: 0.8340\n",
            "Epoch 28/50\n",
            "388/388 [==============================] - 16s 42ms/step - loss: 0.4209 - binary_accuracy: 0.8351 - val_loss: 0.4119 - val_binary_accuracy: 0.8344\n",
            "Epoch 29/50\n",
            "388/388 [==============================] - 16s 42ms/step - loss: 0.4192 - binary_accuracy: 0.8357 - val_loss: 0.4108 - val_binary_accuracy: 0.8345\n",
            "Epoch 30/50\n",
            "388/388 [==============================] - 16s 42ms/step - loss: 0.4180 - binary_accuracy: 0.8360 - val_loss: 0.4098 - val_binary_accuracy: 0.8344\n",
            "Epoch 31/50\n",
            "388/388 [==============================] - 16s 42ms/step - loss: 0.4166 - binary_accuracy: 0.8363 - val_loss: 0.4087 - val_binary_accuracy: 0.8346\n",
            "Epoch 32/50\n",
            "388/388 [==============================] - 16s 42ms/step - loss: 0.4155 - binary_accuracy: 0.8365 - val_loss: 0.4076 - val_binary_accuracy: 0.8347\n",
            "Epoch 33/50\n",
            "388/388 [==============================] - 16s 42ms/step - loss: 0.4144 - binary_accuracy: 0.8366 - val_loss: 0.4073 - val_binary_accuracy: 0.8352\n",
            "Epoch 34/50\n",
            "388/388 [==============================] - 17s 43ms/step - loss: 0.4134 - binary_accuracy: 0.8369 - val_loss: 0.4068 - val_binary_accuracy: 0.8350\n",
            "Epoch 35/50\n",
            "388/388 [==============================] - 17s 43ms/step - loss: 0.4124 - binary_accuracy: 0.8371 - val_loss: 0.4068 - val_binary_accuracy: 0.8345\n",
            "Epoch 36/50\n",
            "388/388 [==============================] - 16s 42ms/step - loss: 0.4116 - binary_accuracy: 0.8371 - val_loss: 0.4048 - val_binary_accuracy: 0.8348\n",
            "Epoch 37/50\n",
            "388/388 [==============================] - 17s 43ms/step - loss: 0.4107 - binary_accuracy: 0.8373 - val_loss: 0.4048 - val_binary_accuracy: 0.8347\n",
            "Epoch 38/50\n",
            "388/388 [==============================] - 16s 43ms/step - loss: 0.4097 - binary_accuracy: 0.8376 - val_loss: 0.4046 - val_binary_accuracy: 0.8348\n",
            "Epoch 39/50\n",
            "388/388 [==============================] - 17s 43ms/step - loss: 0.4090 - binary_accuracy: 0.8378 - val_loss: 0.4034 - val_binary_accuracy: 0.8349\n",
            "Epoch 40/50\n",
            "388/388 [==============================] - 16s 42ms/step - loss: 0.4082 - binary_accuracy: 0.8379 - val_loss: 0.4042 - val_binary_accuracy: 0.8342\n",
            "Epoch 41/50\n",
            "388/388 [==============================] - 16s 42ms/step - loss: 0.4073 - binary_accuracy: 0.8381 - val_loss: 0.4028 - val_binary_accuracy: 0.8349\n",
            "Epoch 42/50\n",
            "388/388 [==============================] - 16s 42ms/step - loss: 0.4066 - binary_accuracy: 0.8382 - val_loss: 0.4018 - val_binary_accuracy: 0.8351\n",
            "Epoch 43/50\n",
            "388/388 [==============================] - 17s 43ms/step - loss: 0.4061 - binary_accuracy: 0.8383 - val_loss: 0.4025 - val_binary_accuracy: 0.8347\n",
            "Epoch 44/50\n",
            "388/388 [==============================] - 17s 43ms/step - loss: 0.4054 - binary_accuracy: 0.8384 - val_loss: 0.4013 - val_binary_accuracy: 0.8351\n",
            "Epoch 45/50\n",
            "388/388 [==============================] - 16s 42ms/step - loss: 0.4048 - binary_accuracy: 0.8385 - val_loss: 0.4004 - val_binary_accuracy: 0.8355\n",
            "Epoch 46/50\n",
            "388/388 [==============================] - 17s 43ms/step - loss: 0.4044 - binary_accuracy: 0.8385 - val_loss: 0.3998 - val_binary_accuracy: 0.8357\n",
            "Epoch 47/50\n",
            "388/388 [==============================] - 16s 42ms/step - loss: 0.4038 - binary_accuracy: 0.8387 - val_loss: 0.3998 - val_binary_accuracy: 0.8356\n",
            "Epoch 48/50\n",
            "388/388 [==============================] - 16s 42ms/step - loss: 0.4031 - binary_accuracy: 0.8389 - val_loss: 0.3992 - val_binary_accuracy: 0.8354\n",
            "Epoch 49/50\n",
            "388/388 [==============================] - 16s 42ms/step - loss: 0.4026 - binary_accuracy: 0.8391 - val_loss: 0.3990 - val_binary_accuracy: 0.8358\n",
            "Epoch 50/50\n",
            "388/388 [==============================] - 16s 42ms/step - loss: 0.4024 - binary_accuracy: 0.8390 - val_loss: 0.3986 - val_binary_accuracy: 0.8353\n",
            "Training time =  0:13:59.004785\n"
          ],
          "name": "stdout"
        }
      ]
    },
    {
      "cell_type": "code",
      "metadata": {
        "id": "-ZZxOkF2sfMR",
        "colab_type": "code",
        "outputId": "1d096c1a-6071-4867-b989-3e2bdedef07c",
        "colab": {
          "base_uri": "https://localhost:8080/",
          "height": 421
        }
      },
      "source": [
        "plt.figure(figsize=(10,6))  \n",
        "plt.plot(history.history['binary_accuracy'])\n",
        "plt.plot(history.history['val_binary_accuracy'])\n",
        "\n",
        "plt.xlabel('Epoch')\n",
        "plt.ylabel('_accuracy')\n",
        "plt.title('Training')\n",
        "plt.legend(['Train','Valid'])"
      ],
      "execution_count": 40,
      "outputs": [
        {
          "output_type": "execute_result",
          "data": {
            "text/plain": [
              "<matplotlib.legend.Legend at 0x7fbac1d59710>"
            ]
          },
          "metadata": {
            "tags": []
          },
          "execution_count": 40
        },
        {
          "output_type": "display_data",
          "data": {
            "image/png": "[encoded data removed]",
            "text/plain": [
              "<Figure size 720x432 with 1 Axes>"
            ]
          },
          "metadata": {
            "tags": []
          }
        }
      ]
    },
    {
      "cell_type": "code",
      "metadata": {
        "id": "wsPnWRees_pZ",
        "colab_type": "code",
        "colab": {}
      },
      "source": [
        "def save_all(weights_tpu = 'weights_tpu.h5', weights_cpu = 'weights_cpu.h5', model_wpath = 'Ancient_DNA.json'):\n",
        "    \n",
        "    tpu_model.save_weights(weights_tpu, overwrite = True)\n",
        "    cpu_saved_model = tpu_model.sync_to_cpu()\n",
        "    cpu_saved_model.save_weights(weights_cpu, overwrite = True)\n",
        "    saved_model = model.to_json()\n",
        "    with open(model_wpath, 'w') as json_file:\n",
        "        json_file.write(saved_model)"
      ],
      "execution_count": 0,
      "outputs": []
    },
    {
      "cell_type": "code",
      "metadata": {
        "id": "2fDKn4DHuMST",
        "colab_type": "code",
        "outputId": "054bf0d4-9a0d-44f7-8eaa-060d2e151b17",
        "colab": {
          "base_uri": "https://localhost:8080/",
          "height": 51
        }
      },
      "source": [
        "save_all()"
      ],
      "execution_count": 42,
      "outputs": [
        {
          "output_type": "stream",
          "text": [
            "INFO:tensorflow:Copying TPU weights to the CPU\n",
            "INFO:tensorflow:Copying TPU weights to the CPU\n"
          ],
          "name": "stdout"
        }
      ]
    },
    {
      "cell_type": "code",
      "metadata": {
        "id": "m8-mp8bLM3uV",
        "colab_type": "code",
        "colab": {}
      },
      "source": [
        "def load_all (weights_file, model_wpath): \n",
        "    jfile = open(model_wpath, 'r')\n",
        "    saved_model = jfile.read()\n",
        "    jfile.close()\n",
        "    loaded_model = model_from_json(saved_model)          \n",
        "    loaded_model.load_weights(weights_file)\n",
        "    \n",
        "    return loaded_model"
      ],
      "execution_count": 0,
      "outputs": []
    },
    {
      "cell_type": "code",
      "metadata": {
        "id": "0lEieUoXL_8r",
        "colab_type": "code",
        "colab": {}
      },
      "source": [
        "def predict_tpu (x, batch_size = batch_size):\n",
        "    for i in tqdm(range(0, int(x.shape[0] / batch_size))):    \n",
        "    \n",
        "        if not(i):\n",
        "            predict = np.array(tpu_model.predict(x[i * batch_size:(i + 1) * batch_size,:,:]))\n",
        "        else:\n",
        "            predict = np.append(predict,tpu_model.predict(x[i * batch_size:(i + 1) * batch_size,:,:]), axis =0)\n",
        "        \n",
        "\n",
        "    predict = np.append(predict, tpu_model.predict(x[-1024:,:,:])[- x.shape[0] % batch_size:,:], axis = 0)\n",
        "    return predict"
      ],
      "execution_count": 0,
      "outputs": []
    },
    {
      "cell_type": "code",
      "metadata": {
        "id": "tq_hvnMANP2I",
        "colab_type": "code",
        "colab": {}
      },
      "source": [
        "#tpu_model.load_weights('?.h5')"
      ],
      "execution_count": 0,
      "outputs": []
    },
    {
      "cell_type": "code",
      "metadata": {
        "id": "uJ26lyIQNWAN",
        "colab_type": "code",
        "colab": {}
      },
      "source": [
        "def predict_cpu (x, cpu_model, batch_size = batch_size):\n",
        "    for i in tqdm(range(0, int(x.shape[0] / batch_size))):    \n",
        "    \n",
        "        if not(i):\n",
        "            predict = np.array(cpu_model.predict(x[i * batch_size:(i + 1) * batch_size,:,:]))\n",
        "        else:\n",
        "            predict = np.append(predict, cpu_model.predict(x[i * batch_size:(i + 1) * batch_size,:,:]), axis =0)\n",
        "        \n",
        "    print(np.shape(predict))\n",
        "    predict = np.append(predict, cpu_model.predict(x[-1024:,:,:])[- x.shape[0] % batch_size:, :], axis = 0)\n",
        "    return predict"
      ],
      "execution_count": 0,
      "outputs": []
    },
    {
      "cell_type": "code",
      "metadata": {
        "id": "KtUeKopmNvPP",
        "colab_type": "code",
        "outputId": "65c3af40-f94a-49cd-bcc3-613421733bb6",
        "colab": {
          "base_uri": "https://localhost:8080/",
          "height": 34
        }
      },
      "source": [
        "predict_DNA = predict_tpu(test_features)"
      ],
      "execution_count": 61,
      "outputs": [
        {
          "output_type": "stream",
          "text": [
            "100%|██████████| 129/129 [00:02<00:00, 50.95it/s]\n"
          ],
          "name": "stderr"
        }
      ]
    },
    {
      "cell_type": "code",
      "metadata": {
        "id": "4PjId4M7dPCD",
        "colab_type": "code",
        "colab": {}
      },
      "source": [
        "from sklearn.metrics import confusion_matrix\n",
        "import itertools"
      ],
      "execution_count": 0,
      "outputs": []
    },
    {
      "cell_type": "code",
      "metadata": {
        "id": "di6kj13009Ja",
        "colab_type": "code",
        "outputId": "75a448a3-6248-4197-ce57-de5ac4a573f6",
        "colab": {
          "base_uri": "https://localhost:8080/",
          "height": 34
        }
      },
      "source": [
        "print(test_features.shape, test_labels.shape, predict_DNA.shape)"
      ],
      "execution_count": 71,
      "outputs": [
        {
          "output_type": "stream",
          "text": [
            "(132620, 76, 4) (132620, 2) (132620, 2)\n"
          ],
          "name": "stdout"
        }
      ]
    },
    {
      "cell_type": "code",
      "metadata": {
        "id": "m9obaS1yz5RF",
        "colab_type": "code",
        "outputId": "3e6d6c88-f898-48e7-979c-67f4734556f6",
        "colab": {
          "base_uri": "https://localhost:8080/",
          "height": 85
        }
      },
      "source": [
        "plt.figure(figsize = (10,8))\n",
        "cm = confusion_matrix(np.argmax(test_labels, axis = 1), np.argmax(predict_DNA, axis = 1))\n",
        "print('Confusion matrix:\\n', cm)"
      ],
      "execution_count": 72,
      "outputs": [
        {
          "output_type": "stream",
          "text": [
            "Confusion matrix:\n",
            " [[52645 13583]\n",
            " [ 8258 58134]]\n"
          ],
          "name": "stdout"
        },
        {
          "output_type": "display_data",
          "data": {
            "text/plain": [
              "<Figure size 720x576 with 0 Axes>"
            ]
          },
          "metadata": {
            "tags": []
          }
        }
      ]
    },
    {
      "cell_type": "code",
      "metadata": {
        "id": "IXhvlQL0CxLi",
        "colab_type": "code",
        "colab": {
          "base_uri": "https://localhost:8080/",
          "height": 366
        },
        "outputId": "c425f476-dad0-4f43-8cb7-d57adfee918d"
      },
      "source": [
        "cm = cm.astype('float') / cm.sum(axis = 1)[:, np.newaxis]\n",
        "plt.imshow(cm, cmap = plt.cm.Blues)\n",
        "plt.title('Normolized confiusion matrix')\n",
        "plt.colorbar()\n",
        "plt.xlabel('True label')\n",
        "plt.ylabel('Predicted label')\n",
        "plt.xticks([0,1]);plt.yticks([0,1])\n",
        "plt.grid('off')\n",
        "for i,j in itertools.product(range(cm.shape[0]), range(cm.shape[1])):\n",
        "    plt.text(j,i, f'{np.round(cm[i,j], 2)}',\n",
        "    horizontalalignment = 'center',\n",
        "    color = 'white' if cm[i,j] > 0.5 else 'black')\n",
        "plt.show()"
      ],
      "execution_count": 76,
      "outputs": [
        {
          "output_type": "stream",
          "text": [
            "/usr/local/lib/python3.6/dist-packages/matplotlib/cbook/__init__.py:424: MatplotlibDeprecationWarning: \n",
            "Passing one of 'on', 'true', 'off', 'false' as a boolean is deprecated; use an actual boolean (True/False) instead.\n",
            "  warn_deprecated(\"2.2\", \"Passing one of 'on', 'true', 'off', 'false' as a \"\n"
          ],
          "name": "stderr"
        },
        {
          "output_type": "display_data",
          "data": {
            "image/png": "[encoded data removed]",
            "text/plain": [
              "<Figure size 432x288 with 2 Axes>"
            ]
          },
          "metadata": {
            "tags": []
          }
        }
      ]
    },
    {
      "cell_type": "code",
      "metadata": {
        "id": "gnASe73OC5Qm",
        "colab_type": "code",
        "colab": {}
      },
      "source": [
        "import tensorflow.keras.backend as K"
      ],
      "execution_count": 0,
      "outputs": []
    },
    {
      "cell_type": "code",
      "metadata": {
        "id": "viDxA7rkGBB2",
        "colab_type": "code",
        "colab": {}
      },
      "source": [
        "def compute_salient_bases(model, x):\n",
        "    input_tensors = [model.input]\n",
        "    gradients = model.optimizer.get_gradients(model.output[0][1], model.input)\n",
        "    compute_gradients = K.function(inputs = input_tensors, outputs = gradients)\n",
        "    \n",
        "    x_value = np.expand_dims(x, axis=0)\n",
        "    gradients = compute_gradients([x_value])[0][0]\n",
        "    sal = np.clip(np.sum(np.multiply(gradients,x), axis=1),a_min=0, a_max=None)\n",
        "    return sal"
      ],
      "execution_count": 0,
      "outputs": []
    },
    {
      "cell_type": "code",
      "metadata": {
        "id": "kHPgmVM6GLWR",
        "colab_type": "code",
        "colab": {}
      },
      "source": [
        "sequence_index = 12\n",
        "K.set_learning_phase(1) #set learning phase\n",
        "sal = compute_salient_bases(tpu_model, input_features[sequence_index])\n",
        "\n",
        "plt.figure(figsize=[16,5])\n",
        "barlist = plt.bar(np.arange(len(sal)), sal)\n",
        "[barlist[i].set_color('C1') for i in range(0,6)]\n",
        "[barlist[j].set_color('C1') for j in range(71,76)]\n",
        "plt.xlabel('Bases')\n",
        "plt.ylabel('Magnitude of saliency values')\n",
        "plt.xticks(np.arange(len(sal)), list(sequences[sequence_index]));\n",
        "plt.title('Saliency map for bases in one of the ancient sequences'\n",
        "          ' (orange indicates the informative bases in motif)');\n",
        "plt.show()"
      ],
      "execution_count": 0,
      "outputs": []
    }
  ]
}